{
 "cells": [
  {
   "cell_type": "markdown",
   "metadata": {},
   "source": [
    "### Test archivo Rita"
   ]
  },
  {
   "cell_type": "code",
   "execution_count": 58,
   "metadata": {},
   "outputs": [],
   "source": [
    "import os              # This provides several system utilities\n",
    "import pandas as pd    # This is the workhorse of data munging in Python\n",
    "import matplotlib.pyplot as plt\n",
    "#import seaborn as sns  # This allows us to easily and beautifully plot\n",
    "\n",
    "# This ensures visualizations are plotted inside the notebook\n",
    "%matplotlib inline"
   ]
  },
  {
   "cell_type": "code",
   "execution_count": 59,
   "metadata": {},
   "outputs": [
    {
     "data": {
      "text/html": [
       "<div>\n",
       "<style scoped>\n",
       "    .dataframe tbody tr th:only-of-type {\n",
       "        vertical-align: middle;\n",
       "    }\n",
       "\n",
       "    .dataframe tbody tr th {\n",
       "        vertical-align: top;\n",
       "    }\n",
       "\n",
       "    .dataframe thead th {\n",
       "        text-align: right;\n",
       "    }\n",
       "</style>\n",
       "<table border=\"1\" class=\"dataframe\">\n",
       "  <thead>\n",
       "    <tr style=\"text-align: right;\">\n",
       "      <th></th>\n",
       "      <th>long</th>\n",
       "      <th>lat</th>\n",
       "      <th>yr</th>\n",
       "      <th>mon</th>\n",
       "      <th>day</th>\n",
       "      <th>temp</th>\n",
       "      <th>rh</th>\n",
       "      <th>ws</th>\n",
       "      <th>prec</th>\n",
       "    </tr>\n",
       "  </thead>\n",
       "  <tbody>\n",
       "    <tr>\n",
       "      <th>0</th>\n",
       "      <td>-5.55</td>\n",
       "      <td>36.04</td>\n",
       "      <td>2030</td>\n",
       "      <td>1</td>\n",
       "      <td>1</td>\n",
       "      <td>15.26</td>\n",
       "      <td>85.96</td>\n",
       "      <td>12.57</td>\n",
       "      <td>1.62</td>\n",
       "    </tr>\n",
       "    <tr>\n",
       "      <th>1</th>\n",
       "      <td>-5.55</td>\n",
       "      <td>36.04</td>\n",
       "      <td>2030</td>\n",
       "      <td>1</td>\n",
       "      <td>2</td>\n",
       "      <td>14.33</td>\n",
       "      <td>84.18</td>\n",
       "      <td>10.88</td>\n",
       "      <td>1.27</td>\n",
       "    </tr>\n",
       "    <tr>\n",
       "      <th>2</th>\n",
       "      <td>-5.55</td>\n",
       "      <td>36.04</td>\n",
       "      <td>2030</td>\n",
       "      <td>1</td>\n",
       "      <td>3</td>\n",
       "      <td>14.22</td>\n",
       "      <td>84.15</td>\n",
       "      <td>10.07</td>\n",
       "      <td>1.53</td>\n",
       "    </tr>\n",
       "    <tr>\n",
       "      <th>3</th>\n",
       "      <td>-5.55</td>\n",
       "      <td>36.04</td>\n",
       "      <td>2030</td>\n",
       "      <td>1</td>\n",
       "      <td>4</td>\n",
       "      <td>14.11</td>\n",
       "      <td>84.81</td>\n",
       "      <td>9.09</td>\n",
       "      <td>3.63</td>\n",
       "    </tr>\n",
       "    <tr>\n",
       "      <th>4</th>\n",
       "      <td>-5.44</td>\n",
       "      <td>36.04</td>\n",
       "      <td>2030</td>\n",
       "      <td>1</td>\n",
       "      <td>1</td>\n",
       "      <td>14.39</td>\n",
       "      <td>85.14</td>\n",
       "      <td>9.28</td>\n",
       "      <td>6.17</td>\n",
       "    </tr>\n",
       "    <tr>\n",
       "      <th>5</th>\n",
       "      <td>-5.44</td>\n",
       "      <td>36.04</td>\n",
       "      <td>2030</td>\n",
       "      <td>1</td>\n",
       "      <td>2</td>\n",
       "      <td>15.12</td>\n",
       "      <td>84.46</td>\n",
       "      <td>11.29</td>\n",
       "      <td>1.61</td>\n",
       "    </tr>\n",
       "    <tr>\n",
       "      <th>6</th>\n",
       "      <td>-5.44</td>\n",
       "      <td>36.04</td>\n",
       "      <td>2030</td>\n",
       "      <td>1</td>\n",
       "      <td>3</td>\n",
       "      <td>14.58</td>\n",
       "      <td>83.53</td>\n",
       "      <td>9.77</td>\n",
       "      <td>1.25</td>\n",
       "    </tr>\n",
       "    <tr>\n",
       "      <th>7</th>\n",
       "      <td>-5.44</td>\n",
       "      <td>36.04</td>\n",
       "      <td>2030</td>\n",
       "      <td>1</td>\n",
       "      <td>4</td>\n",
       "      <td>14.19</td>\n",
       "      <td>83.31</td>\n",
       "      <td>8.53</td>\n",
       "      <td>0.61</td>\n",
       "    </tr>\n",
       "  </tbody>\n",
       "</table>\n",
       "</div>"
      ],
      "text/plain": [
       "   long    lat    yr  mon  day   temp     rh     ws  prec\n",
       "0 -5.55  36.04  2030    1    1  15.26  85.96  12.57  1.62\n",
       "1 -5.55  36.04  2030    1    2  14.33  84.18  10.88  1.27\n",
       "2 -5.55  36.04  2030    1    3  14.22  84.15  10.07  1.53\n",
       "3 -5.55  36.04  2030    1    4  14.11  84.81   9.09  3.63\n",
       "4 -5.44  36.04  2030    1    1  14.39  85.14   9.28  6.17\n",
       "5 -5.44  36.04  2030    1    2  15.12  84.46  11.29  1.61\n",
       "6 -5.44  36.04  2030    1    3  14.58  83.53   9.77  1.25\n",
       "7 -5.44  36.04  2030    1    4  14.19  83.31   8.53  0.61"
      ]
     },
     "execution_count": 59,
     "metadata": {},
     "output_type": "execute_result"
    }
   ],
   "source": [
    "f = 'rita.csv'    # Path to file containing the file\n",
    "df = pd.read_csv(f,delimiter=';')    # Read csv file with comma sepparation\n",
    "df.tail(10)"
   ]
  },
  {
   "cell_type": "code",
   "execution_count": 60,
   "metadata": {},
   "outputs": [
    {
     "data": {
      "text/html": [
       "<div>\n",
       "<style scoped>\n",
       "    .dataframe tbody tr th:only-of-type {\n",
       "        vertical-align: middle;\n",
       "    }\n",
       "\n",
       "    .dataframe tbody tr th {\n",
       "        vertical-align: top;\n",
       "    }\n",
       "\n",
       "    .dataframe thead th {\n",
       "        text-align: right;\n",
       "    }\n",
       "</style>\n",
       "<table border=\"1\" class=\"dataframe\">\n",
       "  <thead>\n",
       "    <tr style=\"text-align: right;\">\n",
       "      <th></th>\n",
       "      <th>long</th>\n",
       "      <th>lat</th>\n",
       "      <th>yr</th>\n",
       "      <th>mon</th>\n",
       "      <th>day</th>\n",
       "      <th>temp</th>\n",
       "      <th>rh</th>\n",
       "      <th>ws</th>\n",
       "      <th>prec</th>\n",
       "    </tr>\n",
       "  </thead>\n",
       "  <tbody>\n",
       "    <tr>\n",
       "      <th>count</th>\n",
       "      <td>8.000000</td>\n",
       "      <td>8.00</td>\n",
       "      <td>8.0</td>\n",
       "      <td>8.0</td>\n",
       "      <td>8.000000</td>\n",
       "      <td>8.000000</td>\n",
       "      <td>8.000000</td>\n",
       "      <td>8.000000</td>\n",
       "      <td>8.000000</td>\n",
       "    </tr>\n",
       "    <tr>\n",
       "      <th>mean</th>\n",
       "      <td>-5.495000</td>\n",
       "      <td>36.04</td>\n",
       "      <td>2030.0</td>\n",
       "      <td>1.0</td>\n",
       "      <td>2.500000</td>\n",
       "      <td>14.525000</td>\n",
       "      <td>84.442500</td>\n",
       "      <td>10.185000</td>\n",
       "      <td>2.211250</td>\n",
       "    </tr>\n",
       "    <tr>\n",
       "      <th>std</th>\n",
       "      <td>0.058797</td>\n",
       "      <td>0.00</td>\n",
       "      <td>0.0</td>\n",
       "      <td>0.0</td>\n",
       "      <td>1.195229</td>\n",
       "      <td>0.436054</td>\n",
       "      <td>0.861423</td>\n",
       "      <td>1.327447</td>\n",
       "      <td>1.821839</td>\n",
       "    </tr>\n",
       "    <tr>\n",
       "      <th>min</th>\n",
       "      <td>-5.550000</td>\n",
       "      <td>36.04</td>\n",
       "      <td>2030.0</td>\n",
       "      <td>1.0</td>\n",
       "      <td>1.000000</td>\n",
       "      <td>14.110000</td>\n",
       "      <td>83.310000</td>\n",
       "      <td>8.530000</td>\n",
       "      <td>0.610000</td>\n",
       "    </tr>\n",
       "    <tr>\n",
       "      <th>25%</th>\n",
       "      <td>-5.550000</td>\n",
       "      <td>36.04</td>\n",
       "      <td>2030.0</td>\n",
       "      <td>1.0</td>\n",
       "      <td>1.750000</td>\n",
       "      <td>14.212500</td>\n",
       "      <td>83.995000</td>\n",
       "      <td>9.232500</td>\n",
       "      <td>1.265000</td>\n",
       "    </tr>\n",
       "    <tr>\n",
       "      <th>50%</th>\n",
       "      <td>-5.495000</td>\n",
       "      <td>36.04</td>\n",
       "      <td>2030.0</td>\n",
       "      <td>1.0</td>\n",
       "      <td>2.500000</td>\n",
       "      <td>14.360000</td>\n",
       "      <td>84.320000</td>\n",
       "      <td>9.920000</td>\n",
       "      <td>1.570000</td>\n",
       "    </tr>\n",
       "    <tr>\n",
       "      <th>75%</th>\n",
       "      <td>-5.440000</td>\n",
       "      <td>36.04</td>\n",
       "      <td>2030.0</td>\n",
       "      <td>1.0</td>\n",
       "      <td>3.250000</td>\n",
       "      <td>14.715000</td>\n",
       "      <td>84.892500</td>\n",
       "      <td>10.982500</td>\n",
       "      <td>2.122500</td>\n",
       "    </tr>\n",
       "    <tr>\n",
       "      <th>max</th>\n",
       "      <td>-5.440000</td>\n",
       "      <td>36.04</td>\n",
       "      <td>2030.0</td>\n",
       "      <td>1.0</td>\n",
       "      <td>4.000000</td>\n",
       "      <td>15.260000</td>\n",
       "      <td>85.960000</td>\n",
       "      <td>12.570000</td>\n",
       "      <td>6.170000</td>\n",
       "    </tr>\n",
       "  </tbody>\n",
       "</table>\n",
       "</div>"
      ],
      "text/plain": [
       "           long    lat      yr  mon       day       temp         rh  \\\n",
       "count  8.000000   8.00     8.0  8.0  8.000000   8.000000   8.000000   \n",
       "mean  -5.495000  36.04  2030.0  1.0  2.500000  14.525000  84.442500   \n",
       "std    0.058797   0.00     0.0  0.0  1.195229   0.436054   0.861423   \n",
       "min   -5.550000  36.04  2030.0  1.0  1.000000  14.110000  83.310000   \n",
       "25%   -5.550000  36.04  2030.0  1.0  1.750000  14.212500  83.995000   \n",
       "50%   -5.495000  36.04  2030.0  1.0  2.500000  14.360000  84.320000   \n",
       "75%   -5.440000  36.04  2030.0  1.0  3.250000  14.715000  84.892500   \n",
       "max   -5.440000  36.04  2030.0  1.0  4.000000  15.260000  85.960000   \n",
       "\n",
       "              ws      prec  \n",
       "count   8.000000  8.000000  \n",
       "mean   10.185000  2.211250  \n",
       "std     1.327447  1.821839  \n",
       "min     8.530000  0.610000  \n",
       "25%     9.232500  1.265000  \n",
       "50%     9.920000  1.570000  \n",
       "75%    10.982500  2.122500  \n",
       "max    12.570000  6.170000  "
      ]
     },
     "execution_count": 60,
     "metadata": {},
     "output_type": "execute_result"
    }
   ],
   "source": [
    "df.describe()"
   ]
  },
  {
   "cell_type": "code",
   "execution_count": 61,
   "metadata": {},
   "outputs": [
    {
     "data": {
      "text/plain": [
       "Index(['long', 'lat', 'yr', 'mon', 'day', 'temp', 'rh', 'ws', 'prec'], dtype='object')"
      ]
     },
     "execution_count": 61,
     "metadata": {},
     "output_type": "execute_result"
    }
   ],
   "source": [
    "df.columns"
   ]
  },
  {
   "cell_type": "code",
   "execution_count": 62,
   "metadata": {},
   "outputs": [],
   "source": [
    "df=df.groupby([\"lat\",\"long\"])[\"temp\"].mean()"
   ]
  },
  {
   "cell_type": "code",
   "execution_count": 63,
   "metadata": {},
   "outputs": [
    {
     "data": {
      "text/plain": [
       "<bound method NDFrame.tail of lat    long \n",
       "36.04  -5.55    14.48\n",
       "       -5.44    14.57\n",
       "Name: temp, dtype: float64>"
      ]
     },
     "execution_count": 63,
     "metadata": {},
     "output_type": "execute_result"
    }
   ],
   "source": [
    "df.tail"
   ]
  },
  {
   "cell_type": "code",
   "execution_count": 64,
   "metadata": {},
   "outputs": [],
   "source": [
    "df.to_csv('ritamodif.csv', index=True)"
   ]
  },
  {
   "cell_type": "code",
   "execution_count": 66,
   "metadata": {},
   "outputs": [
    {
     "data": {
      "text/plain": [
       "[<shapely.geometry.point.Point at 0x7f89da1062d0>,\n",
       " <shapely.geometry.point.Point at 0x7f89e1e4ae10>,\n",
       " <shapely.geometry.point.Point at 0x7f89da313d90>]"
      ]
     },
     "execution_count": 66,
     "metadata": {},
     "output_type": "execute_result"
    }
   ],
   "source": [
    "import geopandas as gpd\n",
    "from shapely.geometry import Point, Polygon\n",
    "f = 'rita.csv'    # Path to file containing the file\n",
    "df = pd.read_csv(f,delimiter=';')    # Read csv file with comma sepparation\n",
    "geometry=[Point(xy) for xy in zip(df.lat,df.long)]\n",
    "geometry[:3]"
   ]
  },
  {
   "cell_type": "code",
   "execution_count": 67,
   "metadata": {},
   "outputs": [],
   "source": [
    "geo_df=gpd.GeoDataFrame(df, geometry=geometry)"
   ]
  },
  {
   "cell_type": "code",
   "execution_count": 68,
   "metadata": {},
   "outputs": [
    {
     "data": {
      "text/plain": [
       "<bound method NDFrame.tail of    long    lat    yr  mon  day   temp     rh     ws  prec  \\\n",
       "0 -5.55  36.04  2030    1    1  15.26  85.96  12.57  1.62   \n",
       "1 -5.55  36.04  2030    1    2  14.33  84.18  10.88  1.27   \n",
       "2 -5.55  36.04  2030    1    3  14.22  84.15  10.07  1.53   \n",
       "3 -5.55  36.04  2030    1    4  14.11  84.81   9.09  3.63   \n",
       "4 -5.44  36.04  2030    1    1  14.39  85.14   9.28  6.17   \n",
       "5 -5.44  36.04  2030    1    2  15.12  84.46  11.29  1.61   \n",
       "6 -5.44  36.04  2030    1    3  14.58  83.53   9.77  1.25   \n",
       "7 -5.44  36.04  2030    1    4  14.19  83.31   8.53  0.61   \n",
       "\n",
       "                    geometry  \n",
       "0  POINT (36.04000 -5.55000)  \n",
       "1  POINT (36.04000 -5.55000)  \n",
       "2  POINT (36.04000 -5.55000)  \n",
       "3  POINT (36.04000 -5.55000)  \n",
       "4  POINT (36.04000 -5.44000)  \n",
       "5  POINT (36.04000 -5.44000)  \n",
       "6  POINT (36.04000 -5.44000)  \n",
       "7  POINT (36.04000 -5.44000)  >"
      ]
     },
     "execution_count": 68,
     "metadata": {},
     "output_type": "execute_result"
    }
   ],
   "source": [
    "geo_df.tail"
   ]
  },
  {
   "cell_type": "code",
   "execution_count": 69,
   "metadata": {},
   "outputs": [
    {
     "data": {
      "text/plain": [
       "0    85.96\n",
       "1    84.18\n",
       "2    84.15\n",
       "3    84.81\n",
       "4    85.14\n",
       "5    84.46\n",
       "6    83.53\n",
       "7    83.31\n",
       "Name: rh, dtype: float64"
      ]
     },
     "execution_count": 69,
     "metadata": {},
     "output_type": "execute_result"
    }
   ],
   "source": [
    "geo_df.rh"
   ]
  },
  {
   "cell_type": "code",
   "execution_count": null,
   "metadata": {},
   "outputs": [],
   "source": []
  }
 ],
 "metadata": {
  "anaconda-cloud": {},
  "kernelspec": {
   "display_name": "Python 3",
   "language": "python",
   "name": "python3"
  },
  "language_info": {
   "codemirror_mode": {
    "name": "ipython",
    "version": 3
   },
   "file_extension": ".py",
   "mimetype": "text/x-python",
   "name": "python",
   "nbconvert_exporter": "python",
   "pygments_lexer": "ipython3",
   "version": "3.7.7"
  }
 },
 "nbformat": 4,
 "nbformat_minor": 4
}
