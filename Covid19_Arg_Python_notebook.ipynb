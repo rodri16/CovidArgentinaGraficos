{
 "cells": [
  {
   "cell_type": "markdown",
   "metadata": {},
   "source": [
    "# COVID-19 Argentina por RJC"
   ]
  },
  {
   "cell_type": "code",
   "execution_count": 1,
   "metadata": {},
   "outputs": [],
   "source": [
    "import os              # This provides several system utilities\n",
    "import pandas as pd    # This is the workhorse of data munging in Python\n",
    "import matplotlib.pyplot as plt\n",
    "import seaborn as sns  # This allows us to easily and beautifully plot\n",
    "\n",
    "# This ensures visualizations are plotted inside the notebook\n",
    "%matplotlib inline"
   ]
  },
  {
   "cell_type": "markdown",
   "metadata": {},
   "source": [
    "### Abro archivo con los datos del gobierno, Tasa diaria de contagios y muertos, total de recuperados y de tests"
   ]
  },
  {
   "cell_type": "code",
   "execution_count": 2,
   "metadata": {},
   "outputs": [
    {
     "data": {
      "text/html": [
       "<div>\n",
       "<style scoped>\n",
       "    .dataframe tbody tr th:only-of-type {\n",
       "        vertical-align: middle;\n",
       "    }\n",
       "\n",
       "    .dataframe tbody tr th {\n",
       "        vertical-align: top;\n",
       "    }\n",
       "\n",
       "    .dataframe thead th {\n",
       "        text-align: right;\n",
       "    }\n",
       "</style>\n",
       "<table border=\"1\" class=\"dataframe\">\n",
       "  <thead>\n",
       "    <tr style=\"text-align: right;\">\n",
       "      <th></th>\n",
       "      <th>Fecha</th>\n",
       "      <th>Contagios</th>\n",
       "      <th>Muertos</th>\n",
       "      <th>Recuperados_tot</th>\n",
       "      <th>Tests</th>\n",
       "    </tr>\n",
       "  </thead>\n",
       "  <tbody>\n",
       "    <tr>\n",
       "      <th>51</th>\n",
       "      <td>4/25/2020</td>\n",
       "      <td>173</td>\n",
       "      <td>9</td>\n",
       "      <td>1030.0</td>\n",
       "      <td>47406.0</td>\n",
       "    </tr>\n",
       "    <tr>\n",
       "      <th>52</th>\n",
       "      <td>4/26/2020</td>\n",
       "      <td>112</td>\n",
       "      <td>7</td>\n",
       "      <td>1107.0</td>\n",
       "      <td>49905.0</td>\n",
       "    </tr>\n",
       "    <tr>\n",
       "      <th>53</th>\n",
       "      <td>4/27/2020</td>\n",
       "      <td>111</td>\n",
       "      <td>5</td>\n",
       "      <td>1140.0</td>\n",
       "      <td>51900.0</td>\n",
       "    </tr>\n",
       "    <tr>\n",
       "      <th>54</th>\n",
       "      <td>4/28/2020</td>\n",
       "      <td>124</td>\n",
       "      <td>10</td>\n",
       "      <td>1162.0</td>\n",
       "      <td>53600.0</td>\n",
       "    </tr>\n",
       "    <tr>\n",
       "      <th>55</th>\n",
       "      <td>4/29/2020</td>\n",
       "      <td>158</td>\n",
       "      <td>7</td>\n",
       "      <td>1192.0</td>\n",
       "      <td>56058.0</td>\n",
       "    </tr>\n",
       "    <tr>\n",
       "      <th>56</th>\n",
       "      <td>4/30/2020</td>\n",
       "      <td>143</td>\n",
       "      <td>4</td>\n",
       "      <td>1256.0</td>\n",
       "      <td>58685.0</td>\n",
       "    </tr>\n",
       "    <tr>\n",
       "      <th>57</th>\n",
       "      <td>5/1/2020</td>\n",
       "      <td>104</td>\n",
       "      <td>11</td>\n",
       "      <td>1292.0</td>\n",
       "      <td>61530.0</td>\n",
       "    </tr>\n",
       "    <tr>\n",
       "      <th>58</th>\n",
       "      <td>5/2/2020</td>\n",
       "      <td>149</td>\n",
       "      <td>8</td>\n",
       "      <td>1320.0</td>\n",
       "      <td>63866.0</td>\n",
       "    </tr>\n",
       "    <tr>\n",
       "      <th>59</th>\n",
       "      <td>5/3/2020</td>\n",
       "      <td>102</td>\n",
       "      <td>9</td>\n",
       "      <td>1354.0</td>\n",
       "      <td>65813.0</td>\n",
       "    </tr>\n",
       "    <tr>\n",
       "      <th>60</th>\n",
       "      <td>5/4/2020</td>\n",
       "      <td>104</td>\n",
       "      <td>14</td>\n",
       "      <td>1442.0</td>\n",
       "      <td>67920.0</td>\n",
       "    </tr>\n",
       "  </tbody>\n",
       "</table>\n",
       "</div>"
      ],
      "text/plain": [
       "        Fecha  Contagios  Muertos  Recuperados_tot    Tests\n",
       "51  4/25/2020        173        9           1030.0  47406.0\n",
       "52  4/26/2020        112        7           1107.0  49905.0\n",
       "53  4/27/2020        111        5           1140.0  51900.0\n",
       "54  4/28/2020        124       10           1162.0  53600.0\n",
       "55  4/29/2020        158        7           1192.0  56058.0\n",
       "56  4/30/2020        143        4           1256.0  58685.0\n",
       "57   5/1/2020        104       11           1292.0  61530.0\n",
       "58   5/2/2020        149        8           1320.0  63866.0\n",
       "59   5/3/2020        102        9           1354.0  65813.0\n",
       "60   5/4/2020        104       14           1442.0  67920.0"
      ]
     },
     "execution_count": 2,
     "metadata": {},
     "output_type": "execute_result"
    }
   ],
   "source": [
    "f = 'Covid19_Arg.txt'    # Path to file containing the file\n",
    "df = pd.read_csv(f)    # Read csv file with comma sepparation\n",
    "df.tail(10)"
   ]
  },
  {
   "cell_type": "markdown",
   "metadata": {},
   "source": [
    "### Separo por comas y indexto los dias a la tabla para graficar facilmente"
   ]
  },
  {
   "cell_type": "code",
   "execution_count": 3,
   "metadata": {},
   "outputs": [
    {
     "data": {
      "text/html": [
       "<div>\n",
       "<style scoped>\n",
       "    .dataframe tbody tr th:only-of-type {\n",
       "        vertical-align: middle;\n",
       "    }\n",
       "\n",
       "    .dataframe tbody tr th {\n",
       "        vertical-align: top;\n",
       "    }\n",
       "\n",
       "    .dataframe thead th {\n",
       "        text-align: right;\n",
       "    }\n",
       "</style>\n",
       "<table border=\"1\" class=\"dataframe\">\n",
       "  <thead>\n",
       "    <tr style=\"text-align: right;\">\n",
       "      <th></th>\n",
       "      <th>Contagios</th>\n",
       "      <th>Muertos</th>\n",
       "      <th>Recuperados_tot</th>\n",
       "      <th>Tests</th>\n",
       "    </tr>\n",
       "    <tr>\n",
       "      <th>Fecha</th>\n",
       "      <th></th>\n",
       "      <th></th>\n",
       "      <th></th>\n",
       "      <th></th>\n",
       "    </tr>\n",
       "  </thead>\n",
       "  <tbody>\n",
       "    <tr>\n",
       "      <th>2020-04-25</th>\n",
       "      <td>173</td>\n",
       "      <td>9</td>\n",
       "      <td>1030.0</td>\n",
       "      <td>47406.0</td>\n",
       "    </tr>\n",
       "    <tr>\n",
       "      <th>2020-04-26</th>\n",
       "      <td>112</td>\n",
       "      <td>7</td>\n",
       "      <td>1107.0</td>\n",
       "      <td>49905.0</td>\n",
       "    </tr>\n",
       "    <tr>\n",
       "      <th>2020-04-27</th>\n",
       "      <td>111</td>\n",
       "      <td>5</td>\n",
       "      <td>1140.0</td>\n",
       "      <td>51900.0</td>\n",
       "    </tr>\n",
       "    <tr>\n",
       "      <th>2020-04-28</th>\n",
       "      <td>124</td>\n",
       "      <td>10</td>\n",
       "      <td>1162.0</td>\n",
       "      <td>53600.0</td>\n",
       "    </tr>\n",
       "    <tr>\n",
       "      <th>2020-04-29</th>\n",
       "      <td>158</td>\n",
       "      <td>7</td>\n",
       "      <td>1192.0</td>\n",
       "      <td>56058.0</td>\n",
       "    </tr>\n",
       "    <tr>\n",
       "      <th>2020-04-30</th>\n",
       "      <td>143</td>\n",
       "      <td>4</td>\n",
       "      <td>1256.0</td>\n",
       "      <td>58685.0</td>\n",
       "    </tr>\n",
       "    <tr>\n",
       "      <th>2020-05-01</th>\n",
       "      <td>104</td>\n",
       "      <td>11</td>\n",
       "      <td>1292.0</td>\n",
       "      <td>61530.0</td>\n",
       "    </tr>\n",
       "    <tr>\n",
       "      <th>2020-05-02</th>\n",
       "      <td>149</td>\n",
       "      <td>8</td>\n",
       "      <td>1320.0</td>\n",
       "      <td>63866.0</td>\n",
       "    </tr>\n",
       "    <tr>\n",
       "      <th>2020-05-03</th>\n",
       "      <td>102</td>\n",
       "      <td>9</td>\n",
       "      <td>1354.0</td>\n",
       "      <td>65813.0</td>\n",
       "    </tr>\n",
       "    <tr>\n",
       "      <th>2020-05-04</th>\n",
       "      <td>104</td>\n",
       "      <td>14</td>\n",
       "      <td>1442.0</td>\n",
       "      <td>67920.0</td>\n",
       "    </tr>\n",
       "  </tbody>\n",
       "</table>\n",
       "</div>"
      ],
      "text/plain": [
       "            Contagios  Muertos  Recuperados_tot    Tests\n",
       "Fecha                                                   \n",
       "2020-04-25        173        9           1030.0  47406.0\n",
       "2020-04-26        112        7           1107.0  49905.0\n",
       "2020-04-27        111        5           1140.0  51900.0\n",
       "2020-04-28        124       10           1162.0  53600.0\n",
       "2020-04-29        158        7           1192.0  56058.0\n",
       "2020-04-30        143        4           1256.0  58685.0\n",
       "2020-05-01        104       11           1292.0  61530.0\n",
       "2020-05-02        149        8           1320.0  63866.0\n",
       "2020-05-03        102        9           1354.0  65813.0\n",
       "2020-05-04        104       14           1442.0  67920.0"
      ]
     },
     "execution_count": 3,
     "metadata": {},
     "output_type": "execute_result"
    }
   ],
   "source": [
    "df.set_index(pd.DatetimeIndex(df['Fecha']),inplace=True)\n",
    "df.drop('Fecha', axis=1, inplace=True)\n",
    "#df['Recuperados_tot'] = pd.to_numeric(df['Recuperados_tot'])\n",
    "\n",
    "df.tail(10) #ultimos 10 valores"
   ]
  },
  {
   "cell_type": "markdown",
   "metadata": {},
   "source": [
    "### Calculo la tasa diaria de recuperados, activos y tests"
   ]
  },
  {
   "cell_type": "code",
   "execution_count": 4,
   "metadata": {},
   "outputs": [
    {
     "data": {
      "text/html": [
       "<div>\n",
       "<style scoped>\n",
       "    .dataframe tbody tr th:only-of-type {\n",
       "        vertical-align: middle;\n",
       "    }\n",
       "\n",
       "    .dataframe tbody tr th {\n",
       "        vertical-align: top;\n",
       "    }\n",
       "\n",
       "    .dataframe thead th {\n",
       "        text-align: right;\n",
       "    }\n",
       "</style>\n",
       "<table border=\"1\" class=\"dataframe\">\n",
       "  <thead>\n",
       "    <tr style=\"text-align: right;\">\n",
       "      <th></th>\n",
       "      <th>Contagios</th>\n",
       "      <th>Muertos</th>\n",
       "      <th>Recuperados_tot</th>\n",
       "      <th>Tests</th>\n",
       "      <th>Recuperados</th>\n",
       "      <th>Tests_diario</th>\n",
       "      <th>Activos</th>\n",
       "    </tr>\n",
       "    <tr>\n",
       "      <th>Fecha</th>\n",
       "      <th></th>\n",
       "      <th></th>\n",
       "      <th></th>\n",
       "      <th></th>\n",
       "      <th></th>\n",
       "      <th></th>\n",
       "      <th></th>\n",
       "    </tr>\n",
       "  </thead>\n",
       "  <tbody>\n",
       "    <tr>\n",
       "      <th>2020-04-25</th>\n",
       "      <td>173</td>\n",
       "      <td>9</td>\n",
       "      <td>1030.0</td>\n",
       "      <td>47406.0</td>\n",
       "      <td>54.0</td>\n",
       "      <td>2752.0</td>\n",
       "      <td>110.0</td>\n",
       "    </tr>\n",
       "    <tr>\n",
       "      <th>2020-04-26</th>\n",
       "      <td>112</td>\n",
       "      <td>7</td>\n",
       "      <td>1107.0</td>\n",
       "      <td>49905.0</td>\n",
       "      <td>77.0</td>\n",
       "      <td>2499.0</td>\n",
       "      <td>28.0</td>\n",
       "    </tr>\n",
       "    <tr>\n",
       "      <th>2020-04-27</th>\n",
       "      <td>111</td>\n",
       "      <td>5</td>\n",
       "      <td>1140.0</td>\n",
       "      <td>51900.0</td>\n",
       "      <td>33.0</td>\n",
       "      <td>1995.0</td>\n",
       "      <td>73.0</td>\n",
       "    </tr>\n",
       "    <tr>\n",
       "      <th>2020-04-28</th>\n",
       "      <td>124</td>\n",
       "      <td>10</td>\n",
       "      <td>1162.0</td>\n",
       "      <td>53600.0</td>\n",
       "      <td>22.0</td>\n",
       "      <td>1700.0</td>\n",
       "      <td>92.0</td>\n",
       "    </tr>\n",
       "    <tr>\n",
       "      <th>2020-04-29</th>\n",
       "      <td>158</td>\n",
       "      <td>7</td>\n",
       "      <td>1192.0</td>\n",
       "      <td>56058.0</td>\n",
       "      <td>30.0</td>\n",
       "      <td>2458.0</td>\n",
       "      <td>121.0</td>\n",
       "    </tr>\n",
       "    <tr>\n",
       "      <th>2020-04-30</th>\n",
       "      <td>143</td>\n",
       "      <td>4</td>\n",
       "      <td>1256.0</td>\n",
       "      <td>58685.0</td>\n",
       "      <td>64.0</td>\n",
       "      <td>2627.0</td>\n",
       "      <td>75.0</td>\n",
       "    </tr>\n",
       "    <tr>\n",
       "      <th>2020-05-01</th>\n",
       "      <td>104</td>\n",
       "      <td>11</td>\n",
       "      <td>1292.0</td>\n",
       "      <td>61530.0</td>\n",
       "      <td>36.0</td>\n",
       "      <td>2845.0</td>\n",
       "      <td>57.0</td>\n",
       "    </tr>\n",
       "    <tr>\n",
       "      <th>2020-05-02</th>\n",
       "      <td>149</td>\n",
       "      <td>8</td>\n",
       "      <td>1320.0</td>\n",
       "      <td>63866.0</td>\n",
       "      <td>28.0</td>\n",
       "      <td>2336.0</td>\n",
       "      <td>113.0</td>\n",
       "    </tr>\n",
       "    <tr>\n",
       "      <th>2020-05-03</th>\n",
       "      <td>102</td>\n",
       "      <td>9</td>\n",
       "      <td>1354.0</td>\n",
       "      <td>65813.0</td>\n",
       "      <td>34.0</td>\n",
       "      <td>1947.0</td>\n",
       "      <td>59.0</td>\n",
       "    </tr>\n",
       "    <tr>\n",
       "      <th>2020-05-04</th>\n",
       "      <td>104</td>\n",
       "      <td>14</td>\n",
       "      <td>1442.0</td>\n",
       "      <td>67920.0</td>\n",
       "      <td>88.0</td>\n",
       "      <td>2107.0</td>\n",
       "      <td>2.0</td>\n",
       "    </tr>\n",
       "  </tbody>\n",
       "</table>\n",
       "</div>"
      ],
      "text/plain": [
       "            Contagios  Muertos  Recuperados_tot    Tests  Recuperados  \\\n",
       "Fecha                                                                   \n",
       "2020-04-25        173        9           1030.0  47406.0         54.0   \n",
       "2020-04-26        112        7           1107.0  49905.0         77.0   \n",
       "2020-04-27        111        5           1140.0  51900.0         33.0   \n",
       "2020-04-28        124       10           1162.0  53600.0         22.0   \n",
       "2020-04-29        158        7           1192.0  56058.0         30.0   \n",
       "2020-04-30        143        4           1256.0  58685.0         64.0   \n",
       "2020-05-01        104       11           1292.0  61530.0         36.0   \n",
       "2020-05-02        149        8           1320.0  63866.0         28.0   \n",
       "2020-05-03        102        9           1354.0  65813.0         34.0   \n",
       "2020-05-04        104       14           1442.0  67920.0         88.0   \n",
       "\n",
       "            Tests_diario  Activos  \n",
       "Fecha                              \n",
       "2020-04-25        2752.0    110.0  \n",
       "2020-04-26        2499.0     28.0  \n",
       "2020-04-27        1995.0     73.0  \n",
       "2020-04-28        1700.0     92.0  \n",
       "2020-04-29        2458.0    121.0  \n",
       "2020-04-30        2627.0     75.0  \n",
       "2020-05-01        2845.0     57.0  \n",
       "2020-05-02        2336.0    113.0  \n",
       "2020-05-03        1947.0     59.0  \n",
       "2020-05-04        2107.0      2.0  "
      ]
     },
     "execution_count": 4,
     "metadata": {},
     "output_type": "execute_result"
    }
   ],
   "source": [
    "df['Recuperados'] = df['Recuperados_tot'].diff()\n",
    "df['Tests_diario'] = df['Tests'].diff()\n",
    "df['Activos']=df['Contagios']-df['Recuperados']-df['Muertos']\n",
    "df['Activos'] = pd.to_numeric(df['Activos'])\n",
    "df.tail(10)"
   ]
  },
  {
   "cell_type": "markdown",
   "metadata": {},
   "source": [
    "### Calculo el total de contagios, muertos y activos"
   ]
  },
  {
   "cell_type": "code",
   "execution_count": 5,
   "metadata": {},
   "outputs": [
    {
     "data": {
      "text/html": [
       "<div>\n",
       "<style scoped>\n",
       "    .dataframe tbody tr th:only-of-type {\n",
       "        vertical-align: middle;\n",
       "    }\n",
       "\n",
       "    .dataframe tbody tr th {\n",
       "        vertical-align: top;\n",
       "    }\n",
       "\n",
       "    .dataframe thead th {\n",
       "        text-align: right;\n",
       "    }\n",
       "</style>\n",
       "<table border=\"1\" class=\"dataframe\">\n",
       "  <thead>\n",
       "    <tr style=\"text-align: right;\">\n",
       "      <th></th>\n",
       "      <th>Contagios</th>\n",
       "      <th>Muertos</th>\n",
       "      <th>Recuperados_tot</th>\n",
       "      <th>Tests</th>\n",
       "      <th>Recuperados</th>\n",
       "      <th>Tests_diario</th>\n",
       "      <th>Activos</th>\n",
       "      <th>Contagios_tot</th>\n",
       "      <th>Muertos_tot</th>\n",
       "      <th>Activos_tot</th>\n",
       "    </tr>\n",
       "    <tr>\n",
       "      <th>Fecha</th>\n",
       "      <th></th>\n",
       "      <th></th>\n",
       "      <th></th>\n",
       "      <th></th>\n",
       "      <th></th>\n",
       "      <th></th>\n",
       "      <th></th>\n",
       "      <th></th>\n",
       "      <th></th>\n",
       "      <th></th>\n",
       "    </tr>\n",
       "  </thead>\n",
       "  <tbody>\n",
       "    <tr>\n",
       "      <th>2020-04-25</th>\n",
       "      <td>173</td>\n",
       "      <td>9</td>\n",
       "      <td>1,030</td>\n",
       "      <td>47,406</td>\n",
       "      <td>54</td>\n",
       "      <td>2,752</td>\n",
       "      <td>110</td>\n",
       "      <td>3780</td>\n",
       "      <td>185</td>\n",
       "      <td>2,565</td>\n",
       "    </tr>\n",
       "    <tr>\n",
       "      <th>2020-04-26</th>\n",
       "      <td>112</td>\n",
       "      <td>7</td>\n",
       "      <td>1,107</td>\n",
       "      <td>49,905</td>\n",
       "      <td>77</td>\n",
       "      <td>2,499</td>\n",
       "      <td>28</td>\n",
       "      <td>3892</td>\n",
       "      <td>192</td>\n",
       "      <td>2,593</td>\n",
       "    </tr>\n",
       "    <tr>\n",
       "      <th>2020-04-27</th>\n",
       "      <td>111</td>\n",
       "      <td>5</td>\n",
       "      <td>1,140</td>\n",
       "      <td>51,900</td>\n",
       "      <td>33</td>\n",
       "      <td>1,995</td>\n",
       "      <td>73</td>\n",
       "      <td>4003</td>\n",
       "      <td>197</td>\n",
       "      <td>2,666</td>\n",
       "    </tr>\n",
       "    <tr>\n",
       "      <th>2020-04-28</th>\n",
       "      <td>124</td>\n",
       "      <td>10</td>\n",
       "      <td>1,162</td>\n",
       "      <td>53,600</td>\n",
       "      <td>22</td>\n",
       "      <td>1,700</td>\n",
       "      <td>92</td>\n",
       "      <td>4127</td>\n",
       "      <td>207</td>\n",
       "      <td>2,758</td>\n",
       "    </tr>\n",
       "    <tr>\n",
       "      <th>2020-04-29</th>\n",
       "      <td>158</td>\n",
       "      <td>7</td>\n",
       "      <td>1,192</td>\n",
       "      <td>56,058</td>\n",
       "      <td>30</td>\n",
       "      <td>2,458</td>\n",
       "      <td>121</td>\n",
       "      <td>4285</td>\n",
       "      <td>214</td>\n",
       "      <td>2,879</td>\n",
       "    </tr>\n",
       "    <tr>\n",
       "      <th>2020-04-30</th>\n",
       "      <td>143</td>\n",
       "      <td>4</td>\n",
       "      <td>1,256</td>\n",
       "      <td>58,685</td>\n",
       "      <td>64</td>\n",
       "      <td>2,627</td>\n",
       "      <td>75</td>\n",
       "      <td>4428</td>\n",
       "      <td>218</td>\n",
       "      <td>2,954</td>\n",
       "    </tr>\n",
       "    <tr>\n",
       "      <th>2020-05-01</th>\n",
       "      <td>104</td>\n",
       "      <td>11</td>\n",
       "      <td>1,292</td>\n",
       "      <td>61,530</td>\n",
       "      <td>36</td>\n",
       "      <td>2,845</td>\n",
       "      <td>57</td>\n",
       "      <td>4532</td>\n",
       "      <td>229</td>\n",
       "      <td>3,011</td>\n",
       "    </tr>\n",
       "    <tr>\n",
       "      <th>2020-05-02</th>\n",
       "      <td>149</td>\n",
       "      <td>8</td>\n",
       "      <td>1,320</td>\n",
       "      <td>63,866</td>\n",
       "      <td>28</td>\n",
       "      <td>2,336</td>\n",
       "      <td>113</td>\n",
       "      <td>4681</td>\n",
       "      <td>237</td>\n",
       "      <td>3,124</td>\n",
       "    </tr>\n",
       "    <tr>\n",
       "      <th>2020-05-03</th>\n",
       "      <td>102</td>\n",
       "      <td>9</td>\n",
       "      <td>1,354</td>\n",
       "      <td>65,813</td>\n",
       "      <td>34</td>\n",
       "      <td>1,947</td>\n",
       "      <td>59</td>\n",
       "      <td>4783</td>\n",
       "      <td>246</td>\n",
       "      <td>3,183</td>\n",
       "    </tr>\n",
       "    <tr>\n",
       "      <th>2020-05-04</th>\n",
       "      <td>104</td>\n",
       "      <td>14</td>\n",
       "      <td>1,442</td>\n",
       "      <td>67,920</td>\n",
       "      <td>88</td>\n",
       "      <td>2,107</td>\n",
       "      <td>2</td>\n",
       "      <td>4887</td>\n",
       "      <td>260</td>\n",
       "      <td>3,185</td>\n",
       "    </tr>\n",
       "  </tbody>\n",
       "</table>\n",
       "</div>"
      ],
      "text/plain": [
       "            Contagios  Muertos  Recuperados_tot  Tests  Recuperados  \\\n",
       "Fecha                                                                 \n",
       "2020-04-25        173        9            1,030 47,406           54   \n",
       "2020-04-26        112        7            1,107 49,905           77   \n",
       "2020-04-27        111        5            1,140 51,900           33   \n",
       "2020-04-28        124       10            1,162 53,600           22   \n",
       "2020-04-29        158        7            1,192 56,058           30   \n",
       "2020-04-30        143        4            1,256 58,685           64   \n",
       "2020-05-01        104       11            1,292 61,530           36   \n",
       "2020-05-02        149        8            1,320 63,866           28   \n",
       "2020-05-03        102        9            1,354 65,813           34   \n",
       "2020-05-04        104       14            1,442 67,920           88   \n",
       "\n",
       "            Tests_diario  Activos  Contagios_tot  Muertos_tot  Activos_tot  \n",
       "Fecha                                                                       \n",
       "2020-04-25         2,752      110           3780          185        2,565  \n",
       "2020-04-26         2,499       28           3892          192        2,593  \n",
       "2020-04-27         1,995       73           4003          197        2,666  \n",
       "2020-04-28         1,700       92           4127          207        2,758  \n",
       "2020-04-29         2,458      121           4285          214        2,879  \n",
       "2020-04-30         2,627       75           4428          218        2,954  \n",
       "2020-05-01         2,845       57           4532          229        3,011  \n",
       "2020-05-02         2,336      113           4681          237        3,124  \n",
       "2020-05-03         1,947       59           4783          246        3,183  \n",
       "2020-05-04         2,107        2           4887          260        3,185  "
      ]
     },
     "execution_count": 5,
     "metadata": {},
     "output_type": "execute_result"
    }
   ],
   "source": [
    "df['Contagios_tot'] = df['Contagios'].cumsum()\n",
    "df['Muertos_tot'] = df['Muertos'].cumsum()\n",
    "df['Activos_tot']=df['Contagios_tot']-df['Recuperados_tot']-df['Muertos_tot']\n",
    "\n",
    "pd.options.display.float_format = '{:,.0f}'.format #en enteros sin coma\n",
    "df.tail(10)"
   ]
  },
  {
   "cell_type": "markdown",
   "metadata": {},
   "source": [
    "### Grafico de tasa diaria"
   ]
  },
  {
   "cell_type": "code",
   "execution_count": 6,
   "metadata": {},
   "outputs": [
    {
     "data": {
      "image/png": "[encoded data removed]",
      "text/plain": [
       "<Figure size 720x576 with 1 Axes>"
      ]
     },
     "metadata": {
      "needs_background": "light"
     },
     "output_type": "display_data"
    }
   ],
   "source": [
    "ax=df.plot(y=['Contagios','Recuperados','Muertos'], legend='true',style='-',grid='on',figsize=(10,8),linewidth=3, marker='o')\n",
    "\n",
    "plt.title('Covid-19 Argentina Tasa diaria',fontsize=14)\n",
    "plt.legend(['Contagios', 'Recuperados',\"Muertos\"],loc='upper left');\n",
    "plt.ylabel('Cantidad', fontsize=14)\n",
    "\n",
    "#agrega ultimo numero\n",
    "for var in (df.Contagios,df.Recuperados,df.Muertos):\n",
    "    plt.annotate('%d' % var.iloc[-1], xy=(1, var.iloc[-1]), xytext=(8, 0), \n",
    "                 xycoords=('axes fraction', 'data'), textcoords='offset points')\n",
    "\n",
    "#valor minimo eje y = 0\n",
    "plt.gca().set_ylim(bottom=0)\n",
    "\n",
    "\n",
    "#Salvo el grafico con la ultima fecha\n",
    "name='Graficos/TasaDiariaLine_'+df.index[-1].strftime(\"%d%b\")#str(df.index[-1])+'.png'\n",
    "plt.savefig(name)"
   ]
  },
  {
   "cell_type": "code",
   "execution_count": 7,
   "metadata": {
    "scrolled": true
   },
   "outputs": [
    {
     "data": {
      "image/png": "[encoded data removed]",
      "text/plain": [
       "<Figure size 720x576 with 1 Axes>"
      ]
     },
     "metadata": {
      "needs_background": "light"
     },
     "output_type": "display_data"
    }
   ],
   "source": [
    "#agrego los tests pero no se ve nada (mejor en logaritmico)\n",
    "ax=df.plot(y=['Contagios','Recuperados','Muertos','Tests_diario'], legend='true',style='-',grid='on',figsize=(10,8),linewidth=3, marker='o')\n",
    "\n",
    "plt.title('Covid-19 Argentina Tasa diaria',fontsize=14)\n",
    "plt.legend(['Contagios', 'Recuperados',\"Muertos\",\"Tests\"],loc='upper left');\n",
    "plt.ylabel('Cantidad', fontsize=14)\n",
    "\n",
    "#agrega ultimo numero\n",
    "for var in (df.Contagios,df.Recuperados,df.Muertos,df.Tests_diario):\n",
    "    plt.annotate('%d' % var.iloc[-1], xy=(1, var.iloc[-1]), xytext=(8, 0), \n",
    "                 xycoords=('axes fraction', 'data'), textcoords='offset points')\n",
    "    \n",
    "#valor mininmo en y = 0\n",
    "plt.gca().set_ylim(bottom=0)\n",
    "\n",
    "#salvo grafico\n",
    "name='Graficos/TasaDiariaFullLine_'+df.index[-1].strftime(\"%d%b\")#str(df.index[-1])+'.png'\n",
    "plt.savefig(name)"
   ]
  },
  {
   "cell_type": "markdown",
   "metadata": {},
   "source": [
    "### Grafico de barras de las tasas diarias (solo otra manera de verlo)"
   ]
  },
  {
   "cell_type": "code",
   "execution_count": 8,
   "metadata": {
    "scrolled": true
   },
   "outputs": [
    {
     "data": {
      "image/png": "[encoded data removed]",
      "text/plain": [
       "<Figure size 720x576 with 1 Axes>"
      ]
     },
     "metadata": {
      "needs_background": "light"
     },
     "output_type": "display_data"
    }
   ],
   "source": [
    "ax=df.plot.bar(y=['Contagios','Recuperados','Muertos'],color=['blue','green','red'],width=0.8, legend='true',figsize=(10,8))\n",
    "#arreglo el formato de la fecha\n",
    "plt.gca().xaxis.set_major_formatter(plt.FixedFormatter(df.index.to_series().dt.strftime(\"%d %b\")))#arregla la fecha\n",
    "#agrego grid\n",
    "plt.grid(axis='y')\n",
    "plt.title('Covid-19 Argentina Tasa diaria',fontsize=14)\n",
    "plt.ylabel('Cantidad', fontsize=14)\n",
    "\n",
    "#numeros arriba de la barra\n",
    "for p in ax.patches:\n",
    "    ax.annotate(int(p.get_height()), (p.get_x() * 0.995, p.get_height() * 1.005),rotation=45)\n",
    "\n",
    "    #salvo grafico\n",
    "name='Graficos/TasaDiariaBar_'+df.index[-1].strftime(\"%d%b\")#str(df.index[-1])+'.png'\n",
    "plt.savefig(name)"
   ]
  },
  {
   "cell_type": "markdown",
   "metadata": {},
   "source": [
    "### Grafico total contagios y Activos"
   ]
  },
  {
   "cell_type": "code",
   "execution_count": null,
   "metadata": {
    "scrolled": true
   },
   "outputs": [],
   "source": [
    "ax=df.plot(y=['Contagios_tot','Activos_tot'], style='-',grid='on',figsize=(10,8),linewidth=3, marker='o')\n",
    "plt.title('Covid-19 Argentina Total',fontsize=14)\n",
    "plt.xlabel('Fecha', fontsize=14)\n",
    "plt.ylabel('Cantidad', fontsize=14)\n",
    "\n",
    "#agrega ultimo numero\n",
    "for var in (df.Contagios_tot,df.Activos_tot):\n",
    "    plt.annotate('%d' % var.iloc[-1], xy=(1, var.iloc[-1]), xytext=(8, 0), \n",
    "                 xycoords=('axes fraction', 'data'), textcoords='offset points')\n",
    "\n",
    "#valor mininmo en y = 0\n",
    "plt.gca().set_ylim(bottom=0)\n",
    "\n",
    "#salvo grafico\n",
    "name='Graficos/Contagios_tot_'+df.index[-1].strftime(\"%d%b\")#str(df.index[-1])+'.png'\n",
    "plt.savefig(name)"
   ]
  },
  {
   "cell_type": "markdown",
   "metadata": {},
   "source": [
    "### Agrego total Muertos"
   ]
  },
  {
   "cell_type": "code",
   "execution_count": null,
   "metadata": {
    "scrolled": true
   },
   "outputs": [],
   "source": [
    "ax=df.plot(y=['Contagios_tot','Recuperados_tot','Muertos_tot'], style='-',grid='on',figsize=(10,8),linewidth=3, marker='o')\n",
    "plt.title('Covid-19 Argentina Total',fontsize=14)\n",
    "plt.xlabel('Fecha', fontsize=14)\n",
    "plt.ylabel('Cantidad', fontsize=14)\n",
    "plt.legend(loc='upper left');\n",
    "#numeros arriba de la barra\n",
    "#for p in ax.patches:\n",
    "#    ax.annotate(int(p.get_height()), (p.get_x() * 1.005, p.get_height() * 1.005))\n",
    "\n",
    "#agrega ultimo numero\n",
    "for var in (df.Contagios_tot,df.Recuperados_tot,df.Muertos_tot):\n",
    "    plt.annotate('%d' % var.max(), xy=(1, var.max()), xytext=(8, 0), \n",
    "                 xycoords=('axes fraction', 'data'), textcoords='offset points')\n",
    "\n",
    "#valor mininmo en y = 0\n",
    "plt.gca().set_ylim(bottom=0)\n",
    "\n",
    "name='Graficos/Contagios_tot_'+df.index[-1].strftime(\"%d%b\")#str(df.index[-1])+'.png'\n",
    "plt.savefig(name)"
   ]
  },
  {
   "cell_type": "markdown",
   "metadata": {},
   "source": [
    "### Grafico Totales (el mas completo!!)"
   ]
  },
  {
   "cell_type": "code",
   "execution_count": null,
   "metadata": {},
   "outputs": [],
   "source": [
    "import matplotlib.ticker as mticker\n",
    "ax=df.plot(y=['Contagios_tot','Recuperados_tot','Muertos_tot',\"Activos_tot\"],color=['blue',\"green\",'red','grey'], style='-',grid='on',figsize=(10,8),linewidth=3, marker='o')\n",
    "plt.title('Covid-19 Argentina Total',fontsize=14)\n",
    "plt.xlabel('Fecha', fontsize=14)\n",
    "plt.ylabel('Cantidad', fontsize=14)\n",
    "plt.legend(['Contagios total','Recuperados total','Muertos total',\"Activos total\"],loc='upper left');\n",
    "\n",
    "#agrega ultimo valor\n",
    "for var in (df.Contagios_tot,df.Recuperados_tot,df.Muertos_tot,df.Activos_tot):\n",
    "    plt.annotate('%d' % var.max(), xy=(1, var.max()), xytext=(8, 0), \n",
    "                 xycoords=('axes fraction', 'data'), textcoords='offset points')\n",
    "\n",
    "# Add labels to the plot\n",
    "style = dict(size=14, color='gray')\n",
    "\n",
    "#Texto de la cuarentena obligatoria\n",
    "ax.text('2020-3-20', 10, \"----------------------------------------Cuarentena obligatoria-------------\",rotation=90, **style)\n",
    "\n",
    "#valor minimo en y = 0\n",
    "plt.gca().set_ylim(bottom=0)\n",
    "\n",
    "name='Graficos/Contagios_tot_'+df.index[-1].strftime(\"%d%b\")#str(df.index[-1])+'.png'\n",
    "plt.savefig(name)"
   ]
  },
  {
   "cell_type": "markdown",
   "metadata": {},
   "source": [
    "### Grafico de totales igual al anterior pero en escala logaritmica, se pueden ver un poco mejor lo valores chicos con respecto a los grandes pero es un poco tricky"
   ]
  },
  {
   "cell_type": "code",
   "execution_count": null,
   "metadata": {},
   "outputs": [],
   "source": [
    "import matplotlib.ticker as mticker\n",
    "ax=df.plot(y=['Contagios_tot','Recuperados_tot','Muertos_tot',\"Activos_tot\"],logy=\"sym\", style='-',grid='on',figsize=(10,8),linewidth=3, marker='o')\n",
    "plt.title('Covid-19 Argentina Total',fontsize=14)\n",
    "plt.xlabel('Fecha', fontsize=14)\n",
    "plt.ylabel('Cantidad en escala log', fontsize=14)\n",
    "plt.legend(['Contagios total','Recuperados total','Muertos total',\"Activos total\"],loc='upper left');\n",
    "ax.yaxis.set_major_formatter(mticker.ScalarFormatter())\n",
    "\n",
    "for var in (df.Contagios_tot,df.Recuperados_tot,df.Muertos_tot,df.Activos_tot):\n",
    "    plt.annotate('%d' % var.max(), xy=(1, var.max()), xytext=(8, 0), \n",
    "                 xycoords=('axes fraction', 'data'), textcoords='offset points')\n",
    "\n",
    "plt.gca().set_ylim(bottom=0)\n",
    "\n",
    "name='Graficos/Contagios_tot_log'+df.index[-1].strftime(\"%d%b\")#str(df.index[-1])+'.png'\n",
    "plt.savefig(name)"
   ]
  },
  {
   "cell_type": "markdown",
   "metadata": {},
   "source": [
    "### Agrego los test en escala logaritmica, aca se pueden ver todos los datos juntos gracias a la escala log"
   ]
  },
  {
   "cell_type": "code",
   "execution_count": null,
   "metadata": {},
   "outputs": [],
   "source": [
    "import matplotlib.ticker as mticker\n",
    "ax=df.plot(y=['Contagios_tot','Recuperados_tot','Muertos_tot',\"Activos_tot\",\"Tests\"],logy=\"sym\", style='-',grid='on',figsize=(10,8),linewidth=3, marker='o')\n",
    "plt.title('Covid-19 Argentina Total',fontsize=14)\n",
    "plt.xlabel('Fecha', fontsize=14)\n",
    "plt.ylabel('Cantidad en escala log', fontsize=14)\n",
    "plt.legend(['Contagios total','Recuperados total','Muertos total',\"Activos total\",\"Tests\"],loc='upper left');\n",
    "ax.yaxis.set_major_formatter(mticker.ScalarFormatter())\n",
    "\n",
    "for var in (df.Contagios_tot,df.Recuperados_tot,df.Muertos_tot,df.Activos_tot,df.Tests):\n",
    "    plt.annotate('%d' % var.max(), xy=(1, var.max()), xytext=(8, 0), \n",
    "                 xycoords=('axes fraction', 'data'), textcoords='offset points')\n",
    "\n",
    "plt.gca().set_ylim(bottom=0)\n",
    "\n",
    "name='Graficos/Contagios_totTests_log'+df.index[-1].strftime(\"%d%b\")#str(df.index[-1])+'.png'\n",
    "plt.savefig(name)"
   ]
  },
  {
   "cell_type": "markdown",
   "metadata": {},
   "source": [
    "### Asi sin escala log, se ve la diferencia!!"
   ]
  },
  {
   "cell_type": "code",
   "execution_count": null,
   "metadata": {},
   "outputs": [],
   "source": [
    "import matplotlib.ticker as mticker\n",
    "ax=df.plot(y=['Contagios_tot','Recuperados_tot','Muertos_tot',\"Activos_tot\",\"Tests\"], style='-',grid='on',figsize=(10,8),linewidth=3, marker='o')\n",
    "plt.title('Covid-19 Argentina Total',fontsize=14)\n",
    "plt.xlabel('Fecha', fontsize=14)\n",
    "plt.ylabel('Cantidad total', fontsize=14)\n",
    "plt.legend(['Contagios total','Recuperados total','Muertos total',\"Activos total\",\"Tests\"],loc='upper left');\n",
    "ax.yaxis.set_major_formatter(mticker.ScalarFormatter())\n",
    "\n",
    "for var in (df.Contagios_tot,df.Recuperados_tot,df.Muertos_tot,df.Activos_tot,df.Tests):\n",
    "    plt.annotate('%d' % var.max(), xy=(1, var.max()), xytext=(8, 0), \n",
    "                 xycoords=('axes fraction', 'data'), textcoords='offset points')\n"
   ]
  },
  {
   "cell_type": "markdown",
   "metadata": {},
   "source": [
    "### Grafico de barras del total de contagios y activos"
   ]
  },
  {
   "cell_type": "code",
   "execution_count": null,
   "metadata": {},
   "outputs": [],
   "source": [
    "ax=df.plot.bar(y=['Contagios_tot','Activos_tot'],color=['blue','green'],figsize=(10,8),width=0.9)\n",
    "plt.gca().xaxis.set_major_formatter(plt.FixedFormatter(df.index.to_series().dt.strftime(\"%d %b\")))\n",
    "\n",
    "plt.title('Covid-19 Argentina Total',fontsize=14)\n",
    "plt.xlabel('Fecha', fontsize=14)\n",
    "plt.ylabel('Cantidad', fontsize=14)\n",
    "plt.legend(['Contagios', \"Activos\"],loc='upper left');\n",
    "plt.grid(axis='y')\n",
    "\n",
    "#numeros arriba de la barra\n",
    "for p in ax.patches:\n",
    "    ax.annotate(int(p.get_height()), (p.get_x() * 1.005, p.get_height() * 1.005), rotation=90)\n",
    "\n",
    "name='Graficos/Contagios_totBar_'+df.index[-1].strftime(\"%d%b\")#str(df.index[-1])+'.png'\n",
    "#plt.savefig(name)"
   ]
  },
  {
   "cell_type": "markdown",
   "metadata": {},
   "source": [
    "### Subplots"
   ]
  },
  {
   "cell_type": "code",
   "execution_count": null,
   "metadata": {},
   "outputs": [],
   "source": [
    "df.plot(y=['Contagios_tot','Muertos_tot', 'Recuperados_tot'],color=['blue','red','green'],figsize=(8,8),subplots='true',style='.-',grid='on',title='Covid-19 Argentina Total',linewidth=2, marker='o')#df[df['Contagios_tot'] > 100]\n",
    "\n",
    "name='Graficos/Contagios_tot100_'+df.index[-1].strftime(\"%d%b\")#str(df.index[-1])+'.png'\n",
    "plt.savefig(name)"
   ]
  },
  {
   "cell_type": "code",
   "execution_count": null,
   "metadata": {},
   "outputs": [],
   "source": [
    "df.plot(y=['Contagios_tot','Muertos_tot', 'Recuperados_tot',\"Tests\"],color=['blue','red','green','yellow'],figsize=(8,8),subplots='true',style='.-',grid='on',title='Covid-19 Argentina Total',linewidth=2, marker='o')#df[df['Contagios_tot'] > 100]\n",
    "\n",
    "name='Graficos/Todos_tot_'+df.index[-1].strftime(\"%d%b\")#str(df.index[-1])+'.png'\n",
    "plt.savefig(name)"
   ]
  },
  {
   "cell_type": "markdown",
   "metadata": {},
   "source": [
    "### Grafico en escala log"
   ]
  },
  {
   "cell_type": "code",
   "execution_count": null,
   "metadata": {},
   "outputs": [],
   "source": [
    "ax=df.plot(y=['Contagios_tot'],color=['blue'],figsize=(8,8),style='.-',grid='on',linewidth=2,logy=\"sym\", marker='o')#df[df['Muertos_tot'] > 10]\n",
    "plt.ylabel('Cantidad en escala logaritmica', fontsize=14)\n",
    "ax.yaxis.set_major_formatter(mticker.ScalarFormatter())\n",
    "\n",
    "name='Graficos/Contagios_tot_log_'+df.index[-1].strftime(\"%d%b\")#str(df.index[-1])+'.png'\n",
    "plt.savefig(name)"
   ]
  },
  {
   "cell_type": "code",
   "execution_count": null,
   "metadata": {},
   "outputs": [],
   "source": [
    "ax=df.plot(y=['Muertos_tot'],color=['red'],figsize=(8,8),subplots='true',style='.-',grid='on',logy=\"sym\",linewidth=2, marker='o')#df[df['Muertos_tot'] > 10]\n",
    "plt.ylabel('Cantidad escala log', fontsize=14)\n",
    "plt.annotate('%d' % df.Muertos_tot.max(), xy=(1, df.Muertos_tot.max()), xytext=(8, 0), \n",
    "                 xycoords=('axes fraction', 'data'), textcoords='offset points')\n",
    "name='Graficos/Muertos_tot10_'+df.index[-1].strftime(\"%d%b\")#str(df.index[-1])+'.png'\n",
    "plt.savefig(name)"
   ]
  },
  {
   "cell_type": "code",
   "execution_count": null,
   "metadata": {},
   "outputs": [],
   "source": [
    "ax=df.plot(y=['Tests'],color=['yellow'],figsize=(8,8),subplots='true',style='.-',grid='on',logy=\"sym\",linewidth=2, marker='o')#df[df['Muertos_tot'] > 10]\n",
    "plt.ylabel('Cantidad', fontsize=14)\n",
    "plt.annotate('%d' % df.Tests.max(), xy=(1, df.Tests.max()), xytext=(8, 0), \n",
    "                 xycoords=('axes fraction', 'data'), textcoords='offset points')\n",
    "name='Graficos/Test_tot_'+df.index[-1].strftime(\"%d%b\")#str(df.index[-1])+'.png'\n",
    "plt.savefig(name)"
   ]
  },
  {
   "cell_type": "markdown",
   "metadata": {},
   "source": [
    "### Como quedo la tabla"
   ]
  },
  {
   "cell_type": "code",
   "execution_count": null,
   "metadata": {
    "scrolled": false
   },
   "outputs": [],
   "source": [
    "df.describe()"
   ]
  },
  {
   "cell_type": "markdown",
   "metadata": {},
   "source": [
    "## Meto todos los datos de la tabla en un archivo .csv  con la fecha"
   ]
  },
  {
   "cell_type": "code",
   "execution_count": null,
   "metadata": {},
   "outputs": [],
   "source": [
    "name='csv _datos_completos/Covid_arg_completo'+df.index[-1].strftime(\"%d%b\")+'.csv'#str(df.index[-1])\n",
    "df.to_csv(name, index=True)"
   ]
  },
  {
   "cell_type": "markdown",
   "metadata": {},
   "source": [
    "### Probando interpolaciones..."
   ]
  },
  {
   "cell_type": "code",
   "execution_count": null,
   "metadata": {},
   "outputs": [],
   "source": [
    "import numpy as np\n",
    "N=3\n",
    "df[\"Contagios_MA\"]=df.Contagios.rolling(window=N).mean()\n",
    "df[\"Recuperados_MA\"]=df.Recuperados.rolling(window=N).mean()\n",
    "df[\"Muertos_MA\"]=df.Muertos.rolling(window=N).mean()\n",
    "ax=df.plot(y=['Contagios_MA','Recuperados_MA','Muertos_MA'], legend='true',style='-',grid='on',figsize=(10,8),linewidth=3, marker='o')\n",
    "plt.title('Covid-19 Argentina Tasa diaria (media de 3 dias)',fontsize=14)\n",
    "plt.legend(['Contagios', 'Recuperados',\"Muertos\"],loc='upper left');\n",
    "plt.ylabel('Cantidad', fontsize=14)\n",
    "\n",
    "name='Graficos/TasaDiariaMA_'+df.index[-1].strftime(\"%d%b\")#str(df.index[-1])+'.png'\n",
    "#plt.savefig(name)"
   ]
  },
  {
   "cell_type": "code",
   "execution_count": null,
   "metadata": {},
   "outputs": [],
   "source": [
    "ax=df.plot(y=['Contagios_MA','Recuperados_MA','Muertos_MA'], legend='true',style='-',grid='on',logy='sym',figsize=(10,8),linewidth=3, marker='o')\n",
    "ax.yaxis.set_major_formatter(mticker.ScalarFormatter())\n",
    "plt.title('Covid-19 Argentina Tasa diaria (media de 3 dias)',fontsize=14)\n",
    "plt.legend(['Contagios', 'Recuperados',\"Muertos\"],loc='upper left');\n",
    "plt.ylabel('Cantidad', fontsize=14)\n",
    "name='Graficos/TasaDiariaMA_log_'+df.index[-1].strftime(\"%d%b\")#str(df.index[-1])+'.png'\n",
    "#plt.savefig(name)"
   ]
  },
  {
   "cell_type": "markdown",
   "metadata": {
    "collapsed": true
   },
   "source": [
    "## Animation TODO"
   ]
  },
  {
   "cell_type": "code",
   "execution_count": null,
   "metadata": {},
   "outputs": [],
   "source": [
    "'''\n",
    "import numpy as np\n",
    "import pandas as pd\n",
    "import seaborn as sns\n",
    "import matplotlib\n",
    "import matplotlib.pyplot as plt\n",
    "import matplotlib.animation as animation\n",
    "overdoses = pd.read_excel('overdose_data_1999-2015.xls',sheetname='Online',skiprows =6)\n",
    "def get_data(table,rownum,title):\n",
    "    data = pd.DataFrame(table.loc[rownum][2:]).astype(float)\n",
    "    data.columns = {title}\n",
    "    return data\n",
    "\n",
    "%matplotlib notebook\n",
    "title = 'Heroin Overdoses'\n",
    "d = get_data(overdoses,18,title)\n",
    "x = np.array(d.index)\n",
    "y = np.array(d['Heroin Overdoses'])\n",
    "overdose = pd.DataFrame(y,x)\n",
    "#XN,YN = augment(x,y,10)\n",
    "#augmented = pd.DataFrame(YN,XN)\n",
    "overdose.columns = {title}\n",
    "\n",
    "Writer = animation.writers['ffmpeg']\n",
    "writer = Writer(fps=20, metadata=dict(artist='Me'), bitrate=1800)\n",
    "fig = plt.figure(figsize=(10,6))\n",
    "plt.xlim(1999, 2016)\n",
    "plt.ylim(np.min(overdose)[0], np.max(overdose)[0])\n",
    "plt.xlabel('Year',fontsize=20)\n",
    "plt.ylabel(title,fontsize=20)\n",
    "plt.title('Heroin Overdoses per Year',fontsize=20)\n",
    "def animate(i):\n",
    "    data = overdose.iloc[:int(i+1)] #select data range\n",
    "    p = sns.lineplot(x=data.index, y=data[title], data=data, color=\"r\")\n",
    "    p.tick_params(labelsize=17)\n",
    "    plt.setp(p.lines,linewidth=7)\n",
    "    \n",
    "ani = matplotlib.animation.FuncAnimation(fig, animate, frames=17, repeat=True)\n",
    "ani.save('HeroinOverdosesJumpy.mp4', writer=writer)\n",
    "'''"
   ]
  },
  {
   "cell_type": "code",
   "execution_count": null,
   "metadata": {},
   "outputs": [],
   "source": [
    "'''\n",
    "import pygsheets\n",
    "gc = pygsheets.authorize(service_file='file.json')\n",
    "\n",
    "#open the google spreadsheet \n",
    "sh = gc.open_by_url('https://docs.google.com/spreadsheets/d/1vMXik99Jwm5tIos-cgYAj7iyYerZouP5NsHxgVCN2U4')\n",
    "\n",
    "#select the first sheet \n",
    "wks = sh[1]\n",
    "\n",
    "#update the first sheet with df, starting at cell B2. \n",
    "wks.set_dataframe(df)\n",
    "'''"
   ]
  },
  {
   "cell_type": "code",
   "execution_count": null,
   "metadata": {},
   "outputs": [],
   "source": [
    "df.tail(5)"
   ]
  }
 ],
 "metadata": {
  "anaconda-cloud": {},
  "kernelspec": {
   "display_name": "Python 3",
   "language": "python",
   "name": "python3"
  },
  "language_info": {
   "codemirror_mode": {
    "name": "ipython",
    "version": 3
   },
   "file_extension": ".py",
   "mimetype": "text/x-python",
   "name": "python",
   "nbconvert_exporter": "python",
   "pygments_lexer": "ipython3",
   "version": "3.7.7"
  }
 },
 "nbformat": 4,
 "nbformat_minor": 1
}
