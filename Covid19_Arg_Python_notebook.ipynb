{
 "cells": [
  {
   "cell_type": "markdown",
   "metadata": {},
   "source": [
    "# COVID-19 Argentina por RJC"
   ]
  },
  {
   "cell_type": "code",
   "execution_count": null,
   "metadata": {},
   "outputs": [],
   "source": [
    "import os              # This provides several system utilities\n",
    "import pandas as pd    # This is the workhorse of data munging in Python\n",
    "import matplotlib.pyplot as plt\n",
    "import seaborn as sns  # This allows us to easily and beautifully plot\n",
    "\n",
    "# This ensures visualizations are plotted inside the notebook\n",
    "%matplotlib inline"
   ]
  },
  {
   "cell_type": "markdown",
   "metadata": {},
   "source": [
    "### Abro archivo con los datos del gobierno, Tasa diaria de contagios y muertos, total de recuperados y de tests"
   ]
  },
  {
   "cell_type": "code",
   "execution_count": null,
   "metadata": {},
   "outputs": [],
   "source": [
    "f = 'BD/Covid19_Arg.txt'    # Path to file containing the file\n",
    "df = pd.read_csv(f, comment='#')    # Read csv file with comma sepparation\n",
    "df.tail(10)"
   ]
  },
  {
   "cell_type": "markdown",
   "metadata": {},
   "source": [
    "### Separo por comas y indexto los dias a la tabla para graficar facilmente"
   ]
  },
  {
   "cell_type": "code",
   "execution_count": null,
   "metadata": {},
   "outputs": [],
   "source": [
    "df.set_index(pd.DatetimeIndex(df['Fecha']),inplace=True)\n",
    "df.drop('Fecha', axis=1, inplace=True)\n",
    "#df['Recuperados_tot'] = pd.to_numeric(df['Recuperados_tot'])\n",
    "\n",
    "df.tail(10) #ultimos 10 valores"
   ]
  },
  {
   "cell_type": "markdown",
   "metadata": {},
   "source": [
    "### Calculo la tasa diaria de recuperados, activos y tests"
   ]
  },
  {
   "cell_type": "code",
   "execution_count": null,
   "metadata": {},
   "outputs": [],
   "source": [
    "df['Recuperados'] = df['Recuperados_tot'].diff()\n",
    "df['Tests_diario'] = df['Tests'].diff()\n",
    "df['Activos']=df['Contagios']-df['Recuperados']-df['Muertos']\n",
    "df['Activos'] = pd.to_numeric(df['Activos'])\n",
    "df.tail(10)"
   ]
  },
  {
   "cell_type": "markdown",
   "metadata": {},
   "source": [
    "### Calculo el total de contagios, muertos y activos"
   ]
  },
  {
   "cell_type": "code",
   "execution_count": null,
   "metadata": {},
   "outputs": [],
   "source": [
    "df['Contagios_tot'] = df['Contagios'].cumsum()\n",
    "df['Muertos_tot'] = df['Muertos'].cumsum()\n",
    "df['Activos_tot']=df['Contagios_tot']-df['Recuperados_tot']-df['Muertos_tot']\n",
    "\n",
    "pd.options.display.float_format = '{:,.0f}'.format #en enteros sin coma\n",
    "df.tail(10)"
   ]
  },
  {
   "cell_type": "markdown",
   "metadata": {},
   "source": [
    "### Interpolaciones"
   ]
  },
  {
   "cell_type": "code",
   "execution_count": null,
   "metadata": {},
   "outputs": [],
   "source": [
    "import numpy as np\n",
    "N=7\n",
    "df[\"Contagios_MA\"]=df.Contagios.rolling(window=N).mean()\n",
    "df[\"Recuperados_MA\"]=df.Recuperados.rolling(window=N).mean()\n",
    "df[\"Muertos_MA\"]=df.Muertos.rolling(window=N).mean()\n",
    "df[\"Tests_diario_MA\"]=df.Tests_diario.rolling(window=N).mean()"
   ]
  },
  {
   "cell_type": "markdown",
   "metadata": {},
   "source": [
    "### Grafico de tasa diaria"
   ]
  },
  {
   "cell_type": "code",
   "execution_count": null,
   "metadata": {
    "scrolled": true
   },
   "outputs": [],
   "source": [
    "ax=df.plot(y=['Contagios','Recuperados','Muertos'], color=['blue',\"green\",'red'],legend='true',style='-',grid='on',figsize=(18,20),linewidth=3, marker='o', markersize=8, fontsize=22)\n",
    "\n",
    "plt.title('Covid-19 Argentina Tasa diaria - www.github.com/rodri16/CovidArgentinaGraficos',fontsize=24)\n",
    "plt.legend(['Contagios', 'Recuperados',\"Muertos\"],loc='upper left', fontsize=22);\n",
    "plt.ylabel('Cantidad', fontsize=22)\n",
    "plt.xlabel('Fecha', fontsize=22)\n",
    "#ax.text('2020-4-2',280,'https://github.com/rodri16/CovidArgentinaGraficos',fontsize=10)\n",
    "#agrega ultimo numero\n",
    "#for var in (df.Contagios,df.Recuperados,df.Muertos):\n",
    "#    plt.annotate('%d' % var.iloc[-1], xy=(1, var.iloc[-1]), xytext=(8, 0), \n",
    "#                 xycoords=('axes fraction', 'data'), textcoords='offset points')\n",
    "    \n",
    "plt.annotate('%d' % df.Contagios.iloc[-1], xy=(1, df.Contagios.iloc[-1]), xytext=(8, 0), \n",
    "                 xycoords=('axes fraction', 'data'), textcoords='offset points',color='blue',size=18)\n",
    "plt.annotate('%d' % df.Recuperados.iloc[-1], xy=(1, df.Recuperados.iloc[-1]), xytext=(8, 0), \n",
    "                 xycoords=('axes fraction', 'data'), textcoords='offset points',color='green',size=18)\n",
    "plt.annotate('%d' % df.Muertos.iloc[-1], xy=(1, df.Muertos.iloc[-1]), xytext=(8, 0), \n",
    "                 xycoords=('axes fraction', 'data'), textcoords='offset points',color='red',size=18)\n",
    "\n",
    "    # Add labels to the plot\n",
    "style = dict(size=18, color='black')    \n",
    "#Texto de la cuarentena obligatoria\n",
    "ax.text('2020-3-20', 10, \"------------------------------------------------------------------------------------------------------------- Fase I-Cuarentena obligatoria\",rotation=90, **style)\n",
    "#Texto de la Fase II\n",
    "ax.text('2020-4-1', 10, \"----------------------------------------------------------------------------------------------------------------------------------------------- Fase II\",rotation=90, **style)\n",
    "#Texto de la Fase III\n",
    "ax.text('2020-4-13', 10, \"---------------------------------------------------------------------------------------------------------------------------------------------- Fase III\",rotation=90, **style)\n",
    "#Texto de la Fase IV\n",
    "ax.text('2020-5-10', 10, \"---------------------------------------------------------------------------------------------------------------------------------------------- Fase IV\",rotation=90, **style)\n",
    "\n",
    "\n",
    "#valor minimo eje y = 0\n",
    "plt.gca().set_ylim(bottom=0,top=20000)\n",
    "\n",
    "\n",
    "#Salvo el grafico con la ultima fecha\n",
    "name='Graficos/2021/Septiembre/TasaDiariaLine_'+df.index[-1].strftime(\"%d%b\")#str(df.index[-1])+'.png'\n",
    "plt.savefig(name, bits=16)"
   ]
  },
  {
   "cell_type": "markdown",
   "metadata": {},
   "source": [
    "### Subolots con la media de cada grafico"
   ]
  },
  {
   "cell_type": "code",
   "execution_count": null,
   "metadata": {},
   "outputs": [],
   "source": [
    "fig, axs = plt.subplots(4,1)\n",
    "\n",
    "#ax=df.plot(y=['Contagios','Contagios_MA','Muertos','Recuperados','Tests_diario'],color=['blue','red',\"green\",'grey'],figsize=(18,22),subplots='true',style='.-',grid='on',linewidth=2, marker='o', fontsize=22)#df[df['Contagios_tot'] > 100]\n",
    "#plt.xlabel('Fecha', fontsize=24)\n",
    "\n",
    "df.plot(y=['Contagios','Contagios_MA'],color=['silver','blue'],figsize=(18,36),style=['.-',''],grid='on',linewidth=2, fontsize=22,ax=axs[0])\n",
    "axs[0].set_title('Covid-19 Argentina Tasa diaria y media - www.github.com/rodri16/CovidArgentinaGraficos',fontsize=24)\n",
    "\n",
    "axs[0].annotate('%d' % df.Contagios.iloc[-1], xy=(1, df.Contagios.iloc[-1]), xytext=(8, 0), \n",
    "                 xycoords=('axes fraction', 'data'), textcoords='offset points',size=22, color=\"grey\")  \n",
    "axs[0].set_ylim(bottom=0)\n",
    "axs[0].legend(['Contagios','Contagios_med'],fontsize=22,loc='upper left')\n",
    "axs[0].annotate('%dMAX' % df.Contagios.max(), xy=(1, df.Contagios.max()), xytext=(8, 0), \n",
    "                 xycoords=('axes fraction', 'data'), textcoords='offset points',size=22, color=\"blue\")\n",
    "axs[0].annotate('<%d>' % df.Contagios_MA.iloc[-1], xy=(1, df.Contagios_MA.iloc[-1]*0.99), xytext=(8, 0), \n",
    "                 xycoords=('axes fraction', 'data'), textcoords='offset points',size=22, color=\"blue\")\n",
    "\n",
    "df.plot(y=['Muertos','Muertos_MA'],color=['silver','Darkred'],figsize=(18,36),style=['.-','-'],grid='on',linewidth=2, fontsize=22,ax=axs[1])\n",
    "axs[1].annotate('%d' % df.Muertos.iloc[-1], xy=(1, df.Muertos.iloc[-1]), xytext=(8, 0), \n",
    "                 xycoords=('axes fraction', 'data'), textcoords='offset points',size=22, color=\"grey\") \n",
    "axs[1].set_ylim(bottom=0,top=800)\n",
    "axs[1].legend(['Muertos','Muertos_med'],fontsize=22,loc='upper left')\n",
    "\n",
    "axs[1].annotate(\"792MAX\", xy=(1, 792), xytext=(8, 0), \n",
    "                 xycoords=('axes fraction', 'data'), textcoords='offset points',size=22, color=\"darkred\")\n",
    "axs[1].annotate('<%d>' % df.Muertos_MA.iloc[-1], xy=(1, df.Muertos_MA.iloc[-1]), xytext=(8, 0), \n",
    "                 xycoords=('axes fraction', 'data'), textcoords='offset points',size=22, color=\"darkred\") \n",
    "\n",
    "\n",
    "df.plot(y=['Recuperados','Recuperados_MA'],color=['silver','green'],figsize=(18,36),style=['.-','-'],grid='on',linewidth=2, fontsize=22,ax=axs[2])\n",
    "axs[2].annotate('%d' % df.Recuperados.iloc[-1], xy=(1, df.Recuperados.iloc[-1]), xytext=(8, 0), \n",
    "                 xycoords=('axes fraction', 'data'), textcoords='offset points',size=22, color=\"grey\") \n",
    "axs[2].set_ylim(bottom=0,top=40000)\n",
    "axs[2].legend(['Recuperados','Recuperados_med'],fontsize=22,loc='upper left')\n",
    "axs[2].annotate('<%d>' % df.Recuperados_MA.iloc[-1], xy=(1, df.Recuperados_MA.iloc[-1]), xytext=(8, 0), \n",
    "                 xycoords=('axes fraction', 'data'), textcoords='offset points',size=22, color=\"green\") \n",
    "\n",
    "df.plot(y=['Tests_diario','Tests_diario_MA'],color=['silver','black'],figsize=(18,36),style=['.-','-'],grid='on',linewidth=2, fontsize=22,ax=axs[3])\n",
    "\n",
    "axs[3].annotate('%d' % df.Tests_diario.iloc[-1], xy=(1, df.Tests_diario.iloc[-1]), xytext=(8, 0), \n",
    "                 xycoords=('axes fraction', 'data'), textcoords='offset points',size=22, color=\"grey\") \n",
    "axs[3].set_ylim(bottom=0, top=200000)\n",
    "axs[3].legend(['Tests_diario','Tests_diario_med'],fontsize=22,loc='upper left')\n",
    "axs[3].annotate('<%d>' % df.Tests_diario_MA.iloc[-1], xy=(1, df.Tests_diario_MA.iloc[-1]), xytext=(8, 0), \n",
    "                 xycoords=('axes fraction', 'data'), textcoords='offset points',size=22, color=\"black\") \n",
    "axs[3].annotate(\"180037MAX\", xy=(1, 178000), xytext=(8, 0), \n",
    "                 xycoords=('axes fraction', 'data'), textcoords='offset points',size=22, color=\"black\")\n",
    "\n",
    "name='Graficos/2021/Septiembre/TasaDiaria_MA_'+df.index[-1].strftime(\"%d%b\")#str(df.index[-1])+'.png'\n",
    "plt.savefig(name)"
   ]
  },
  {
   "cell_type": "markdown",
   "metadata": {},
   "source": [
    "### Grafico de barras de los tests diarias"
   ]
  },
  {
   "cell_type": "code",
   "execution_count": null,
   "metadata": {
    "scrolled": false
   },
   "outputs": [],
   "source": [
    "ax=df[df.index > '2020-4-10'].Tests_diario.plot.bar(color=['brown'],width=0.8, legend='true',figsize=(24,16), fontsize=22)\n",
    "\n",
    "#arreglo el formato de la fecha\n",
    "#plt.gca().xaxis.set_major_formatter(plt.FixedFormatter(df[df.index > '2020-4-10'].index.to_series().dt.strftime(\"%d %b\")))#arregla la fecha\n",
    "\n",
    "# Make most of the ticklabels empty so the labels don't get too crowded\n",
    "import matplotlib.ticker as ticker\n",
    "ticklabels = ['']*len(df[df.index > '2020-4-10'].index)\n",
    "# Every 7th ticklable shows the month and day\n",
    "ticklabels[::30] = [item.strftime('%b') for item in df[df.index > '2020-4-10'].index[::30]]\n",
    "# Every 35th ticklabel includes the year\n",
    "ticklabels[::180] = [item.strftime('%b\\n%Y') for item in df[df.index > '2020-4-10'].index[::180]]\n",
    "ax.xaxis.set_major_formatter(ticker.FixedFormatter(ticklabels))\n",
    "\n",
    "#agrego grid\n",
    "plt.grid(axis='y')\n",
    "plt.legend(fontsize=22,loc='upper left')\n",
    "plt.xlabel('Fecha',fontsize=22)\n",
    "plt.title('Covid-19 Argentina Test diarios. https://github.com/rodri16/CovidArgentinaGraficos',fontsize=24)\n",
    "plt.ylabel('Cantidad', fontsize=22)\n",
    "plt.gca().set_ylim(bottom=0, top=190000)\n",
    "\n",
    "#numeros arriba de la barra\n",
    "#for p in ax.patches:\n",
    "#    ax.annotate(int(p.get_height()), (p.get_x() * 0.995, p.get_height() * 1.009),rotation=90, fontsize=18)\n",
    "\n",
    "#ultimo numero\n",
    "plt.annotate('%d' % df.Tests_diario.iloc[-1], xy=(1, df.Tests_diario.iloc[-1]), xytext=(8, 0), \n",
    "                 xycoords=('axes fraction', 'data'), textcoords='offset points',color='red',size=28)\n",
    "\n",
    "    #salvo grafico\n",
    "name='Graficos/2021/Septiembre/TestDiarioBar_'+df.index[-1].strftime(\"%d%b\")#str(df.index[-1])+'.png'\n",
    "plt.savefig(name)"
   ]
  },
  {
   "cell_type": "markdown",
   "metadata": {},
   "source": [
    "### Grafico Totales (el mas completo!!)"
   ]
  },
  {
   "cell_type": "code",
   "execution_count": null,
   "metadata": {
    "scrolled": true
   },
   "outputs": [],
   "source": [
    "import matplotlib.ticker as mticker\n",
    "ax=df.plot(y=['Contagios_tot','Muertos_tot','Recuperados_tot',\"Activos_tot\"],color=['blue','red',\"green\",'grey'],fontsize=22, style='-',grid='on',figsize=(18,20),linewidth=3, marker='o')\n",
    "plt.title('Covid-19 Argentina Total - www.github.com/rodri16/CovidArgentinaGraficos',fontsize=24)\n",
    "plt.xlabel('Fecha', fontsize=22)\n",
    "plt.ylabel('Cantidad en millones', fontsize=22)\n",
    "plt.legend(['Contagios total','Muertos total','Recuperados total',\"Activos total\"],loc='upper left', fontsize=22);\n",
    "#ax.text('2020-4-2',5800,'www.github.com/rodri16/CovidArgentinaGraficos',fontsize=10)\n",
    "\n",
    "#agrega ultimo valor\n",
    "for var in (df.Contagios_tot,df.Muertos_tot,df.Recuperados_tot):\n",
    "    plt.annotate('%d' % var.max(), xy=(1, var.max()), xytext=(8, 0), \n",
    "                 xycoords=('axes fraction', 'data'), textcoords='offset points',size=22)\n",
    "\n",
    "plt.annotate('%d' % df.Activos_tot.iloc[-1], xy=(1, df.Activos_tot.iloc[-1]), xytext=(8, 0), \n",
    "                 xycoords=('axes fraction', 'data'), textcoords='offset points',size=22)   \n",
    "# Add labels to the plot\n",
    "style = dict(size=22, color='gray')\n",
    "\n",
    "#Texto de la cuarentena obligatoria\n",
    "ax.text('2020-3-20', 10, \"-------------------------------------------Fase I-Cuarentena obligatoria\",rotation=90, **style)\n",
    "#Texto de la Fase II\n",
    "ax.text('2020-4-1', 10, \"------------------------------------------------------------------------------Fase II\",rotation=90, **style)\n",
    "#Texto de la Fase III\n",
    "ax.text('2020-4-13', 10, \"-----------------------------------------------------------------------------Fase III\",rotation=90, **style)\n",
    "#Texto de la Fase IV\n",
    "ax.text('2020-5-10', 10, \"-------------------------------------------------------------------------------Fase IV\",rotation=90, **style)\n",
    "\n",
    "#ax.set_facecolor(\"black\")\n",
    "#valor minimo en y = 0\n",
    "plt.gca().set_ylim(bottom=0)\n",
    "\n",
    "name='Graficos/2021/Septiembre/Contagios_tot_'+df.index[-1].strftime(\"%d%b\")#str(df.index[-1])+'.png'\n",
    "plt.savefig(name, bits=16)"
   ]
  },
  {
   "cell_type": "markdown",
   "metadata": {},
   "source": [
    "### Grafico de totales igual al anterior pero en escala logaritmica, se pueden ver un poco mejor lo valores chicos con respecto a los grandes pero es un poco tricky"
   ]
  },
  {
   "cell_type": "code",
   "execution_count": null,
   "metadata": {},
   "outputs": [],
   "source": [
    "import matplotlib.ticker as mticker\n",
    "ax=df.plot(y=['Contagios_tot','Recuperados_tot','Muertos_tot',\"Activos_tot\",\"Tests\"],color=['blue',\"green\",'red','grey','purple'],logy=\"sym\", style='-',grid='on',figsize=(18,20),fontsize=22,linewidth=3, marker='o')\n",
    "plt.title('Covid-19 Argentina Total - www.github.com/rodri16/CovidArgentinaGraficos',fontsize=24)\n",
    "plt.xlabel('Fecha', fontsize=22)\n",
    "plt.ylabel('Cantidad en escala log', fontsize=22)\n",
    "plt.legend(['Contagios total','Recuperados total','Muertos total',\"Activos total\",\"Tests\"],loc='upper left', fontsize=22);\n",
    "#ax.yaxis.set_major_formatter(mticker.ScalarFormatter())\n",
    "\n",
    "\n",
    "for var in (df.Contagios_tot,df.Recuperados_tot,df.Muertos_tot,df.Activos_tot,df.Tests):\n",
    "    plt.annotate('%d' % var.max(), xy=(1, var.max()), xytext=(8, 0), \n",
    "                 xycoords=('axes fraction', 'data'), textcoords='offset points', fontsize=22)\n",
    "\n",
    "plt.gca().set_ylim(bottom=0)\n",
    "\n",
    "name='Graficos/2021/Septiembre/Contagios_totTests_log'+df.index[-1].strftime(\"%d%b\")#str(df.index[-1])+'.png'\n",
    "plt.savefig(name)"
   ]
  },
  {
   "cell_type": "markdown",
   "metadata": {},
   "source": [
    "### Subplots de los totales"
   ]
  },
  {
   "cell_type": "code",
   "execution_count": null,
   "metadata": {
    "scrolled": true
   },
   "outputs": [],
   "source": [
    "ax=df.plot(y=['Contagios_tot','Muertos_tot', 'Recuperados_tot',\"Tests\"],color=['blue','red','green','grey'],figsize=(18,36),subplots='true',style='.-',grid='on',linewidth=2, marker='o',fontsize=22)#df[df['Contagios_tot'] > 100]\n",
    "\n",
    "plt.xlabel('Fecha', fontsize=22)\n",
    "\n",
    "ax[0].set_title('Covid-19 Argentina Totales - www.github.com/rodri16/CovidArgentinaGraficos',fontsize=24)\n",
    "\n",
    "ax[0].annotate('%d' % df.Contagios_tot.iloc[-1], xy=(1, df.Contagios_tot.iloc[-1]), xytext=(8, 0), \n",
    "                 xycoords=('axes fraction', 'data'), textcoords='offset points',size=22, color=\"blue\")  \n",
    "ax[0].set_ylim(bottom=0)\n",
    "ax[0].legend(fontsize=22)\n",
    "\n",
    "ax[1].annotate('%d' % df.Muertos_tot.iloc[-1], xy=(1, df.Muertos_tot.iloc[-1]), xytext=(8, 0), \n",
    "                 xycoords=('axes fraction', 'data'), textcoords='offset points',size=22, color=\"red\") \n",
    "ax[1].set_ylim(bottom=0)\n",
    "ax[1].legend(fontsize=22)\n",
    "\n",
    "ax[2].annotate('%d' % df.Recuperados_tot.iloc[-1], xy=(1, df.Recuperados_tot.iloc[-1]), xytext=(8, 0), \n",
    "                 xycoords=('axes fraction', 'data'), textcoords='offset points',size=22, color=\"green\") \n",
    "ax[2].set_ylim(bottom=0)\n",
    "ax[2].legend(fontsize=22)\n",
    "\n",
    "ax[3].annotate('%d' % df.Tests.iloc[-1], xy=(1, df.Tests.iloc[-1]), xytext=(8, 0), \n",
    "                 xycoords=('axes fraction', 'data'), textcoords='offset points',size=22, color=\"grey\") \n",
    "ax[3].set_ylim(bottom=0)\n",
    "ax[3].legend(fontsize=22)\n",
    "\n",
    "name='Graficos/2021/Septiembre/Todos_tot_'+df.index[-1].strftime(\"%d%b\")#str(df.index[-1])+'.png'\n",
    "plt.savefig(name)"
   ]
  },
  {
   "cell_type": "markdown",
   "metadata": {},
   "source": [
    "### Relacion entre nuevos contagios y gente testeada"
   ]
  },
  {
   "cell_type": "code",
   "execution_count": null,
   "metadata": {},
   "outputs": [],
   "source": [
    "#df['cont_test']=df['Contagios']/df['Tests_diario']*100\n",
    "#df[df.index > '2020-4-2']['cont_test'].plot(legend='true',style='-',grid='on',figsize=(18,20),linewidth=3, marker='o', fontsize=22)\n",
    "#plt.title('Covid-19 Argentina Contagios vs tests - www.github.com/rodri16/CovidArgentinaGraficos',fontsize=24)\n",
    "#plt.legend(['Contagios vs tests'],loc='upper left', fontsize=22);\n",
    "#plt.ylabel('Porcentaje %', fontsize=22)\n",
    "#plt.xlabel('Fecha',fontsize=22)\n",
    "#plt.annotate('%d %%' % df.cont_test.iloc[-1], xy=(1, df.cont_test.iloc[-1]), xytext=(8, 0), \n",
    "#                 xycoords=('axes fraction', 'data'), textcoords='offset points',size=22, color=\"blue\") \n",
    "\n",
    "#name='Graficos/2021/Septiembre/Tasa_Cont_Test'+df.index[-1].strftime(\"%d%b\")#+'.svg'#str(df.index[-1])+'.eps'\n",
    "#plt.savefig(name)"
   ]
  },
  {
   "cell_type": "markdown",
   "metadata": {},
   "source": [
    "### Meto todos los datos en una tabla"
   ]
  },
  {
   "cell_type": "code",
   "execution_count": null,
   "metadata": {},
   "outputs": [],
   "source": [
    "name='csv _datos_completos/2021/Septiembre/Covid_arg_completo'+df.index[-1].strftime(\"%d%b\")+'.csv'#str(df.index[-1])\n",
    "df.to_csv(name, index=True)"
   ]
  },
  {
   "cell_type": "code",
   "execution_count": null,
   "metadata": {},
   "outputs": [],
   "source": [
    " df.tail(5)"
   ]
  },
  {
   "cell_type": "code",
   "execution_count": null,
   "metadata": {},
   "outputs": [],
   "source": [
    "f2 = 'BD/vacunados.txt'    # Path to file containing the file\n",
    "df1 = pd.read_csv(f2, comment='#')    # Read csv file with comma sepparation\n",
    "df1.tail(10)\n",
    "df1.set_index(pd.DatetimeIndex(df1['Fecha']),inplace=True)\n",
    "df1.drop('Fecha', axis=1, inplace=True)\n",
    "#df['Recuperados_tot'] = pd.to_numeric(df['Recuperados_tot'])\n",
    "\n",
    "df1.tail(10) #ultimos 10 valores"
   ]
  },
  {
   "cell_type": "code",
   "execution_count": null,
   "metadata": {
    "scrolled": true
   },
   "outputs": [],
   "source": [
    "ax=df1.plot(y=['vacuna1','vacuna2'], color=['blue',\"green\"],legend='true',style='.-',grid='on',figsize=(18,20),linewidth=3, marker='o', markersize=8, fontsize=22)\n",
    "\n",
    "plt.title('Covid-19 Argentina Vacunas - www.github.com/rodri16/CovidArgentinaGraficos',fontsize=24)\n",
    "plt.legend(['1a dosis', '2a dosis'],loc='upper left', fontsize=22);\n",
    "plt.ylabel('Cantidad en millones', fontsize=22)\n",
    "plt.xlabel('Fecha', fontsize=22)\n",
    "plt.annotate('%d ' % df1.vacuna1.iloc[-1], xy=(1, df1.vacuna1.iloc[-1]), xytext=(8, 0), \n",
    "                 xycoords=('axes fraction', 'data'), textcoords='offset points',size=22, color=\"blue\") \n",
    "plt.annotate('%d' % df1.vacuna2.iloc[-1], xy=(1, df1.vacuna2.iloc[-1]), xytext=(8, 0), \n",
    "                 xycoords=('axes fraction', 'data'), textcoords='offset points',size=22, color=\"green\") \n",
    "\n",
    "name='Graficos/2021/Septiembre/Vacunas_'+df1.index[-1].strftime(\"%d%b\")#+'.svg'#str(df.index[-1])+'.eps'\n",
    "plt.savefig(name)"
   ]
  },
  {
   "cell_type": "code",
   "execution_count": null,
   "metadata": {},
   "outputs": [],
   "source": [
    "df1['vacuna1_diario'] = df1['vacuna1'].diff()\n",
    "df1['vacuna2_diario'] = df1['vacuna2'].diff()\n",
    "\n",
    "df1[\"vacuna1_diario_MA\"]=df1.vacuna1_diario.rolling(window=N).mean()\n",
    "df1[\"vacuna2_diario_MA\"]=df1.vacuna2_diario.rolling(window=N).mean()"
   ]
  },
  {
   "cell_type": "code",
   "execution_count": null,
   "metadata": {},
   "outputs": [],
   "source": [
    "ax=df1.plot(y=['vacuna1_diario','vacuna1_diario_MA','vacuna2_diario','vacuna2_diario_MA'], color=['grey','blue','lightgrey',\"green\"],legend='true',style='.-',grid='on',figsize=(18,20),linewidth=3, marker='o', markersize=8, fontsize=24)\n",
    "\n",
    "plt.title('Covid-19 Argentina Vacunas por dia - www.github.com/rodri16/CovidArgentinaGraficos',fontsize=24)\n",
    "plt.legend(['1a dosis','1a dosis media', '2a dosis','2a dosis media'],loc='upper left', fontsize=22);\n",
    "plt.ylabel('Cantidad', fontsize=22)\n",
    "plt.xlabel('Fecha', fontsize=22)\n",
    "plt.annotate('%d ' % df1.vacuna1_diario.iloc[-1], xy=(1, df1.vacuna1_diario.iloc[-1]), xytext=(8, 0), \n",
    "                 xycoords=('axes fraction', 'data'), textcoords='offset points',size=22, color=\"grey\") \n",
    "plt.annotate('%d' % df1.vacuna2_diario.iloc[-1], xy=(1, df1.vacuna2_diario.iloc[-1]), xytext=(8, 0), \n",
    "                xycoords=('axes fraction', 'data'), textcoords='offset points',size=22, color=\"grey\") \n",
    "\n",
    "name='Graficos/2021/Septiembre/Vacunas_diario_'+df1.index[-1].strftime(\"%d%b\")#+'.svg'#str(df.index[-1])+'.eps'\n",
    "plt.savefig(name)"
   ]
  },
  {
   "cell_type": "code",
   "execution_count": null,
   "metadata": {},
   "outputs": [],
   "source": []
  }
 ],
 "metadata": {
  "anaconda-cloud": {},
  "kernelspec": {
   "display_name": "Python 3",
   "language": "python",
   "name": "python3"
  },
  "language_info": {
   "codemirror_mode": {
    "name": "ipython",
    "version": 3
   },
   "file_extension": ".py",
   "mimetype": "text/x-python",
   "name": "python",
   "nbconvert_exporter": "python",
   "pygments_lexer": "ipython3",
   "version": "3.8.3"
  }
 },
 "nbformat": 4,
 "nbformat_minor": 1
}
