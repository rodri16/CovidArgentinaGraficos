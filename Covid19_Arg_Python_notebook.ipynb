{
 "cells": [
  {
   "cell_type": "markdown",
   "metadata": {},
   "source": [
    "# COVID-19 Argentina por RJC"
   ]
  },
  {
   "cell_type": "code",
   "execution_count": 210,
   "metadata": {},
   "outputs": [],
   "source": [
    "import os              # This provides several system utilities\n",
    "import pandas as pd    # This is the workhorse of data munging in Python\n",
    "import matplotlib.pyplot as plt\n",
    "import seaborn as sns  # This allows us to easily and beautifully plot\n",
    "\n",
    "# This ensures visualizations are plotted inside the notebook\n",
    "%matplotlib inline"
   ]
  },
  {
   "cell_type": "markdown",
   "metadata": {},
   "source": [
    "### Abro archivo con los datos del gobierno, Tasa diaria de contagios y muertos, total de recuperados y de tests"
   ]
  },
  {
   "cell_type": "code",
   "execution_count": 211,
   "metadata": {},
   "outputs": [
    {
     "data": {
      "text/html": [
       "<div>\n",
       "<style scoped>\n",
       "    .dataframe tbody tr th:only-of-type {\n",
       "        vertical-align: middle;\n",
       "    }\n",
       "\n",
       "    .dataframe tbody tr th {\n",
       "        vertical-align: top;\n",
       "    }\n",
       "\n",
       "    .dataframe thead th {\n",
       "        text-align: right;\n",
       "    }\n",
       "</style>\n",
       "<table border=\"1\" class=\"dataframe\">\n",
       "  <thead>\n",
       "    <tr style=\"text-align: right;\">\n",
       "      <th></th>\n",
       "      <th>Fecha</th>\n",
       "      <th>Contagios</th>\n",
       "      <th>Muertos</th>\n",
       "      <th>Recuperados_tot</th>\n",
       "      <th>Tests</th>\n",
       "    </tr>\n",
       "  </thead>\n",
       "  <tbody>\n",
       "    <tr>\n",
       "      <th>198</th>\n",
       "      <td>9/19/2020</td>\n",
       "      <td>9276</td>\n",
       "      <td>138</td>\n",
       "      <td>478,077</td>\n",
       "      <td>1707947</td>\n",
       "    </tr>\n",
       "    <tr>\n",
       "      <th>199</th>\n",
       "      <td>9/20/2020</td>\n",
       "      <td>8431</td>\n",
       "      <td>260</td>\n",
       "      <td>488,231</td>\n",
       "      <td>1729040</td>\n",
       "    </tr>\n",
       "    <tr>\n",
       "      <th>200</th>\n",
       "      <td>9/21/2020</td>\n",
       "      <td>8782</td>\n",
       "      <td>429</td>\n",
       "      <td>498,379</td>\n",
       "      <td>1765069</td>\n",
       "    </tr>\n",
       "    <tr>\n",
       "      <th>201</th>\n",
       "      <td>9/22/2020</td>\n",
       "      <td>12027</td>\n",
       "      <td>470</td>\n",
       "      <td>508,563</td>\n",
       "      <td>1790835</td>\n",
       "    </tr>\n",
       "    <tr>\n",
       "      <th>202</th>\n",
       "      <td>9/23/2020</td>\n",
       "      <td>12625</td>\n",
       "      <td>424</td>\n",
       "      <td>517,228</td>\n",
       "      <td>1815738</td>\n",
       "    </tr>\n",
       "    <tr>\n",
       "      <th>203</th>\n",
       "      <td>9/24/2020</td>\n",
       "      <td>13467</td>\n",
       "      <td>389</td>\n",
       "      <td>525,486</td>\n",
       "      <td>1842991</td>\n",
       "    </tr>\n",
       "    <tr>\n",
       "      <th>204</th>\n",
       "      <td>9/25/2020</td>\n",
       "      <td>12969</td>\n",
       "      <td>3650</td>\n",
       "      <td>536,589</td>\n",
       "      <td>1868089 //441+3209</td>\n",
       "    </tr>\n",
       "    <tr>\n",
       "      <th>205</th>\n",
       "      <td>9/26/2020</td>\n",
       "      <td>11249</td>\n",
       "      <td>337</td>\n",
       "      <td>546,924</td>\n",
       "      <td>1890190</td>\n",
       "    </tr>\n",
       "    <tr>\n",
       "      <th>206</th>\n",
       "      <td>9/27/2020</td>\n",
       "      <td>8841</td>\n",
       "      <td>206</td>\n",
       "      <td>556,489</td>\n",
       "      <td>1905361</td>\n",
       "    </tr>\n",
       "    <tr>\n",
       "      <th>207</th>\n",
       "      <td>9/28/2020</td>\n",
       "      <td>11807</td>\n",
       "      <td>364</td>\n",
       "      <td>565,935</td>\n",
       "      <td>1926717</td>\n",
       "    </tr>\n",
       "  </tbody>\n",
       "</table>\n",
       "</div>"
      ],
      "text/plain": [
       "         Fecha  Contagios  Muertos  Recuperados_tot               Tests\n",
       "198  9/19/2020       9276      138          478,077             1707947\n",
       "199  9/20/2020       8431      260          488,231             1729040\n",
       "200  9/21/2020       8782      429          498,379             1765069\n",
       "201  9/22/2020      12027      470          508,563             1790835\n",
       "202  9/23/2020      12625      424          517,228             1815738\n",
       "203  9/24/2020      13467      389          525,486             1842991\n",
       "204  9/25/2020      12969     3650          536,589  1868089 //441+3209\n",
       "205  9/26/2020      11249      337          546,924             1890190\n",
       "206  9/27/2020       8841      206          556,489             1905361\n",
       "207  9/28/2020      11807      364          565,935             1926717"
      ]
     },
     "execution_count": 211,
     "metadata": {},
     "output_type": "execute_result"
    }
   ],
   "source": [
    "f = 'Covid19_Arg.txt'    # Path to file containing the file\n",
    "df = pd.read_csv(f)    # Read csv file with comma sepparation\n",
    "df.tail(10)"
   ]
  },
  {
   "cell_type": "markdown",
   "metadata": {},
   "source": [
    "### Separo por comas y indexto los dias a la tabla para graficar facilmente"
   ]
  },
  {
   "cell_type": "code",
   "execution_count": 212,
   "metadata": {},
   "outputs": [
    {
     "data": {
      "text/html": [
       "<div>\n",
       "<style scoped>\n",
       "    .dataframe tbody tr th:only-of-type {\n",
       "        vertical-align: middle;\n",
       "    }\n",
       "\n",
       "    .dataframe tbody tr th {\n",
       "        vertical-align: top;\n",
       "    }\n",
       "\n",
       "    .dataframe thead th {\n",
       "        text-align: right;\n",
       "    }\n",
       "</style>\n",
       "<table border=\"1\" class=\"dataframe\">\n",
       "  <thead>\n",
       "    <tr style=\"text-align: right;\">\n",
       "      <th></th>\n",
       "      <th>Contagios</th>\n",
       "      <th>Muertos</th>\n",
       "      <th>Recuperados_tot</th>\n",
       "      <th>Tests</th>\n",
       "    </tr>\n",
       "    <tr>\n",
       "      <th>Fecha</th>\n",
       "      <th></th>\n",
       "      <th></th>\n",
       "      <th></th>\n",
       "      <th></th>\n",
       "    </tr>\n",
       "  </thead>\n",
       "  <tbody>\n",
       "    <tr>\n",
       "      <th>2020-09-19</th>\n",
       "      <td>9276</td>\n",
       "      <td>138</td>\n",
       "      <td>478,077</td>\n",
       "      <td>1707947</td>\n",
       "    </tr>\n",
       "    <tr>\n",
       "      <th>2020-09-20</th>\n",
       "      <td>8431</td>\n",
       "      <td>260</td>\n",
       "      <td>488,231</td>\n",
       "      <td>1729040</td>\n",
       "    </tr>\n",
       "    <tr>\n",
       "      <th>2020-09-21</th>\n",
       "      <td>8782</td>\n",
       "      <td>429</td>\n",
       "      <td>498,379</td>\n",
       "      <td>1765069</td>\n",
       "    </tr>\n",
       "    <tr>\n",
       "      <th>2020-09-22</th>\n",
       "      <td>12027</td>\n",
       "      <td>470</td>\n",
       "      <td>508,563</td>\n",
       "      <td>1790835</td>\n",
       "    </tr>\n",
       "    <tr>\n",
       "      <th>2020-09-23</th>\n",
       "      <td>12625</td>\n",
       "      <td>424</td>\n",
       "      <td>517,228</td>\n",
       "      <td>1815738</td>\n",
       "    </tr>\n",
       "    <tr>\n",
       "      <th>2020-09-24</th>\n",
       "      <td>13467</td>\n",
       "      <td>389</td>\n",
       "      <td>525,486</td>\n",
       "      <td>1842991</td>\n",
       "    </tr>\n",
       "    <tr>\n",
       "      <th>2020-09-25</th>\n",
       "      <td>12969</td>\n",
       "      <td>3650</td>\n",
       "      <td>536,589</td>\n",
       "      <td>1868089 //441+3209</td>\n",
       "    </tr>\n",
       "    <tr>\n",
       "      <th>2020-09-26</th>\n",
       "      <td>11249</td>\n",
       "      <td>337</td>\n",
       "      <td>546,924</td>\n",
       "      <td>1890190</td>\n",
       "    </tr>\n",
       "    <tr>\n",
       "      <th>2020-09-27</th>\n",
       "      <td>8841</td>\n",
       "      <td>206</td>\n",
       "      <td>556,489</td>\n",
       "      <td>1905361</td>\n",
       "    </tr>\n",
       "    <tr>\n",
       "      <th>2020-09-28</th>\n",
       "      <td>11807</td>\n",
       "      <td>364</td>\n",
       "      <td>565,935</td>\n",
       "      <td>1926717</td>\n",
       "    </tr>\n",
       "  </tbody>\n",
       "</table>\n",
       "</div>"
      ],
      "text/plain": [
       "            Contagios  Muertos  Recuperados_tot               Tests\n",
       "Fecha                                                              \n",
       "2020-09-19       9276      138          478,077             1707947\n",
       "2020-09-20       8431      260          488,231             1729040\n",
       "2020-09-21       8782      429          498,379             1765069\n",
       "2020-09-22      12027      470          508,563             1790835\n",
       "2020-09-23      12625      424          517,228             1815738\n",
       "2020-09-24      13467      389          525,486             1842991\n",
       "2020-09-25      12969     3650          536,589  1868089 //441+3209\n",
       "2020-09-26      11249      337          546,924             1890190\n",
       "2020-09-27       8841      206          556,489             1905361\n",
       "2020-09-28      11807      364          565,935             1926717"
      ]
     },
     "execution_count": 212,
     "metadata": {},
     "output_type": "execute_result"
    }
   ],
   "source": [
    "df.set_index(pd.DatetimeIndex(df['Fecha']),inplace=True)\n",
    "df.drop('Fecha', axis=1, inplace=True)\n",
    "#df['Recuperados_tot'] = pd.to_numeric(df['Recuperados_tot'])\n",
    "\n",
    "df.tail(10) #ultimos 10 valores"
   ]
  },
  {
   "cell_type": "markdown",
   "metadata": {},
   "source": [
    "### Calculo la tasa diaria de recuperados, activos y tests"
   ]
  },
  {
   "cell_type": "code",
   "execution_count": 213,
   "metadata": {},
   "outputs": [
    {
     "ename": "TypeError",
     "evalue": "unsupported operand type(s) for -: 'str' and 'float'",
     "output_type": "error",
     "traceback": [
      "\u001b[1;31m---------------------------------------------------------------------------\u001b[0m",
      "\u001b[1;31mTypeError\u001b[0m                                 Traceback (most recent call last)",
      "\u001b[1;32m<ipython-input-213-46126e331a30>\u001b[0m in \u001b[0;36m<module>\u001b[1;34m\u001b[0m\n\u001b[0;32m      1\u001b[0m \u001b[0mdf\u001b[0m\u001b[1;33m[\u001b[0m\u001b[1;34m'Recuperados'\u001b[0m\u001b[1;33m]\u001b[0m \u001b[1;33m=\u001b[0m \u001b[0mdf\u001b[0m\u001b[1;33m[\u001b[0m\u001b[1;34m'Recuperados_tot'\u001b[0m\u001b[1;33m]\u001b[0m\u001b[1;33m.\u001b[0m\u001b[0mdiff\u001b[0m\u001b[1;33m(\u001b[0m\u001b[1;33m)\u001b[0m\u001b[1;33m\u001b[0m\u001b[1;33m\u001b[0m\u001b[0m\n\u001b[1;32m----> 2\u001b[1;33m \u001b[0mdf\u001b[0m\u001b[1;33m[\u001b[0m\u001b[1;34m'Tests_diario'\u001b[0m\u001b[1;33m]\u001b[0m \u001b[1;33m=\u001b[0m \u001b[0mdf\u001b[0m\u001b[1;33m[\u001b[0m\u001b[1;34m'Tests'\u001b[0m\u001b[1;33m]\u001b[0m\u001b[1;33m.\u001b[0m\u001b[0mdiff\u001b[0m\u001b[1;33m(\u001b[0m\u001b[1;33m)\u001b[0m\u001b[1;33m\u001b[0m\u001b[1;33m\u001b[0m\u001b[0m\n\u001b[0m\u001b[0;32m      3\u001b[0m \u001b[0mdf\u001b[0m\u001b[1;33m[\u001b[0m\u001b[1;34m'Activos'\u001b[0m\u001b[1;33m]\u001b[0m\u001b[1;33m=\u001b[0m\u001b[0mdf\u001b[0m\u001b[1;33m[\u001b[0m\u001b[1;34m'Contagios'\u001b[0m\u001b[1;33m]\u001b[0m\u001b[1;33m-\u001b[0m\u001b[0mdf\u001b[0m\u001b[1;33m[\u001b[0m\u001b[1;34m'Recuperados'\u001b[0m\u001b[1;33m]\u001b[0m\u001b[1;33m-\u001b[0m\u001b[0mdf\u001b[0m\u001b[1;33m[\u001b[0m\u001b[1;34m'Muertos'\u001b[0m\u001b[1;33m]\u001b[0m\u001b[1;33m\u001b[0m\u001b[1;33m\u001b[0m\u001b[0m\n\u001b[0;32m      4\u001b[0m \u001b[0mdf\u001b[0m\u001b[1;33m[\u001b[0m\u001b[1;34m'Activos'\u001b[0m\u001b[1;33m]\u001b[0m \u001b[1;33m=\u001b[0m \u001b[0mpd\u001b[0m\u001b[1;33m.\u001b[0m\u001b[0mto_numeric\u001b[0m\u001b[1;33m(\u001b[0m\u001b[0mdf\u001b[0m\u001b[1;33m[\u001b[0m\u001b[1;34m'Activos'\u001b[0m\u001b[1;33m]\u001b[0m\u001b[1;33m)\u001b[0m\u001b[1;33m\u001b[0m\u001b[1;33m\u001b[0m\u001b[0m\n\u001b[0;32m      5\u001b[0m \u001b[0mdf\u001b[0m\u001b[1;33m.\u001b[0m\u001b[0mtail\u001b[0m\u001b[1;33m(\u001b[0m\u001b[1;36m10\u001b[0m\u001b[1;33m)\u001b[0m\u001b[1;33m\u001b[0m\u001b[1;33m\u001b[0m\u001b[0m\n",
      "\u001b[1;32m~\\.conda\\envs\\rodri\\lib\\site-packages\\pandas\\core\\series.py\u001b[0m in \u001b[0;36mdiff\u001b[1;34m(self, periods)\u001b[0m\n\u001b[0;32m   2356\u001b[0m         \u001b[0mdtype\u001b[0m\u001b[1;33m:\u001b[0m \u001b[0mfloat64\u001b[0m\u001b[1;33m\u001b[0m\u001b[1;33m\u001b[0m\u001b[0m\n\u001b[0;32m   2357\u001b[0m         \"\"\"\n\u001b[1;32m-> 2358\u001b[1;33m         \u001b[0mresult\u001b[0m \u001b[1;33m=\u001b[0m \u001b[0malgorithms\u001b[0m\u001b[1;33m.\u001b[0m\u001b[0mdiff\u001b[0m\u001b[1;33m(\u001b[0m\u001b[0mself\u001b[0m\u001b[1;33m.\u001b[0m\u001b[0marray\u001b[0m\u001b[1;33m,\u001b[0m \u001b[0mperiods\u001b[0m\u001b[1;33m)\u001b[0m\u001b[1;33m\u001b[0m\u001b[1;33m\u001b[0m\u001b[0m\n\u001b[0m\u001b[0;32m   2359\u001b[0m         \u001b[1;32mreturn\u001b[0m \u001b[0mself\u001b[0m\u001b[1;33m.\u001b[0m\u001b[0m_constructor\u001b[0m\u001b[1;33m(\u001b[0m\u001b[0mresult\u001b[0m\u001b[1;33m,\u001b[0m \u001b[0mindex\u001b[0m\u001b[1;33m=\u001b[0m\u001b[0mself\u001b[0m\u001b[1;33m.\u001b[0m\u001b[0mindex\u001b[0m\u001b[1;33m)\u001b[0m\u001b[1;33m.\u001b[0m\u001b[0m__finalize__\u001b[0m\u001b[1;33m(\u001b[0m\u001b[0mself\u001b[0m\u001b[1;33m)\u001b[0m\u001b[1;33m\u001b[0m\u001b[1;33m\u001b[0m\u001b[0m\n\u001b[0;32m   2360\u001b[0m \u001b[1;33m\u001b[0m\u001b[0m\n",
      "\u001b[1;32m~\\.conda\\envs\\rodri\\lib\\site-packages\\pandas\\core\\algorithms.py\u001b[0m in \u001b[0;36mdiff\u001b[1;34m(arr, n, axis, stacklevel)\u001b[0m\n\u001b[0;32m   1924\u001b[0m             \u001b[0mout_arr\u001b[0m\u001b[1;33m[\u001b[0m\u001b[0mres_indexer\u001b[0m\u001b[1;33m]\u001b[0m \u001b[1;33m=\u001b[0m \u001b[0marr\u001b[0m\u001b[1;33m[\u001b[0m\u001b[0mres_indexer\u001b[0m\u001b[1;33m]\u001b[0m \u001b[1;33m^\u001b[0m \u001b[0marr\u001b[0m\u001b[1;33m[\u001b[0m\u001b[0mlag_indexer\u001b[0m\u001b[1;33m]\u001b[0m\u001b[1;33m\u001b[0m\u001b[1;33m\u001b[0m\u001b[0m\n\u001b[0;32m   1925\u001b[0m         \u001b[1;32melse\u001b[0m\u001b[1;33m:\u001b[0m\u001b[1;33m\u001b[0m\u001b[1;33m\u001b[0m\u001b[0m\n\u001b[1;32m-> 1926\u001b[1;33m             \u001b[0mout_arr\u001b[0m\u001b[1;33m[\u001b[0m\u001b[0mres_indexer\u001b[0m\u001b[1;33m]\u001b[0m \u001b[1;33m=\u001b[0m \u001b[0marr\u001b[0m\u001b[1;33m[\u001b[0m\u001b[0mres_indexer\u001b[0m\u001b[1;33m]\u001b[0m \u001b[1;33m-\u001b[0m \u001b[0marr\u001b[0m\u001b[1;33m[\u001b[0m\u001b[0mlag_indexer\u001b[0m\u001b[1;33m]\u001b[0m\u001b[1;33m\u001b[0m\u001b[1;33m\u001b[0m\u001b[0m\n\u001b[0m\u001b[0;32m   1927\u001b[0m \u001b[1;33m\u001b[0m\u001b[0m\n\u001b[0;32m   1928\u001b[0m     \u001b[1;32mif\u001b[0m \u001b[0mis_timedelta\u001b[0m\u001b[1;33m:\u001b[0m\u001b[1;33m\u001b[0m\u001b[1;33m\u001b[0m\u001b[0m\n",
      "\u001b[1;31mTypeError\u001b[0m: unsupported operand type(s) for -: 'str' and 'float'"
     ]
    }
   ],
   "source": [
    "df['Recuperados'] = df['Recuperados_tot'].diff()\n",
    "df['Tests_diario'] = df['Tests'].diff()\n",
    "df['Activos']=df['Contagios']-df['Recuperados']-df['Muertos']\n",
    "df['Activos'] = pd.to_numeric(df['Activos'])\n",
    "df.tail(10)"
   ]
  },
  {
   "cell_type": "markdown",
   "metadata": {},
   "source": [
    "### Calculo el total de contagios, muertos y activos"
   ]
  },
  {
   "cell_type": "code",
   "execution_count": null,
   "metadata": {},
   "outputs": [],
   "source": [
    "df['Contagios_tot'] = df['Contagios'].cumsum()\n",
    "df['Muertos_tot'] = df['Muertos'].cumsum()\n",
    "df['Activos_tot']=df['Contagios_tot']-df['Recuperados_tot']-df['Muertos_tot']\n",
    "\n",
    "pd.options.display.float_format = '{:,.0f}'.format #en enteros sin coma\n",
    "df.tail(10)"
   ]
  },
  {
   "cell_type": "markdown",
   "metadata": {},
   "source": [
    "### Grafico de tasa diaria"
   ]
  },
  {
   "cell_type": "code",
   "execution_count": null,
   "metadata": {
    "scrolled": true
   },
   "outputs": [],
   "source": [
    "ax=df.plot(y=['Contagios','Recuperados','Muertos'], color=['blue',\"green\",'red'],legend='true',style='-',grid='on',figsize=(18,20),linewidth=4, marker='o', markersize=8, fontsize=22)\n",
    "\n",
    "plt.title('Covid-19 Argentina Tasa diaria - www.github.com/rodri16/CovidArgentinaGraficos',fontsize=24)\n",
    "plt.legend(['Contagios', 'Recuperados',\"Muertos\"],loc='upper left', fontsize=22);\n",
    "plt.ylabel('Cantidad', fontsize=22)\n",
    "plt.xlabel('Fecha', fontsize=22)\n",
    "#ax.text('2020-4-2',280,'https://github.com/rodri16/CovidArgentinaGraficos',fontsize=10)\n",
    "#agrega ultimo numero\n",
    "#for var in (df.Contagios,df.Recuperados,df.Muertos):\n",
    "#    plt.annotate('%d' % var.iloc[-1], xy=(1, var.iloc[-1]), xytext=(8, 0), \n",
    "#                 xycoords=('axes fraction', 'data'), textcoords='offset points')\n",
    "    \n",
    "plt.annotate('%d' % df.Contagios.iloc[-1], xy=(1, df.Contagios.iloc[-1]), xytext=(8, 0), \n",
    "                 xycoords=('axes fraction', 'data'), textcoords='offset points',color='blue',size=18)\n",
    "plt.annotate('%d' % df.Recuperados.iloc[-1], xy=(1, df.Recuperados.iloc[-1]), xytext=(8, 0), \n",
    "                 xycoords=('axes fraction', 'data'), textcoords='offset points',color='green',size=18)\n",
    "plt.annotate('%d' % df.Muertos.iloc[-1], xy=(1, df.Muertos.iloc[-1]), xytext=(8, 0), \n",
    "                 xycoords=('axes fraction', 'data'), textcoords='offset points',color='red',size=18)\n",
    "\n",
    "    # Add labels to the plot\n",
    "style = dict(size=18, color='black')    \n",
    "#Texto de la cuarentena obligatoria\n",
    "ax.text('2020-3-20', 10, \"------------------------------------------------------------------------------------------------------------- Fase I-Cuarentena obligatoria\",rotation=90, **style)\n",
    "#Texto de la Fase II\n",
    "ax.text('2020-4-1', 10, \"----------------------------------------------------------------------------------------------------------------------------------------------- Fase II\",rotation=90, **style)\n",
    "#Texto de la Fase III\n",
    "ax.text('2020-4-13', 10, \"---------------------------------------------------------------------------------------------------------------------------------------------- Fase III\",rotation=90, **style)\n",
    "#Texto de la Fase IV\n",
    "ax.text('2020-5-10', 10, \"---------------------------------------------------------------------------------------------------------------------------------------------- Fase IV\",rotation=90, **style)\n",
    "\n",
    "\n",
    "#valor minimo eje y = 0\n",
    "plt.gca().set_ylim(bottom=0,top=20000)\n",
    "\n",
    "\n",
    "#Salvo el grafico con la ultima fecha\n",
    "name='Graficos/Septiembre/TasaDiariaLine_'+df.index[-1].strftime(\"%d%b\")#str(df.index[-1])+'.png'\n",
    "plt.savefig(name, bits=16)"
   ]
  },
  {
   "cell_type": "code",
   "execution_count": null,
   "metadata": {},
   "outputs": [],
   "source": [
    "#ax=df.plot(y=['Contagios','Recuperados','Muertos'], legend='true',style='-',logy=\"sym\",grid='on',figsize=(11,8),linewidth=3, marker='o')\n"
   ]
  },
  {
   "cell_type": "code",
   "execution_count": null,
   "metadata": {
    "scrolled": true
   },
   "outputs": [],
   "source": [
    "#agrego los tests pero no se ve nada (mejor en logaritmico)\n",
    "ax=df.plot(y=['Contagios','Recuperados','Muertos','Tests_diario'], legend='true',style='-',grid='on',figsize=(10,8),linewidth=3, marker='o')\n",
    "\n",
    "plt.title('Covid-19 Argentina Tasa diaria',fontsize=14)\n",
    "plt.legend(['Contagios', 'Recuperados',\"Muertos\",\"Tests\"],loc='upper left');\n",
    "plt.ylabel('Cantidad', fontsize=14)\n",
    "\n",
    "#agrega ultimo numero\n",
    "for var in (df.Contagios,df.Recuperados,df.Muertos,df.Tests_diario):\n",
    "    plt.annotate('%d' % var.iloc[-1], xy=(1, var.iloc[-1]), xytext=(8, 0), \n",
    "                 xycoords=('axes fraction', 'data'), textcoords='offset points')\n",
    "    \n",
    "#valor mininmo en y = 0\n",
    "plt.gca().set_ylim(bottom=0)\n",
    "\n",
    "#salvo grafico\n",
    "name='Graficos/TasaDiariaFullLine_'+df.index[-1].strftime(\"%d%b\")#str(df.index[-1])+'.png'\n",
    "#plt.savefig(name)"
   ]
  },
  {
   "cell_type": "markdown",
   "metadata": {},
   "source": [
    "### Grafico de barras de los tests diarias"
   ]
  },
  {
   "cell_type": "code",
   "execution_count": null,
   "metadata": {
    "scrolled": false
   },
   "outputs": [],
   "source": [
    "ax=df[df.index > '2020-4-10'].Tests_diario.plot.bar(color=['brown'],width=0.8, legend='true',figsize=(24,16), fontsize=22)\n",
    "\n",
    "#arreglo el formato de la fecha\n",
    "#plt.gca().xaxis.set_major_formatter(plt.FixedFormatter(df[df.index > '2020-4-10'].index.to_series().dt.strftime(\"%d %b\")))#arregla la fecha\n",
    "\n",
    "# Make most of the ticklabels empty so the labels don't get too crowded\n",
    "import matplotlib.ticker as ticker\n",
    "ticklabels = ['']*len(df[df.index > '2020-4-10'].index)\n",
    "# Every 7th ticklable shows the month and day\n",
    "ticklabels[::7] = [item.strftime('%b %d') for item in df[df.index > '2020-4-10'].index[::7]]\n",
    "# Every 35th ticklabel includes the year\n",
    "ticklabels[::35] = [item.strftime('%b %d\\n%Y') for item in df[df.index > '2020-4-10'].index[::35]]\n",
    "ax.xaxis.set_major_formatter(ticker.FixedFormatter(ticklabels))\n",
    "\n",
    "#agrego grid\n",
    "plt.grid(axis='y')\n",
    "plt.legend(fontsize=22,loc='upper left')\n",
    "plt.xlabel('Fecha',fontsize=22)\n",
    "plt.title('Covid-19 Argentina Test diarios. https://github.com/rodri16/CovidArgentinaGraficos',fontsize=24)\n",
    "plt.ylabel('Cantidad', fontsize=22)\n",
    "\n",
    "#numeros arriba de la barra\n",
    "for p in ax.patches:\n",
    "    ax.annotate(int(p.get_height()), (p.get_x() * 0.995, p.get_height() * 1.009),rotation=90, fontsize=18)\n",
    "\n",
    "    #salvo grafico\n",
    "name='Graficos/Septiembre/TestDiarioBar_'+df.index[-1].strftime(\"%d%b\")#str(df.index[-1])+'.png'\n",
    "plt.savefig(name)"
   ]
  },
  {
   "cell_type": "markdown",
   "metadata": {},
   "source": [
    "### Grafico total contagios y Activos"
   ]
  },
  {
   "cell_type": "code",
   "execution_count": null,
   "metadata": {
    "scrolled": true
   },
   "outputs": [],
   "source": [
    "ax=df.plot(y=['Contagios_tot','Activos_tot'], style='-',grid='on',figsize=(11,8),linewidth=3, marker='o')\n",
    "plt.title('Covid-19 Argentina Total',fontsize=14)\n",
    "plt.xlabel('Fecha', fontsize=14)\n",
    "plt.ylabel('Cantidad', fontsize=14)\n",
    "\n",
    "#agrega ultimo numero\n",
    "for var in (df.Contagios_tot,df.Activos_tot):\n",
    "    plt.annotate('%d' % var.iloc[-1], xy=(1, var.iloc[-1]), xytext=(8, 0), \n",
    "                 xycoords=('axes fraction', 'data'), textcoords='offset points')\n",
    "\n",
    "#valor mininmo en y = 0\n",
    "plt.gca().set_ylim(bottom=0)\n",
    "\n",
    "#salvo grafico\n",
    "name='Graficos/Contagios_tot_'+df.index[-1].strftime(\"%d%b\")#str(df.index[-1])+'.png'\n",
    "#plt.savefig(name)"
   ]
  },
  {
   "cell_type": "markdown",
   "metadata": {},
   "source": [
    "### Agrego total Muertos"
   ]
  },
  {
   "cell_type": "code",
   "execution_count": null,
   "metadata": {
    "scrolled": true
   },
   "outputs": [],
   "source": [
    "ax=df.plot(y=['Contagios_tot','Recuperados_tot','Muertos_tot'], style='-',grid='on',figsize=(11,8),linewidth=3, marker='o')\n",
    "plt.title('Covid-19 Argentina Total',fontsize=14)\n",
    "plt.xlabel('Fecha', fontsize=14)\n",
    "plt.ylabel('Cantidad', fontsize=14)\n",
    "plt.legend(loc='upper left');\n",
    "#numeros arriba de la barra\n",
    "#for p in ax.patches:\n",
    "#    ax.annotate(int(p.get_height()), (p.get_x() * 1.005, p.get_height() * 1.005))\n",
    "\n",
    "#agrega ultimo numero\n",
    "for var in (df.Contagios_tot,df.Recuperados_tot,df.Muertos_tot):\n",
    "    plt.annotate('%d' % var.max(), xy=(1, var.max()), xytext=(8, 0), \n",
    "                 xycoords=('axes fraction', 'data'), textcoords='offset points')\n",
    "\n",
    "#valor mininmo en y = 0\n",
    "plt.gca().set_ylim(bottom=0)\n",
    "\n",
    "name='Graficos/Contagios_tot_'+df.index[-1].strftime(\"%d%b\")#str(df.index[-1])+'.png'\n",
    "#plt.savefig(name)"
   ]
  },
  {
   "cell_type": "markdown",
   "metadata": {},
   "source": [
    "### Grafico Totales (el mas completo!!)"
   ]
  },
  {
   "cell_type": "code",
   "execution_count": null,
   "metadata": {
    "scrolled": true
   },
   "outputs": [],
   "source": [
    "import matplotlib.ticker as mticker\n",
    "ax=df.plot(y=['Contagios_tot','Muertos_tot','Recuperados_tot',\"Activos_tot\"],color=['blue','red',\"green\",'grey'],fontsize=22, style='-',grid='on',figsize=(18,20),linewidth=3, marker='o')\n",
    "plt.title('Covid-19 Argentina Total - www.github.com/rodri16/CovidArgentinaGraficos',fontsize=24)\n",
    "plt.xlabel('Fecha', fontsize=22)\n",
    "plt.ylabel('Cantidad', fontsize=22)\n",
    "plt.legend(['Contagios total','Muertos total','Recuperados total',\"Activos total\"],loc='upper left', fontsize=22);\n",
    "#ax.text('2020-4-2',5800,'www.github.com/rodri16/CovidArgentinaGraficos',fontsize=10)\n",
    "\n",
    "#agrega ultimo valor\n",
    "for var in (df.Contagios_tot,df.Muertos_tot,df.Recuperados_tot):\n",
    "    plt.annotate('%d' % var.max(), xy=(1, var.max()), xytext=(8, 0), \n",
    "                 xycoords=('axes fraction', 'data'), textcoords='offset points',size=22)\n",
    "\n",
    "plt.annotate('%d' % df.Activos_tot.iloc[-1], xy=(1, df.Activos_tot.iloc[-1]), xytext=(8, 0), \n",
    "                 xycoords=('axes fraction', 'data'), textcoords='offset points',size=22)   \n",
    "# Add labels to the plot\n",
    "style = dict(size=22, color='gray')\n",
    "\n",
    "#Texto de la cuarentena obligatoria\n",
    "ax.text('2020-3-20', 10, \"-------------------------------------------Fase I-Cuarentena obligatoria\",rotation=90, **style)\n",
    "#Texto de la Fase II\n",
    "ax.text('2020-4-1', 10, \"------------------------------------------------------------------------------Fase II\",rotation=90, **style)\n",
    "#Texto de la Fase III\n",
    "ax.text('2020-4-13', 10, \"-----------------------------------------------------------------------------Fase III\",rotation=90, **style)\n",
    "#Texto de la Fase IV\n",
    "ax.text('2020-5-10', 10, \"-------------------------------------------------------------------------------Fase IV\",rotation=90, **style)\n",
    "\n",
    "#ax.set_facecolor(\"black\")\n",
    "#valor minimo en y = 0\n",
    "plt.gca().set_ylim(bottom=0)\n",
    "\n",
    "name='Graficos/Septiembre/Contagios_tot_'+df.index[-1].strftime(\"%d%b\")#str(df.index[-1])+'.png'\n",
    "plt.savefig(name, bits=16)"
   ]
  },
  {
   "cell_type": "markdown",
   "metadata": {},
   "source": [
    "### Subplots"
   ]
  },
  {
   "cell_type": "code",
   "execution_count": null,
   "metadata": {
    "scrolled": true
   },
   "outputs": [],
   "source": [
    "ax=df.plot(y=['Contagios','Muertos','Recuperados','Tests_diario'],color=['blue','red',\"green\",'grey'],figsize=(18,20),subplots='true',style='.-',grid='on',linewidth=2, marker='o', fontsize=22)#df[df['Contagios_tot'] > 100]\n",
    "plt.xlabel('Fecha', fontsize=22)\n",
    "\n",
    "ax[0].set_title('Covid-19 Argentina Tasa diaria - www.github.com/rodri16/CovidArgentinaGraficos',fontsize=24)\n",
    "\n",
    "ax[0].annotate('%d' % df.Contagios.iloc[-1], xy=(1, df.Contagios.iloc[-1]), xytext=(8, 0), \n",
    "                 xycoords=('axes fraction', 'data'), textcoords='offset points',size=22, color=\"blue\")  \n",
    "ax[0].set_ylim(bottom=0)\n",
    "ax[0].legend(fontsize=22)\n",
    "\n",
    "ax[1].annotate('%d' % df.Muertos.iloc[-1], xy=(1, df.Muertos.iloc[-1]), xytext=(8, 0), \n",
    "                 xycoords=('axes fraction', 'data'), textcoords='offset points',size=22, color=\"red\") \n",
    "ax[1].set_ylim(bottom=0)\n",
    "ax[1].legend(fontsize=22)\n",
    "\n",
    "ax[2].annotate('%d' % df.Recuperados.iloc[-1], xy=(1, df.Recuperados.iloc[-1]), xytext=(8, 0), \n",
    "                 xycoords=('axes fraction', 'data'), textcoords='offset points',size=22, color=\"green\") \n",
    "ax[2].set_ylim(bottom=0)\n",
    "ax[2].legend(fontsize=22)\n",
    "\n",
    "\n",
    "ax[3].annotate('%d' % df.Tests_diario.iloc[-1], xy=(1, df.Tests_diario.iloc[-1]), xytext=(8, 0), \n",
    "                 xycoords=('axes fraction', 'data'), textcoords='offset points',size=22, color=\"grey\") \n",
    "ax[3].set_ylim(bottom=0)\n",
    "ax[3].legend(fontsize=22)\n",
    "\n",
    "name='Graficos/Septiembre/Todos_diario_sub_'+df.index[-1].strftime(\"%d%b\")#str(df.index[-1])+'.png'\n",
    "#plt.savefig(name)"
   ]
  },
  {
   "cell_type": "markdown",
   "metadata": {},
   "source": [
    "### Grafico de totales igual al anterior pero en escala logaritmica, se pueden ver un poco mejor lo valores chicos con respecto a los grandes pero es un poco tricky"
   ]
  },
  {
   "cell_type": "code",
   "execution_count": null,
   "metadata": {
    "scrolled": true
   },
   "outputs": [],
   "source": [
    "import matplotlib.ticker as mticker\n",
    "ax=df.plot(y=['Contagios_tot','Recuperados_tot','Muertos_tot',\"Activos_tot\"],color=['blue',\"green\",'red','grey'],logy=\"sym\", style='-',grid='on',figsize=(10,8),linewidth=3, marker='o')\n",
    "plt.title('Covid-19 Argentina Total',fontsize=14)\n",
    "plt.xlabel('Fecha', fontsize=14)\n",
    "plt.ylabel('Cantidad en escala log', fontsize=14)\n",
    "plt.legend(['Contagios total','Recuperados total','Muertos total',\"Activos total\"],loc='upper left');\n",
    "ax.yaxis.set_major_formatter(mticker.ScalarFormatter())\n",
    "\n",
    "for var in (df.Contagios_tot,df.Recuperados_tot,df.Muertos_tot,df.Activos_tot):\n",
    "    plt.annotate('%d' % var.max(), xy=(1, var.max()), xytext=(8, 0), \n",
    "                 xycoords=('axes fraction', 'data'), textcoords='offset points')\n",
    "\n",
    "plt.gca().set_ylim(bottom=0)\n",
    "\n",
    "name='Graficos/Contagios_tot_log'+df.index[-1].strftime(\"%d%b\")#str(df.index[-1])+'.png'\n",
    "#plt.savefig(name)"
   ]
  },
  {
   "cell_type": "markdown",
   "metadata": {},
   "source": [
    "### Agrego los test en escala logaritmica, aca se pueden ver todos los datos juntos gracias a la escala log"
   ]
  },
  {
   "cell_type": "code",
   "execution_count": null,
   "metadata": {},
   "outputs": [],
   "source": [
    "import matplotlib.ticker as mticker\n",
    "ax=df.plot(y=['Contagios_tot','Recuperados_tot','Muertos_tot',\"Activos_tot\",\"Tests\"],color=['blue',\"green\",'red','grey','purple'],logy=\"sym\", style='-',grid='on',figsize=(18,20),fontsize=22,linewidth=3, marker='o')\n",
    "plt.title('Covid-19 Argentina Total - www.github.com/rodri16/CovidArgentinaGraficos',fontsize=24)\n",
    "plt.xlabel('Fecha', fontsize=22)\n",
    "plt.ylabel('Cantidad en escala log', fontsize=22)\n",
    "plt.legend(['Contagios total','Recuperados total','Muertos total',\"Activos total\",\"Tests\"],loc='upper left', fontsize=22);\n",
    "#ax.yaxis.set_major_formatter(mticker.ScalarFormatter())\n",
    "\n",
    "\n",
    "for var in (df.Contagios_tot,df.Recuperados_tot,df.Muertos_tot,df.Activos_tot,df.Tests):\n",
    "    plt.annotate('%d' % var.max(), xy=(1, var.max()), xytext=(8, 0), \n",
    "                 xycoords=('axes fraction', 'data'), textcoords='offset points', fontsize=22)\n",
    "\n",
    "plt.gca().set_ylim(bottom=0)\n",
    "\n",
    "name='Graficos/Septiembre/Contagios_totTests_log'+df.index[-1].strftime(\"%d%b\")#str(df.index[-1])+'.png'\n",
    "plt.savefig(name)"
   ]
  },
  {
   "cell_type": "markdown",
   "metadata": {},
   "source": [
    "### Asi sin escala log, se ve la diferencia!!"
   ]
  },
  {
   "cell_type": "code",
   "execution_count": null,
   "metadata": {},
   "outputs": [],
   "source": [
    "import matplotlib.ticker as mticker\n",
    "ax=df.plot(y=['Contagios_tot','Recuperados_tot','Muertos_tot',\"Activos_tot\",\"Tests\"], style='-',grid='on',figsize=(10,8),linewidth=3, marker='o')\n",
    "plt.title('Covid-19 Argentina Total',fontsize=14)\n",
    "plt.xlabel('Fecha', fontsize=14)\n",
    "plt.ylabel('Cantidad total', fontsize=14)\n",
    "plt.legend(['Contagios total','Recuperados total','Muertos total',\"Activos total\",\"Tests\"],loc='upper left');\n",
    "ax.yaxis.set_major_formatter(mticker.ScalarFormatter())\n",
    "\n",
    "for var in (df.Contagios_tot,df.Recuperados_tot,df.Muertos_tot,df.Activos_tot,df.Tests):\n",
    "    plt.annotate('%d' % var.max(), xy=(1, var.max()), xytext=(8, 0), \n",
    "                 xycoords=('axes fraction', 'data'), textcoords='offset points')\n"
   ]
  },
  {
   "cell_type": "markdown",
   "metadata": {},
   "source": [
    "### Grafico de barras del total de contagios y activos"
   ]
  },
  {
   "cell_type": "code",
   "execution_count": null,
   "metadata": {},
   "outputs": [],
   "source": [
    "ax=df.plot.bar(y=['Contagios_tot','Activos_tot'],color=['blue','green'],figsize=(10,8),width=0.9)\n",
    "plt.gca().xaxis.set_major_formatter(plt.FixedFormatter(df.index.to_series().dt.strftime(\"%d %b\")))\n",
    "\n",
    "plt.title('Covid-19 Argentina Total',fontsize=14)\n",
    "plt.xlabel('Fecha', fontsize=14)\n",
    "plt.ylabel('Cantidad', fontsize=14)\n",
    "plt.legend(['Contagios', \"Activos\"],loc='upper left');\n",
    "plt.grid(axis='y')\n",
    "\n",
    "#numeros arriba de la barra\n",
    "for p in ax.patches:\n",
    "    ax.annotate(int(p.get_height()), (p.get_x() * 1.005, p.get_height() * 1.005), rotation=90)\n",
    "\n",
    "name='Graficos/Contagios_totBar_'+df.index[-1].strftime(\"%d%b\")#str(df.index[-1])+'.png'\n",
    "#plt.savefig(name)"
   ]
  },
  {
   "cell_type": "markdown",
   "metadata": {},
   "source": [
    "### Subplots"
   ]
  },
  {
   "cell_type": "code",
   "execution_count": null,
   "metadata": {},
   "outputs": [],
   "source": [
    "df.plot(y=['Contagios_tot','Muertos_tot', 'Recuperados_tot'],color=['blue','red','green'],figsize=(8,8),subplots='true',style='.-',grid='on',title='Covid-19 Argentina Total',linewidth=2, marker='o')#df[df['Contagios_tot'] > 100]\n",
    "\n",
    "name='Graficos/Contagios_tot100_'+df.index[-1].strftime(\"%d%b\")#str(df.index[-1])+'.png'\n",
    "#plt.savefig(name)"
   ]
  },
  {
   "cell_type": "code",
   "execution_count": null,
   "metadata": {},
   "outputs": [],
   "source": [
    "ax=df.plot(y=['Contagios_tot','Muertos_tot', 'Recuperados_tot',\"Tests\"],color=['blue','red','green','grey'],figsize=(18,20),subplots='true',style='.-',grid='on',linewidth=2, marker='o',fontsize=22)#df[df['Contagios_tot'] > 100]\n",
    "\n",
    "plt.xlabel('Fecha', fontsize=22)\n",
    "\n",
    "ax[0].set_title('Covid-19 Argentina Totales - www.github.com/rodri16/CovidArgentinaGraficos',fontsize=24)\n",
    "\n",
    "ax[0].annotate('%d' % df.Contagios_tot.iloc[-1], xy=(1, df.Contagios_tot.iloc[-1]), xytext=(8, 0), \n",
    "                 xycoords=('axes fraction', 'data'), textcoords='offset points',size=22, color=\"blue\")  \n",
    "ax[0].set_ylim(bottom=0)\n",
    "ax[0].legend(fontsize=22)\n",
    "\n",
    "ax[2].annotate('%d' % df.Recuperados_tot.iloc[-1], xy=(1, df.Recuperados_tot.iloc[-1]), xytext=(8, 0), \n",
    "                 xycoords=('axes fraction', 'data'), textcoords='offset points',size=22, color=\"green\") \n",
    "ax[2].set_ylim(bottom=0)\n",
    "ax[2].legend(fontsize=22)\n",
    "\n",
    "ax[1].annotate('%d' % df.Muertos_tot.iloc[-1], xy=(1, df.Muertos_tot.iloc[-1]), xytext=(8, 0), \n",
    "                 xycoords=('axes fraction', 'data'), textcoords='offset points',size=22, color=\"red\") \n",
    "ax[1].set_ylim(bottom=0)\n",
    "ax[1].legend(fontsize=22)\n",
    "\n",
    "ax[3].annotate('%d' % df.Tests.iloc[-1], xy=(1, df.Tests.iloc[-1]), xytext=(8, 0), \n",
    "                 xycoords=('axes fraction', 'data'), textcoords='offset points',size=22, color=\"grey\") \n",
    "ax[3].set_ylim(bottom=0)\n",
    "ax[3].legend(fontsize=22)\n",
    "name='Graficos/Septiembre/Todos_tot_'+df.index[-1].strftime(\"%d%b\")#str(df.index[-1])+'.png'\n",
    "plt.savefig(name)"
   ]
  },
  {
   "cell_type": "markdown",
   "metadata": {},
   "source": [
    "### Grafico en escala log"
   ]
  },
  {
   "cell_type": "code",
   "execution_count": null,
   "metadata": {},
   "outputs": [],
   "source": [
    "ax=df.plot(y=['Contagios_tot'],color=['blue'],figsize=(8,8),style='.-',grid='on',linewidth=2,logy=\"sym\", marker='o')#df[df['Muertos_tot'] > 10]\n",
    "plt.ylabel('Cantidad en escala logaritmica', fontsize=14)\n",
    "ax.yaxis.set_major_formatter(mticker.ScalarFormatter())\n",
    "\n",
    "name='Graficos/Contagios_tot_log_'+df.index[-1].strftime(\"%d%b\")#str(df.index[-1])+'.png'\n",
    "#plt.savefig(name)"
   ]
  },
  {
   "cell_type": "code",
   "execution_count": null,
   "metadata": {},
   "outputs": [],
   "source": [
    "ax=df.plot(y=['Muertos_tot'],color=['red'],figsize=(8,8),subplots='true',style='.-',grid='on',logy=\"sym\",linewidth=2, marker='o')#df[df['Muertos_tot'] > 10]\n",
    "plt.ylabel('Cantidad escala log', fontsize=14)\n",
    "plt.annotate('%d' % df.Muertos_tot.max(), xy=(1, df.Muertos_tot.max()), xytext=(8, 0), \n",
    "                 xycoords=('axes fraction', 'data'), textcoords='offset points')\n",
    "name='Graficos/Muertos_tot10_'+df.index[-1].strftime(\"%d%b\")#str(df.index[-1])+'.png'\n",
    "#plt.savefig(name)"
   ]
  },
  {
   "cell_type": "code",
   "execution_count": null,
   "metadata": {},
   "outputs": [],
   "source": [
    "ax=df.plot(y=['Tests'],color=['yellow'],figsize=(8,8),subplots='true',style='.-',grid='on',logy=\"sym\",linewidth=2, marker='o')#df[df['Muertos_tot'] > 10]\n",
    "plt.ylabel('Cantidad', fontsize=14)\n",
    "plt.annotate('%d' % df.Tests.max(), xy=(1, df.Tests.max()), xytext=(8, 0), \n",
    "                 xycoords=('axes fraction', 'data'), textcoords='offset points')\n",
    "name='Graficos/Test_tot_'+df.index[-1].strftime(\"%d%b\")#str(df.index[-1])+'.png'\n",
    "#plt.savefig(name)"
   ]
  },
  {
   "cell_type": "markdown",
   "metadata": {},
   "source": [
    "### Como quedo la tabla"
   ]
  },
  {
   "cell_type": "code",
   "execution_count": null,
   "metadata": {
    "scrolled": false
   },
   "outputs": [],
   "source": [
    "df.describe()"
   ]
  },
  {
   "cell_type": "markdown",
   "metadata": {},
   "source": [
    "## Meto todos los datos de la tabla en un archivo .csv  con la fecha"
   ]
  },
  {
   "cell_type": "code",
   "execution_count": null,
   "metadata": {},
   "outputs": [],
   "source": [
    "name='csv _datos_completos/Septiembre/Covid_arg_completo'+df.index[-1].strftime(\"%d%b\")+'.csv'#str(df.index[-1])\n",
    "df.to_csv(name, index=True)"
   ]
  },
  {
   "cell_type": "markdown",
   "metadata": {},
   "source": [
    "### Probando interpolaciones..."
   ]
  },
  {
   "cell_type": "code",
   "execution_count": null,
   "metadata": {
    "scrolled": false
   },
   "outputs": [],
   "source": [
    "import numpy as np\n",
    "N=7\n",
    "df[\"Contagios_MA\"]=df.Contagios.rolling(window=N).mean()\n",
    "df[\"Recuperados_MA\"]=df.Recuperados.rolling(window=N).mean()\n",
    "df[\"Muertos_MA\"]=df.Muertos.rolling(window=N).mean()\n",
    "df[\"Tests_diario_MA\"]=df.Tests_diario.rolling(window=N).mean()\n",
    "ax=df.plot(y=['Contagios_MA','Recuperados_MA','Muertos_MA'],color=['blue','green','red'],subplots='true',fontsize=22, legend='true',style='-',grid='on',figsize=(18,20),linewidth=3, marker='o') \n",
    "\n",
    "plt.xlabel('Fecha', fontsize=22)\n",
    "\n",
    "ax[0].set_title('Covid-19 Argentina Tasa diaria (media de 7 dias) - www.github.com/rodri16/CovidArgentinaGraficos',fontsize=24)\n",
    "\n",
    "ax[0].annotate('%d' % df.Contagios_MA.iloc[-1], xy=(1, df.Contagios_MA.iloc[-1]), xytext=(8, 0), \n",
    "                 xycoords=('axes fraction', 'data'), textcoords='offset points',size=22, color=\"blue\")  \n",
    "ax[0].set_ylim(bottom=0)\n",
    "ax[0].legend(fontsize=22)\n",
    "\n",
    "ax[1].annotate('%d' % df.Recuperados_MA.iloc[-1], xy=(1, df.Recuperados_MA.iloc[-1]), xytext=(8, 0), \n",
    "                 xycoords=('axes fraction', 'data'), textcoords='offset points',size=22, color=\"green\") \n",
    "ax[1].set_ylim(bottom=0)\n",
    "ax[1].legend(fontsize=22)\n",
    "\n",
    "ax[2].annotate('%d' % df.Muertos_MA.iloc[-1], xy=(1, df.Muertos_MA.iloc[-1]), xytext=(8, 0), \n",
    "                 xycoords=('axes fraction', 'data'), textcoords='offset points',size=22, color=\"red\") \n",
    "ax[2].set_ylim(bottom=0)\n",
    "ax[2].legend(fontsize=22)\n",
    "\n",
    "#plt.title('Covid-19 Argentina Tasa diaria (media de 7 dias)',fontsize=14)\n",
    "#plt.legend(['Contagios', 'Recuperados',\"Muertos\"],loc='upper left');\n",
    "#plt.ylabel('Cantidad', fontsize=14)\n",
    "#ax.set_facecolor(\"black\")\n",
    "\n",
    "name='Graficos/Septiembre/TasaDiariaMA_'+df.index[-1].strftime(\"%d%b\")#str(df.index[-1])+'.png'\n",
    "#plt.savefig(name)"
   ]
  },
  {
   "cell_type": "markdown",
   "metadata": {},
   "source": [
    "### Relacion entre nuevos contagios y gente testeada"
   ]
  },
  {
   "cell_type": "code",
   "execution_count": null,
   "metadata": {},
   "outputs": [],
   "source": [
    "df['cont_test']=df['Contagios']/df['Tests_diario']*100\n",
    "df[df.index > '2020-4-2']['cont_test'].plot(legend='true',style='-',grid='on',figsize=(18,20),linewidth=3, marker='o', fontsize=22)\n",
    "plt.title('Covid-19 Argentina Contagios vs tests - www.github.com/rodri16/CovidArgentinaGraficos',fontsize=24)\n",
    "plt.legend(['Contagios vs tests'],loc='upper left', fontsize=22);\n",
    "plt.ylabel('Porcentaje %', fontsize=22)\n",
    "plt.xlabel('Fecha',fontsize=22)\n",
    "plt.annotate('%d %%' % df.cont_test.iloc[-1], xy=(1, df.cont_test.iloc[-1]), xytext=(8, 0), \n",
    "                 xycoords=('axes fraction', 'data'), textcoords='offset points',size=22, color=\"blue\") \n",
    "\n",
    "name='Graficos/Septiembre/Tasa_Cont_Test'+df.index[-1].strftime(\"%d%b\")#+'.svg'#str(df.index[-1])+'.eps'\n",
    "plt.savefig(name)"
   ]
  },
  {
   "cell_type": "code",
   "execution_count": null,
   "metadata": {
    "scrolled": true
   },
   "outputs": [],
   "source": [
    "fig, axs = plt.subplots(4,1)\n",
    "\n",
    "#ax=df.plot(y=['Contagios','Contagios_MA','Muertos','Recuperados','Tests_diario'],color=['blue','red',\"green\",'grey'],figsize=(18,20),subplots='true',style='.-',grid='on',linewidth=2, marker='o', fontsize=22)#df[df['Contagios_tot'] > 100]\n",
    "plt.xlabel('Fecha', fontsize=22)\n",
    "\n",
    "df.plot(y=['Contagios','Contagios_MA'],color=['blue','black'],figsize=(18,20),style=['.-',''],grid='on',linewidth=2, fontsize=22,ax=axs[0])\n",
    "axs[0].set_title('Covid-19 Argentina Tasa diaria y media - www.github.com/rodri16/CovidArgentinaGraficos',fontsize=24)\n",
    "\n",
    "axs[0].annotate('%d' % df.Contagios.iloc[-1], xy=(1, df.Contagios.iloc[-1]), xytext=(8, 0), \n",
    "                 xycoords=('axes fraction', 'data'), textcoords='offset points',size=22, color=\"blue\")  \n",
    "axs[0].set_ylim(bottom=0)\n",
    "axs[0].legend(fontsize=22)\n",
    "\n",
    "df.plot(y=['Muertos','Muertos_MA'],color=['red','black'],figsize=(18,20),style=['.-','-'],grid='on',linewidth=2, fontsize=22,ax=axs[1])\n",
    "axs[1].annotate('%d' % df.Muertos.iloc[-1], xy=(1, df.Muertos.iloc[-1]), xytext=(8, 0), \n",
    "                 xycoords=('axes fraction', 'data'), textcoords='offset points',size=22, color=\"red\") \n",
    "axs[1].set_ylim(bottom=0)\n",
    "axs[1].legend(fontsize=22)\n",
    "\n",
    "\n",
    "df.plot(y=['Recuperados','Recuperados_MA'],color=['green','black'],figsize=(18,20),style=['.-','-'],grid='on',linewidth=2, fontsize=22,ax=axs[2])\n",
    "axs[2].annotate('%d' % df.Recuperados.iloc[-1], xy=(1, df.Recuperados.iloc[-1]), xytext=(8, 0), \n",
    "                 xycoords=('axes fraction', 'data'), textcoords='offset points',size=22, color=\"green\") \n",
    "axs[2].set_ylim(bottom=0,top=20000)\n",
    "axs[2].legend(fontsize=22)\n",
    "\n",
    "df.plot(y=['Tests_diario','Tests_diario_MA'],color=['grey','black'],figsize=(18,20),style=['.-','-'],grid='on',linewidth=2, fontsize=22,ax=axs[3])\n",
    "\n",
    "axs[3].annotate('%d' % df.Tests_diario.iloc[-1], xy=(1, df.Tests_diario.iloc[-1]), xytext=(8, 0), \n",
    "                 xycoords=('axes fraction', 'data'), textcoords='offset points',size=22, color=\"grey\") \n",
    "axs[3].set_ylim(bottom=0)\n",
    "axs[3].legend(fontsize=22)\n",
    "\n",
    "name='Graficos/Septiembre/TasaDiaria_MA_'+df.index[-1].strftime(\"%d%b\")#str(df.index[-1])+'.png'\n",
    "plt.savefig(name)"
   ]
  },
  {
   "cell_type": "code",
   "execution_count": null,
   "metadata": {},
   "outputs": [],
   "source": [
    "df.tail(5)"
   ]
  }
 ],
 "metadata": {
  "anaconda-cloud": {},
  "kernelspec": {
   "display_name": "Python 3",
   "language": "python",
   "name": "python3"
  },
  "language_info": {
   "codemirror_mode": {
    "name": "ipython",
    "version": 3
   },
   "file_extension": ".py",
   "mimetype": "text/x-python",
   "name": "python",
   "nbconvert_exporter": "python",
   "pygments_lexer": "ipython3",
   "version": "3.8.3"
  }
 },
 "nbformat": 4,
 "nbformat_minor": 1
}
