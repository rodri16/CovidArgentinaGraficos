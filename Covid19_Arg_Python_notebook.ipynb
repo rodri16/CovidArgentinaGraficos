{
 "cells": [
  {
   "cell_type": "markdown",
   "metadata": {},
   "source": [
    "# COVID-19 Argentina por RJC"
   ]
  },
  {
   "cell_type": "code",
   "execution_count": 150,
   "metadata": {},
   "outputs": [],
   "source": [
    "import os              # This provides several system utilities\n",
    "import pandas as pd    # This is the workhorse of data munging in Python\n",
    "import matplotlib.pyplot as plt\n",
    "import seaborn as sns  # This allows us to easily and beautifully plot\n",
    "\n",
    "# This ensures visualizations are plotted inside the notebook\n",
    "%matplotlib inline"
   ]
  },
  {
   "cell_type": "markdown",
   "metadata": {},
   "source": [
    "### Abro archivo con los datos del gobierno, Tasa diaria de contagios y muertos, total de recuperados y de tests"
   ]
  },
  {
   "cell_type": "code",
   "execution_count": 151,
   "metadata": {},
   "outputs": [
    {
     "data": {
      "text/html": [
       "<div>\n",
       "<style scoped>\n",
       "    .dataframe tbody tr th:only-of-type {\n",
       "        vertical-align: middle;\n",
       "    }\n",
       "\n",
       "    .dataframe tbody tr th {\n",
       "        vertical-align: top;\n",
       "    }\n",
       "\n",
       "    .dataframe thead th {\n",
       "        text-align: right;\n",
       "    }\n",
       "</style>\n",
       "<table border=\"1\" class=\"dataframe\">\n",
       "  <thead>\n",
       "    <tr style=\"text-align: right;\">\n",
       "      <th></th>\n",
       "      <th>Fecha</th>\n",
       "      <th>Contagios</th>\n",
       "      <th>Muertos</th>\n",
       "      <th>Recuperados_tot</th>\n",
       "      <th>Tests</th>\n",
       "    </tr>\n",
       "  </thead>\n",
       "  <tbody>\n",
       "    <tr>\n",
       "      <th>178</th>\n",
       "      <td>8/30/2020</td>\n",
       "      <td>7187</td>\n",
       "      <td>104</td>\n",
       "      <td>294,007</td>\n",
       "      <td>1,242,269</td>\n",
       "    </tr>\n",
       "    <tr>\n",
       "      <th>179</th>\n",
       "      <td>8/31/2020</td>\n",
       "      <td>9309</td>\n",
       "      <td>203</td>\n",
       "      <td>301,195</td>\n",
       "      <td>1,257,906</td>\n",
       "    </tr>\n",
       "    <tr>\n",
       "      <th>180</th>\n",
       "      <td>9/1/2020</td>\n",
       "      <td>10504</td>\n",
       "      <td>259</td>\n",
       "      <td>308,376</td>\n",
       "      <td>1,277,751</td>\n",
       "    </tr>\n",
       "    <tr>\n",
       "      <th>181</th>\n",
       "      <td>9/2/2020</td>\n",
       "      <td>10933</td>\n",
       "      <td>197</td>\n",
       "      <td>315,530</td>\n",
       "      <td>1,300,866</td>\n",
       "    </tr>\n",
       "    <tr>\n",
       "      <th>182</th>\n",
       "      <td>9/3/2020</td>\n",
       "      <td>12026</td>\n",
       "      <td>245</td>\n",
       "      <td>322,461</td>\n",
       "      <td>1,324,687</td>\n",
       "    </tr>\n",
       "    <tr>\n",
       "      <th>183</th>\n",
       "      <td>9/4/2020</td>\n",
       "      <td>10684</td>\n",
       "      <td>262</td>\n",
       "      <td>331,621</td>\n",
       "      <td>1,350,038</td>\n",
       "    </tr>\n",
       "    <tr>\n",
       "      <th>184</th>\n",
       "      <td>9/5/2020</td>\n",
       "      <td>9924</td>\n",
       "      <td>116</td>\n",
       "      <td>340,381</td>\n",
       "      <td>1,374,524</td>\n",
       "    </tr>\n",
       "    <tr>\n",
       "      <th>185</th>\n",
       "      <td>9/6/2020</td>\n",
       "      <td>6986</td>\n",
       "      <td>120</td>\n",
       "      <td>349,132</td>\n",
       "      <td>1,396,887</td>\n",
       "    </tr>\n",
       "    <tr>\n",
       "      <th>186</th>\n",
       "      <td>9/7/2020</td>\n",
       "      <td>9215</td>\n",
       "      <td>269</td>\n",
       "      <td>357,388</td>\n",
       "      <td>1,412,149</td>\n",
       "    </tr>\n",
       "    <tr>\n",
       "      <th>187</th>\n",
       "      <td>9/8/2020</td>\n",
       "      <td>12027</td>\n",
       "      <td>278</td>\n",
       "      <td>366,590</td>\n",
       "      <td>1,432,624</td>\n",
       "    </tr>\n",
       "  </tbody>\n",
       "</table>\n",
       "</div>"
      ],
      "text/plain": [
       "         Fecha  Contagios  Muertos  Recuperados_tot     Tests\n",
       "178  8/30/2020       7187      104          294,007 1,242,269\n",
       "179  8/31/2020       9309      203          301,195 1,257,906\n",
       "180   9/1/2020      10504      259          308,376 1,277,751\n",
       "181   9/2/2020      10933      197          315,530 1,300,866\n",
       "182   9/3/2020      12026      245          322,461 1,324,687\n",
       "183   9/4/2020      10684      262          331,621 1,350,038\n",
       "184   9/5/2020       9924      116          340,381 1,374,524\n",
       "185   9/6/2020       6986      120          349,132 1,396,887\n",
       "186   9/7/2020       9215      269          357,388 1,412,149\n",
       "187   9/8/2020      12027      278          366,590 1,432,624"
      ]
     },
     "execution_count": 151,
     "metadata": {},
     "output_type": "execute_result"
    }
   ],
   "source": [
    "f = 'Covid19_Arg.txt'    # Path to file containing the file\n",
    "df = pd.read_csv(f)    # Read csv file with comma sepparation\n",
    "df.tail(10)"
   ]
  },
  {
   "cell_type": "markdown",
   "metadata": {},
   "source": [
    "### Separo por comas y indexto los dias a la tabla para graficar facilmente"
   ]
  },
  {
   "cell_type": "code",
   "execution_count": 152,
   "metadata": {},
   "outputs": [
    {
     "data": {
      "text/html": [
       "<div>\n",
       "<style scoped>\n",
       "    .dataframe tbody tr th:only-of-type {\n",
       "        vertical-align: middle;\n",
       "    }\n",
       "\n",
       "    .dataframe tbody tr th {\n",
       "        vertical-align: top;\n",
       "    }\n",
       "\n",
       "    .dataframe thead th {\n",
       "        text-align: right;\n",
       "    }\n",
       "</style>\n",
       "<table border=\"1\" class=\"dataframe\">\n",
       "  <thead>\n",
       "    <tr style=\"text-align: right;\">\n",
       "      <th></th>\n",
       "      <th>Contagios</th>\n",
       "      <th>Muertos</th>\n",
       "      <th>Recuperados_tot</th>\n",
       "      <th>Tests</th>\n",
       "    </tr>\n",
       "    <tr>\n",
       "      <th>Fecha</th>\n",
       "      <th></th>\n",
       "      <th></th>\n",
       "      <th></th>\n",
       "      <th></th>\n",
       "    </tr>\n",
       "  </thead>\n",
       "  <tbody>\n",
       "    <tr>\n",
       "      <th>2020-08-30</th>\n",
       "      <td>7187</td>\n",
       "      <td>104</td>\n",
       "      <td>294,007</td>\n",
       "      <td>1,242,269</td>\n",
       "    </tr>\n",
       "    <tr>\n",
       "      <th>2020-08-31</th>\n",
       "      <td>9309</td>\n",
       "      <td>203</td>\n",
       "      <td>301,195</td>\n",
       "      <td>1,257,906</td>\n",
       "    </tr>\n",
       "    <tr>\n",
       "      <th>2020-09-01</th>\n",
       "      <td>10504</td>\n",
       "      <td>259</td>\n",
       "      <td>308,376</td>\n",
       "      <td>1,277,751</td>\n",
       "    </tr>\n",
       "    <tr>\n",
       "      <th>2020-09-02</th>\n",
       "      <td>10933</td>\n",
       "      <td>197</td>\n",
       "      <td>315,530</td>\n",
       "      <td>1,300,866</td>\n",
       "    </tr>\n",
       "    <tr>\n",
       "      <th>2020-09-03</th>\n",
       "      <td>12026</td>\n",
       "      <td>245</td>\n",
       "      <td>322,461</td>\n",
       "      <td>1,324,687</td>\n",
       "    </tr>\n",
       "    <tr>\n",
       "      <th>2020-09-04</th>\n",
       "      <td>10684</td>\n",
       "      <td>262</td>\n",
       "      <td>331,621</td>\n",
       "      <td>1,350,038</td>\n",
       "    </tr>\n",
       "    <tr>\n",
       "      <th>2020-09-05</th>\n",
       "      <td>9924</td>\n",
       "      <td>116</td>\n",
       "      <td>340,381</td>\n",
       "      <td>1,374,524</td>\n",
       "    </tr>\n",
       "    <tr>\n",
       "      <th>2020-09-06</th>\n",
       "      <td>6986</td>\n",
       "      <td>120</td>\n",
       "      <td>349,132</td>\n",
       "      <td>1,396,887</td>\n",
       "    </tr>\n",
       "    <tr>\n",
       "      <th>2020-09-07</th>\n",
       "      <td>9215</td>\n",
       "      <td>269</td>\n",
       "      <td>357,388</td>\n",
       "      <td>1,412,149</td>\n",
       "    </tr>\n",
       "    <tr>\n",
       "      <th>2020-09-08</th>\n",
       "      <td>12027</td>\n",
       "      <td>278</td>\n",
       "      <td>366,590</td>\n",
       "      <td>1,432,624</td>\n",
       "    </tr>\n",
       "  </tbody>\n",
       "</table>\n",
       "</div>"
      ],
      "text/plain": [
       "            Contagios  Muertos  Recuperados_tot     Tests\n",
       "Fecha                                                    \n",
       "2020-08-30       7187      104          294,007 1,242,269\n",
       "2020-08-31       9309      203          301,195 1,257,906\n",
       "2020-09-01      10504      259          308,376 1,277,751\n",
       "2020-09-02      10933      197          315,530 1,300,866\n",
       "2020-09-03      12026      245          322,461 1,324,687\n",
       "2020-09-04      10684      262          331,621 1,350,038\n",
       "2020-09-05       9924      116          340,381 1,374,524\n",
       "2020-09-06       6986      120          349,132 1,396,887\n",
       "2020-09-07       9215      269          357,388 1,412,149\n",
       "2020-09-08      12027      278          366,590 1,432,624"
      ]
     },
     "execution_count": 152,
     "metadata": {},
     "output_type": "execute_result"
    }
   ],
   "source": [
    "df.set_index(pd.DatetimeIndex(df['Fecha']),inplace=True)\n",
    "df.drop('Fecha', axis=1, inplace=True)\n",
    "#df['Recuperados_tot'] = pd.to_numeric(df['Recuperados_tot'])\n",
    "\n",
    "df.tail(10) #ultimos 10 valores"
   ]
  },
  {
   "cell_type": "markdown",
   "metadata": {},
   "source": [
    "### Calculo la tasa diaria de recuperados, activos y tests"
   ]
  },
  {
   "cell_type": "code",
   "execution_count": 153,
   "metadata": {},
   "outputs": [
    {
     "data": {
      "text/html": [
       "<div>\n",
       "<style scoped>\n",
       "    .dataframe tbody tr th:only-of-type {\n",
       "        vertical-align: middle;\n",
       "    }\n",
       "\n",
       "    .dataframe tbody tr th {\n",
       "        vertical-align: top;\n",
       "    }\n",
       "\n",
       "    .dataframe thead th {\n",
       "        text-align: right;\n",
       "    }\n",
       "</style>\n",
       "<table border=\"1\" class=\"dataframe\">\n",
       "  <thead>\n",
       "    <tr style=\"text-align: right;\">\n",
       "      <th></th>\n",
       "      <th>Contagios</th>\n",
       "      <th>Muertos</th>\n",
       "      <th>Recuperados_tot</th>\n",
       "      <th>Tests</th>\n",
       "      <th>Recuperados</th>\n",
       "      <th>Tests_diario</th>\n",
       "      <th>Activos</th>\n",
       "    </tr>\n",
       "    <tr>\n",
       "      <th>Fecha</th>\n",
       "      <th></th>\n",
       "      <th></th>\n",
       "      <th></th>\n",
       "      <th></th>\n",
       "      <th></th>\n",
       "      <th></th>\n",
       "      <th></th>\n",
       "    </tr>\n",
       "  </thead>\n",
       "  <tbody>\n",
       "    <tr>\n",
       "      <th>2020-08-30</th>\n",
       "      <td>7187</td>\n",
       "      <td>104</td>\n",
       "      <td>294,007</td>\n",
       "      <td>1,242,269</td>\n",
       "      <td>6,787</td>\n",
       "      <td>19,910</td>\n",
       "      <td>296</td>\n",
       "    </tr>\n",
       "    <tr>\n",
       "      <th>2020-08-31</th>\n",
       "      <td>9309</td>\n",
       "      <td>203</td>\n",
       "      <td>301,195</td>\n",
       "      <td>1,257,906</td>\n",
       "      <td>7,188</td>\n",
       "      <td>15,637</td>\n",
       "      <td>1,918</td>\n",
       "    </tr>\n",
       "    <tr>\n",
       "      <th>2020-09-01</th>\n",
       "      <td>10504</td>\n",
       "      <td>259</td>\n",
       "      <td>308,376</td>\n",
       "      <td>1,277,751</td>\n",
       "      <td>7,181</td>\n",
       "      <td>19,845</td>\n",
       "      <td>3,064</td>\n",
       "    </tr>\n",
       "    <tr>\n",
       "      <th>2020-09-02</th>\n",
       "      <td>10933</td>\n",
       "      <td>197</td>\n",
       "      <td>315,530</td>\n",
       "      <td>1,300,866</td>\n",
       "      <td>7,154</td>\n",
       "      <td>23,115</td>\n",
       "      <td>3,582</td>\n",
       "    </tr>\n",
       "    <tr>\n",
       "      <th>2020-09-03</th>\n",
       "      <td>12026</td>\n",
       "      <td>245</td>\n",
       "      <td>322,461</td>\n",
       "      <td>1,324,687</td>\n",
       "      <td>6,931</td>\n",
       "      <td>23,821</td>\n",
       "      <td>4,850</td>\n",
       "    </tr>\n",
       "    <tr>\n",
       "      <th>2020-09-04</th>\n",
       "      <td>10684</td>\n",
       "      <td>262</td>\n",
       "      <td>331,621</td>\n",
       "      <td>1,350,038</td>\n",
       "      <td>9,160</td>\n",
       "      <td>25,351</td>\n",
       "      <td>1,262</td>\n",
       "    </tr>\n",
       "    <tr>\n",
       "      <th>2020-09-05</th>\n",
       "      <td>9924</td>\n",
       "      <td>116</td>\n",
       "      <td>340,381</td>\n",
       "      <td>1,374,524</td>\n",
       "      <td>8,760</td>\n",
       "      <td>24,486</td>\n",
       "      <td>1,048</td>\n",
       "    </tr>\n",
       "    <tr>\n",
       "      <th>2020-09-06</th>\n",
       "      <td>6986</td>\n",
       "      <td>120</td>\n",
       "      <td>349,132</td>\n",
       "      <td>1,396,887</td>\n",
       "      <td>8,751</td>\n",
       "      <td>22,363</td>\n",
       "      <td>-1,885</td>\n",
       "    </tr>\n",
       "    <tr>\n",
       "      <th>2020-09-07</th>\n",
       "      <td>9215</td>\n",
       "      <td>269</td>\n",
       "      <td>357,388</td>\n",
       "      <td>1,412,149</td>\n",
       "      <td>8,256</td>\n",
       "      <td>15,262</td>\n",
       "      <td>690</td>\n",
       "    </tr>\n",
       "    <tr>\n",
       "      <th>2020-09-08</th>\n",
       "      <td>12027</td>\n",
       "      <td>278</td>\n",
       "      <td>366,590</td>\n",
       "      <td>1,432,624</td>\n",
       "      <td>9,202</td>\n",
       "      <td>20,475</td>\n",
       "      <td>2,547</td>\n",
       "    </tr>\n",
       "  </tbody>\n",
       "</table>\n",
       "</div>"
      ],
      "text/plain": [
       "            Contagios  Muertos  Recuperados_tot     Tests  Recuperados  \\\n",
       "Fecha                                                                    \n",
       "2020-08-30       7187      104          294,007 1,242,269        6,787   \n",
       "2020-08-31       9309      203          301,195 1,257,906        7,188   \n",
       "2020-09-01      10504      259          308,376 1,277,751        7,181   \n",
       "2020-09-02      10933      197          315,530 1,300,866        7,154   \n",
       "2020-09-03      12026      245          322,461 1,324,687        6,931   \n",
       "2020-09-04      10684      262          331,621 1,350,038        9,160   \n",
       "2020-09-05       9924      116          340,381 1,374,524        8,760   \n",
       "2020-09-06       6986      120          349,132 1,396,887        8,751   \n",
       "2020-09-07       9215      269          357,388 1,412,149        8,256   \n",
       "2020-09-08      12027      278          366,590 1,432,624        9,202   \n",
       "\n",
       "            Tests_diario  Activos  \n",
       "Fecha                              \n",
       "2020-08-30        19,910      296  \n",
       "2020-08-31        15,637    1,918  \n",
       "2020-09-01        19,845    3,064  \n",
       "2020-09-02        23,115    3,582  \n",
       "2020-09-03        23,821    4,850  \n",
       "2020-09-04        25,351    1,262  \n",
       "2020-09-05        24,486    1,048  \n",
       "2020-09-06        22,363   -1,885  \n",
       "2020-09-07        15,262      690  \n",
       "2020-09-08        20,475    2,547  "
      ]
     },
     "execution_count": 153,
     "metadata": {},
     "output_type": "execute_result"
    }
   ],
   "source": [
    "df['Recuperados'] = df['Recuperados_tot'].diff()\n",
    "df['Tests_diario'] = df['Tests'].diff()\n",
    "df['Activos']=df['Contagios']-df['Recuperados']-df['Muertos']\n",
    "df['Activos'] = pd.to_numeric(df['Activos'])\n",
    "df.tail(10)"
   ]
  },
  {
   "cell_type": "markdown",
   "metadata": {},
   "source": [
    "### Calculo el total de contagios, muertos y activos"
   ]
  },
  {
   "cell_type": "code",
   "execution_count": 154,
   "metadata": {},
   "outputs": [
    {
     "data": {
      "text/html": [
       "<div>\n",
       "<style scoped>\n",
       "    .dataframe tbody tr th:only-of-type {\n",
       "        vertical-align: middle;\n",
       "    }\n",
       "\n",
       "    .dataframe tbody tr th {\n",
       "        vertical-align: top;\n",
       "    }\n",
       "\n",
       "    .dataframe thead th {\n",
       "        text-align: right;\n",
       "    }\n",
       "</style>\n",
       "<table border=\"1\" class=\"dataframe\">\n",
       "  <thead>\n",
       "    <tr style=\"text-align: right;\">\n",
       "      <th></th>\n",
       "      <th>Contagios</th>\n",
       "      <th>Muertos</th>\n",
       "      <th>Recuperados_tot</th>\n",
       "      <th>Tests</th>\n",
       "      <th>Recuperados</th>\n",
       "      <th>Tests_diario</th>\n",
       "      <th>Activos</th>\n",
       "      <th>Contagios_tot</th>\n",
       "      <th>Muertos_tot</th>\n",
       "      <th>Activos_tot</th>\n",
       "    </tr>\n",
       "    <tr>\n",
       "      <th>Fecha</th>\n",
       "      <th></th>\n",
       "      <th></th>\n",
       "      <th></th>\n",
       "      <th></th>\n",
       "      <th></th>\n",
       "      <th></th>\n",
       "      <th></th>\n",
       "      <th></th>\n",
       "      <th></th>\n",
       "      <th></th>\n",
       "    </tr>\n",
       "  </thead>\n",
       "  <tbody>\n",
       "    <tr>\n",
       "      <th>2020-08-30</th>\n",
       "      <td>7187</td>\n",
       "      <td>104</td>\n",
       "      <td>294,007</td>\n",
       "      <td>1,242,269</td>\n",
       "      <td>6,787</td>\n",
       "      <td>19,910</td>\n",
       "      <td>296</td>\n",
       "      <td>408426</td>\n",
       "      <td>8457</td>\n",
       "      <td>105,962</td>\n",
       "    </tr>\n",
       "    <tr>\n",
       "      <th>2020-08-31</th>\n",
       "      <td>9309</td>\n",
       "      <td>203</td>\n",
       "      <td>301,195</td>\n",
       "      <td>1,257,906</td>\n",
       "      <td>7,188</td>\n",
       "      <td>15,637</td>\n",
       "      <td>1,918</td>\n",
       "      <td>417735</td>\n",
       "      <td>8660</td>\n",
       "      <td>107,880</td>\n",
       "    </tr>\n",
       "    <tr>\n",
       "      <th>2020-09-01</th>\n",
       "      <td>10504</td>\n",
       "      <td>259</td>\n",
       "      <td>308,376</td>\n",
       "      <td>1,277,751</td>\n",
       "      <td>7,181</td>\n",
       "      <td>19,845</td>\n",
       "      <td>3,064</td>\n",
       "      <td>428239</td>\n",
       "      <td>8919</td>\n",
       "      <td>110,944</td>\n",
       "    </tr>\n",
       "    <tr>\n",
       "      <th>2020-09-02</th>\n",
       "      <td>10933</td>\n",
       "      <td>197</td>\n",
       "      <td>315,530</td>\n",
       "      <td>1,300,866</td>\n",
       "      <td>7,154</td>\n",
       "      <td>23,115</td>\n",
       "      <td>3,582</td>\n",
       "      <td>439172</td>\n",
       "      <td>9116</td>\n",
       "      <td>114,526</td>\n",
       "    </tr>\n",
       "    <tr>\n",
       "      <th>2020-09-03</th>\n",
       "      <td>12026</td>\n",
       "      <td>245</td>\n",
       "      <td>322,461</td>\n",
       "      <td>1,324,687</td>\n",
       "      <td>6,931</td>\n",
       "      <td>23,821</td>\n",
       "      <td>4,850</td>\n",
       "      <td>451198</td>\n",
       "      <td>9361</td>\n",
       "      <td>119,376</td>\n",
       "    </tr>\n",
       "    <tr>\n",
       "      <th>2020-09-04</th>\n",
       "      <td>10684</td>\n",
       "      <td>262</td>\n",
       "      <td>331,621</td>\n",
       "      <td>1,350,038</td>\n",
       "      <td>9,160</td>\n",
       "      <td>25,351</td>\n",
       "      <td>1,262</td>\n",
       "      <td>461882</td>\n",
       "      <td>9623</td>\n",
       "      <td>120,638</td>\n",
       "    </tr>\n",
       "    <tr>\n",
       "      <th>2020-09-05</th>\n",
       "      <td>9924</td>\n",
       "      <td>116</td>\n",
       "      <td>340,381</td>\n",
       "      <td>1,374,524</td>\n",
       "      <td>8,760</td>\n",
       "      <td>24,486</td>\n",
       "      <td>1,048</td>\n",
       "      <td>471806</td>\n",
       "      <td>9739</td>\n",
       "      <td>121,686</td>\n",
       "    </tr>\n",
       "    <tr>\n",
       "      <th>2020-09-06</th>\n",
       "      <td>6986</td>\n",
       "      <td>120</td>\n",
       "      <td>349,132</td>\n",
       "      <td>1,396,887</td>\n",
       "      <td>8,751</td>\n",
       "      <td>22,363</td>\n",
       "      <td>-1,885</td>\n",
       "      <td>478792</td>\n",
       "      <td>9859</td>\n",
       "      <td>119,801</td>\n",
       "    </tr>\n",
       "    <tr>\n",
       "      <th>2020-09-07</th>\n",
       "      <td>9215</td>\n",
       "      <td>269</td>\n",
       "      <td>357,388</td>\n",
       "      <td>1,412,149</td>\n",
       "      <td>8,256</td>\n",
       "      <td>15,262</td>\n",
       "      <td>690</td>\n",
       "      <td>488007</td>\n",
       "      <td>10128</td>\n",
       "      <td>120,491</td>\n",
       "    </tr>\n",
       "    <tr>\n",
       "      <th>2020-09-08</th>\n",
       "      <td>12027</td>\n",
       "      <td>278</td>\n",
       "      <td>366,590</td>\n",
       "      <td>1,432,624</td>\n",
       "      <td>9,202</td>\n",
       "      <td>20,475</td>\n",
       "      <td>2,547</td>\n",
       "      <td>500034</td>\n",
       "      <td>10406</td>\n",
       "      <td>123,038</td>\n",
       "    </tr>\n",
       "  </tbody>\n",
       "</table>\n",
       "</div>"
      ],
      "text/plain": [
       "            Contagios  Muertos  Recuperados_tot     Tests  Recuperados  \\\n",
       "Fecha                                                                    \n",
       "2020-08-30       7187      104          294,007 1,242,269        6,787   \n",
       "2020-08-31       9309      203          301,195 1,257,906        7,188   \n",
       "2020-09-01      10504      259          308,376 1,277,751        7,181   \n",
       "2020-09-02      10933      197          315,530 1,300,866        7,154   \n",
       "2020-09-03      12026      245          322,461 1,324,687        6,931   \n",
       "2020-09-04      10684      262          331,621 1,350,038        9,160   \n",
       "2020-09-05       9924      116          340,381 1,374,524        8,760   \n",
       "2020-09-06       6986      120          349,132 1,396,887        8,751   \n",
       "2020-09-07       9215      269          357,388 1,412,149        8,256   \n",
       "2020-09-08      12027      278          366,590 1,432,624        9,202   \n",
       "\n",
       "            Tests_diario  Activos  Contagios_tot  Muertos_tot  Activos_tot  \n",
       "Fecha                                                                       \n",
       "2020-08-30        19,910      296         408426         8457      105,962  \n",
       "2020-08-31        15,637    1,918         417735         8660      107,880  \n",
       "2020-09-01        19,845    3,064         428239         8919      110,944  \n",
       "2020-09-02        23,115    3,582         439172         9116      114,526  \n",
       "2020-09-03        23,821    4,850         451198         9361      119,376  \n",
       "2020-09-04        25,351    1,262         461882         9623      120,638  \n",
       "2020-09-05        24,486    1,048         471806         9739      121,686  \n",
       "2020-09-06        22,363   -1,885         478792         9859      119,801  \n",
       "2020-09-07        15,262      690         488007        10128      120,491  \n",
       "2020-09-08        20,475    2,547         500034        10406      123,038  "
      ]
     },
     "execution_count": 154,
     "metadata": {},
     "output_type": "execute_result"
    }
   ],
   "source": [
    "df['Contagios_tot'] = df['Contagios'].cumsum()\n",
    "df['Muertos_tot'] = df['Muertos'].cumsum()\n",
    "df['Activos_tot']=df['Contagios_tot']-df['Recuperados_tot']-df['Muertos_tot']\n",
    "\n",
    "pd.options.display.float_format = '{:,.0f}'.format #en enteros sin coma\n",
    "df.tail(10)"
   ]
  },
  {
   "cell_type": "markdown",
   "metadata": {},
   "source": [
    "### Grafico de tasa diaria"
   ]
  },
  {
   "cell_type": "code",
   "execution_count": 155,
   "metadata": {
    "scrolled": true
   },
   "outputs": [
    {
     "data": {
      "image/png": "[encoded data removed]",
      "text/plain": [
       "<Figure size 1296x1440 with 1 Axes>"
      ]
     },
     "metadata": {
      "needs_background": "light"
     },
     "output_type": "display_data"
    }
   ],
   "source": [
    "ax=df.plot(y=['Contagios','Recuperados','Muertos'], legend='true',style='-',grid='on',figsize=(18,20),linewidth=5, marker='o', markersize=10, fontsize=22)\n",
    "\n",
    "plt.title('Covid-19 Argentina Tasa diaria - www.github.com/rodri16/CovidArgentinaGraficos',fontsize=24)\n",
    "plt.legend(['Contagios', 'Recuperados',\"Muertos\"],loc='upper left', fontsize=22);\n",
    "plt.ylabel('Cantidad', fontsize=22)\n",
    "plt.xlabel('Fecha', fontsize=22)\n",
    "#ax.text('2020-4-2',280,'https://github.com/rodri16/CovidArgentinaGraficos',fontsize=10)\n",
    "#agrega ultimo numero\n",
    "#for var in (df.Contagios,df.Recuperados,df.Muertos):\n",
    "#    plt.annotate('%d' % var.iloc[-1], xy=(1, var.iloc[-1]), xytext=(8, 0), \n",
    "#                 xycoords=('axes fraction', 'data'), textcoords='offset points')\n",
    "    \n",
    "plt.annotate('%d' % df.Contagios.iloc[-1], xy=(1, df.Contagios.iloc[-1]), xytext=(8, 0), \n",
    "                 xycoords=('axes fraction', 'data'), textcoords='offset points',color='blue',size=18)\n",
    "plt.annotate('%d' % df.Recuperados.iloc[-1], xy=(1, df.Recuperados.iloc[-1]), xytext=(8, 0), \n",
    "                 xycoords=('axes fraction', 'data'), textcoords='offset points',color='orange',size=18)\n",
    "plt.annotate('%d' % df.Muertos.iloc[-1], xy=(1, df.Muertos.iloc[-1]), xytext=(8, 0), \n",
    "                 xycoords=('axes fraction', 'data'), textcoords='offset points',color='green',size=18)\n",
    "\n",
    "    # Add labels to the plot\n",
    "style = dict(size=18, color='black')    \n",
    "#Texto de la cuarentena obligatoria\n",
    "ax.text('2020-3-20', 10, \"------------------------------------------------------------------------------------------------------------- Fase I-Cuarentena obligatoria\",rotation=90, **style)\n",
    "#Texto de la Fase II\n",
    "ax.text('2020-4-1', 10, \"----------------------------------------------------------------------------------------------------------------------------------------------- Fase II\",rotation=90, **style)\n",
    "#Texto de la Fase III\n",
    "ax.text('2020-4-13', 10, \"---------------------------------------------------------------------------------------------------------------------------------------------- Fase III\",rotation=90, **style)\n",
    "#Texto de la Fase IV\n",
    "ax.text('2020-5-10', 10, \"---------------------------------------------------------------------------------------------------------------------------------------------- Fase IV\",rotation=90, **style)\n",
    "\n",
    "\n",
    "#valor minimo eje y = 0\n",
    "plt.gca().set_ylim(bottom=0)\n",
    "\n",
    "\n",
    "#Salvo el grafico con la ultima fecha\n",
    "name='Graficos/Septiembre/TasaDiariaLine_'+df.index[-1].strftime(\"%d%b\")#str(df.index[-1])+'.png'\n",
    "plt.savefig(name, bits=16)"
   ]
  },
  {
   "cell_type": "code",
   "execution_count": 156,
   "metadata": {},
   "outputs": [],
   "source": [
    "#ax=df.plot(y=['Contagios','Recuperados','Muertos'], legend='true',style='-',logy=\"sym\",grid='on',figsize=(11,8),linewidth=3, marker='o')\n"
   ]
  },
  {
   "cell_type": "code",
   "execution_count": 157,
   "metadata": {
    "scrolled": true
   },
   "outputs": [
    {
     "data": {
      "image/png": "[encoded data removed]",
      "text/plain": [
       "<Figure size 720x576 with 1 Axes>"
      ]
     },
     "metadata": {
      "needs_background": "light"
     },
     "output_type": "display_data"
    }
   ],
   "source": [
    "#agrego los tests pero no se ve nada (mejor en logaritmico)\n",
    "ax=df.plot(y=['Contagios','Recuperados','Muertos','Tests_diario'], legend='true',style='-',grid='on',figsize=(10,8),linewidth=3, marker='o')\n",
    "\n",
    "plt.title('Covid-19 Argentina Tasa diaria',fontsize=14)\n",
    "plt.legend(['Contagios', 'Recuperados',\"Muertos\",\"Tests\"],loc='upper left');\n",
    "plt.ylabel('Cantidad', fontsize=14)\n",
    "\n",
    "#agrega ultimo numero\n",
    "for var in (df.Contagios,df.Recuperados,df.Muertos,df.Tests_diario):\n",
    "    plt.annotate('%d' % var.iloc[-1], xy=(1, var.iloc[-1]), xytext=(8, 0), \n",
    "                 xycoords=('axes fraction', 'data'), textcoords='offset points')\n",
    "    \n",
    "#valor mininmo en y = 0\n",
    "plt.gca().set_ylim(bottom=0)\n",
    "\n",
    "#salvo grafico\n",
    "name='Graficos/TasaDiariaFullLine_'+df.index[-1].strftime(\"%d%b\")#str(df.index[-1])+'.png'\n",
    "#plt.savefig(name)"
   ]
  },
  {
   "cell_type": "markdown",
   "metadata": {},
   "source": [
    "### Grafico de barras de las tasas diarias (solo otra manera de verlo)"
   ]
  },
  {
   "cell_type": "code",
   "execution_count": null,
   "metadata": {
    "scrolled": true
   },
   "outputs": [],
   "source": [
    "ax=df.plot.bar(y=['Contagios','Recuperados','Muertos'],color=['blue','green','red'],width=0.8, legend='true',figsize=(10,8))\n",
    "#arreglo el formato de la fecha\n",
    "plt.gca().xaxis.set_major_formatter(plt.FixedFormatter(df.index.to_series().dt.strftime(\"%d %b\")))#arregla la fecha\n",
    "#agrego grid\n",
    "plt.grid(axis='y')\n",
    "plt.title('Covid-19 Argentina Tasa diaria',fontsize=14)\n",
    "plt.ylabel('Cantidad', fontsize=14)\n",
    "\n",
    "#numeros arriba de la barra\n",
    "for p in ax.patches:\n",
    "    ax.annotate(int(p.get_height()), (p.get_x() * 0.995, p.get_height() * 1.005),rotation=45)\n",
    "\n",
    "    #salvo grafico\n",
    "name='Graficos/TasaDiariaBar_'+df.index[-1].strftime(\"%d%b\")#str(df.index[-1])+'.png'\n",
    "#plt.savefig(name)"
   ]
  },
  {
   "cell_type": "code",
   "execution_count": null,
   "metadata": {
    "scrolled": false
   },
   "outputs": [],
   "source": [
    "ax=df[df.index > '2020-4-10'].Tests_diario.plot.bar(color=['brown'],width=0.8, legend='true',figsize=(24,16), fontsize=22)\n",
    "\n",
    "#arreglo el formato de la fecha\n",
    "#plt.gca().xaxis.set_major_formatter(plt.FixedFormatter(df[df.index > '2020-4-10'].index.to_series().dt.strftime(\"%d %b\")))#arregla la fecha\n",
    "\n",
    "# Make most of the ticklabels empty so the labels don't get too crowded\n",
    "import matplotlib.ticker as ticker\n",
    "ticklabels = ['']*len(df[df.index > '2020-4-10'].index)\n",
    "# Every 7th ticklable shows the month and day\n",
    "ticklabels[::7] = [item.strftime('%b %d') for item in df[df.index > '2020-4-10'].index[::7]]\n",
    "# Every 35th ticklabel includes the year\n",
    "ticklabels[::35] = [item.strftime('%b %d\\n%Y') for item in df[df.index > '2020-4-10'].index[::35]]\n",
    "ax.xaxis.set_major_formatter(ticker.FixedFormatter(ticklabels))\n",
    "\n",
    "#agrego grid\n",
    "plt.grid(axis='y')\n",
    "plt.legend(fontsize=22,loc='upper left')\n",
    "plt.xlabel('Fecha',fontsize=22)\n",
    "plt.title('Covid-19 Argentina Test diarios. https://github.com/rodri16/CovidArgentinaGraficos',fontsize=24)\n",
    "plt.ylabel('Cantidad', fontsize=22)\n",
    "\n",
    "#numeros arriba de la barra\n",
    "for p in ax.patches:\n",
    "    ax.annotate(int(p.get_height()), (p.get_x() * 0.995, p.get_height() * 1.009),rotation=90, fontsize=18)\n",
    "\n",
    "    #salvo grafico\n",
    "name='Graficos/Septiembre/TestDiarioBar_'+df.index[-1].strftime(\"%d%b\")#str(df.index[-1])+'.png'\n",
    "plt.savefig(name)"
   ]
  },
  {
   "cell_type": "markdown",
   "metadata": {},
   "source": [
    "### Grafico total contagios y Activos"
   ]
  },
  {
   "cell_type": "code",
   "execution_count": null,
   "metadata": {
    "scrolled": true
   },
   "outputs": [],
   "source": [
    "ax=df.plot(y=['Contagios_tot','Activos_tot'], style='-',grid='on',figsize=(11,8),linewidth=3, marker='o')\n",
    "plt.title('Covid-19 Argentina Total',fontsize=14)\n",
    "plt.xlabel('Fecha', fontsize=14)\n",
    "plt.ylabel('Cantidad', fontsize=14)\n",
    "\n",
    "#agrega ultimo numero\n",
    "for var in (df.Contagios_tot,df.Activos_tot):\n",
    "    plt.annotate('%d' % var.iloc[-1], xy=(1, var.iloc[-1]), xytext=(8, 0), \n",
    "                 xycoords=('axes fraction', 'data'), textcoords='offset points')\n",
    "\n",
    "#valor mininmo en y = 0\n",
    "plt.gca().set_ylim(bottom=0)\n",
    "\n",
    "#salvo grafico\n",
    "name='Graficos/Contagios_tot_'+df.index[-1].strftime(\"%d%b\")#str(df.index[-1])+'.png'\n",
    "#plt.savefig(name)"
   ]
  },
  {
   "cell_type": "markdown",
   "metadata": {},
   "source": [
    "### Agrego total Muertos"
   ]
  },
  {
   "cell_type": "code",
   "execution_count": null,
   "metadata": {
    "scrolled": true
   },
   "outputs": [],
   "source": [
    "ax=df.plot(y=['Contagios_tot','Recuperados_tot','Muertos_tot'], style='-',grid='on',figsize=(11,8),linewidth=3, marker='o')\n",
    "plt.title('Covid-19 Argentina Total',fontsize=14)\n",
    "plt.xlabel('Fecha', fontsize=14)\n",
    "plt.ylabel('Cantidad', fontsize=14)\n",
    "plt.legend(loc='upper left');\n",
    "#numeros arriba de la barra\n",
    "#for p in ax.patches:\n",
    "#    ax.annotate(int(p.get_height()), (p.get_x() * 1.005, p.get_height() * 1.005))\n",
    "\n",
    "#agrega ultimo numero\n",
    "for var in (df.Contagios_tot,df.Recuperados_tot,df.Muertos_tot):\n",
    "    plt.annotate('%d' % var.max(), xy=(1, var.max()), xytext=(8, 0), \n",
    "                 xycoords=('axes fraction', 'data'), textcoords='offset points')\n",
    "\n",
    "#valor mininmo en y = 0\n",
    "plt.gca().set_ylim(bottom=0)\n",
    "\n",
    "name='Graficos/Contagios_tot_'+df.index[-1].strftime(\"%d%b\")#str(df.index[-1])+'.png'\n",
    "#plt.savefig(name)"
   ]
  },
  {
   "cell_type": "markdown",
   "metadata": {},
   "source": [
    "### Grafico Totales (el mas completo!!)"
   ]
  },
  {
   "cell_type": "code",
   "execution_count": null,
   "metadata": {
    "scrolled": true
   },
   "outputs": [],
   "source": [
    "import matplotlib.ticker as mticker\n",
    "ax=df.plot(y=['Contagios_tot','Muertos_tot','Recuperados_tot',\"Activos_tot\"],color=['blue','red',\"green\",'grey'],fontsize=22, style='-',grid='on',figsize=(18,20),linewidth=3, marker='o')\n",
    "plt.title('Covid-19 Argentina Total - www.github.com/rodri16/CovidArgentinaGraficos',fontsize=24)\n",
    "plt.xlabel('Fecha', fontsize=22)\n",
    "plt.ylabel('Cantidad', fontsize=22)\n",
    "plt.legend(['Contagios total','Muertos total','Recuperados total',\"Activos total\"],loc='upper left', fontsize=22);\n",
    "#ax.text('2020-4-2',5800,'www.github.com/rodri16/CovidArgentinaGraficos',fontsize=10)\n",
    "\n",
    "#agrega ultimo valor\n",
    "for var in (df.Contagios_tot,df.Muertos_tot,df.Recuperados_tot):\n",
    "    plt.annotate('%d' % var.max(), xy=(1, var.max()), xytext=(8, 0), \n",
    "                 xycoords=('axes fraction', 'data'), textcoords='offset points',size=22)\n",
    "\n",
    "plt.annotate('%d' % df.Activos_tot.iloc[-1], xy=(1, df.Activos_tot.iloc[-1]), xytext=(8, 0), \n",
    "                 xycoords=('axes fraction', 'data'), textcoords='offset points',size=22)   \n",
    "# Add labels to the plot\n",
    "style = dict(size=22, color='gray')\n",
    "\n",
    "#Texto de la cuarentena obligatoria\n",
    "ax.text('2020-3-20', 10, \"-------------------------------------------Fase I-Cuarentena obligatoria\",rotation=90, **style)\n",
    "#Texto de la Fase II\n",
    "ax.text('2020-4-1', 10, \"------------------------------------------------------------------------------Fase II\",rotation=90, **style)\n",
    "#Texto de la Fase III\n",
    "ax.text('2020-4-13', 10, \"-----------------------------------------------------------------------------Fase III\",rotation=90, **style)\n",
    "#Texto de la Fase IV\n",
    "ax.text('2020-5-10', 10, \"-------------------------------------------------------------------------------Fase IV\",rotation=90, **style)\n",
    "\n",
    "#ax.set_facecolor(\"black\")\n",
    "#valor minimo en y = 0\n",
    "plt.gca().set_ylim(bottom=0)\n",
    "\n",
    "name='Graficos/Septiembre/Contagios_tot_'+df.index[-1].strftime(\"%d%b\")#str(df.index[-1])+'.png'\n",
    "plt.savefig(name, bits=16)"
   ]
  },
  {
   "cell_type": "markdown",
   "metadata": {},
   "source": [
    "### Subplots"
   ]
  },
  {
   "cell_type": "code",
   "execution_count": null,
   "metadata": {
    "scrolled": true
   },
   "outputs": [],
   "source": [
    "ax=df.plot(y=['Contagios','Muertos','Recuperados','Tests_diario'],color=['blue','red',\"green\",'grey'],figsize=(18,20),subplots='true',style='.-',grid='on',linewidth=2, marker='o', fontsize=22)#df[df['Contagios_tot'] > 100]\n",
    "plt.xlabel('Fecha', fontsize=22)\n",
    "\n",
    "ax[0].set_title('Covid-19 Argentina Tasa diaria - www.github.com/rodri16/CovidArgentinaGraficos',fontsize=24)\n",
    "\n",
    "ax[0].annotate('%d' % df.Contagios.iloc[-1], xy=(1, df.Contagios.iloc[-1]), xytext=(8, 0), \n",
    "                 xycoords=('axes fraction', 'data'), textcoords='offset points',size=22, color=\"blue\")  \n",
    "ax[0].set_ylim(bottom=0)\n",
    "ax[0].legend(fontsize=22)\n",
    "\n",
    "ax[1].annotate('%d' % df.Muertos.iloc[-1], xy=(1, df.Muertos.iloc[-1]), xytext=(8, 0), \n",
    "                 xycoords=('axes fraction', 'data'), textcoords='offset points',size=22, color=\"red\") \n",
    "ax[1].set_ylim(bottom=0)\n",
    "ax[1].legend(fontsize=22)\n",
    "\n",
    "ax[2].annotate('%d' % df.Recuperados.iloc[-1], xy=(1, df.Recuperados.iloc[-1]), xytext=(8, 0), \n",
    "                 xycoords=('axes fraction', 'data'), textcoords='offset points',size=22, color=\"green\") \n",
    "ax[2].set_ylim(bottom=0)\n",
    "ax[2].legend(fontsize=22)\n",
    "\n",
    "\n",
    "ax[3].annotate('%d' % df.Tests_diario.iloc[-1], xy=(1, df.Tests_diario.iloc[-1]), xytext=(8, 0), \n",
    "                 xycoords=('axes fraction', 'data'), textcoords='offset points',size=22, color=\"grey\") \n",
    "ax[3].set_ylim(bottom=0)\n",
    "ax[3].legend(fontsize=22)\n",
    "\n",
    "name='Graficos/Septiembre/Todos_diario_sub_'+df.index[-1].strftime(\"%d%b\")#str(df.index[-1])+'.png'\n",
    "plt.savefig(name)"
   ]
  },
  {
   "cell_type": "markdown",
   "metadata": {},
   "source": [
    "### Grafico de totales igual al anterior pero en escala logaritmica, se pueden ver un poco mejor lo valores chicos con respecto a los grandes pero es un poco tricky"
   ]
  },
  {
   "cell_type": "code",
   "execution_count": null,
   "metadata": {
    "scrolled": true
   },
   "outputs": [],
   "source": [
    "import matplotlib.ticker as mticker\n",
    "ax=df.plot(y=['Contagios_tot','Recuperados_tot','Muertos_tot',\"Activos_tot\"],color=['blue',\"green\",'red','grey'],logy=\"sym\", style='-',grid='on',figsize=(10,8),linewidth=3, marker='o')\n",
    "plt.title('Covid-19 Argentina Total',fontsize=14)\n",
    "plt.xlabel('Fecha', fontsize=14)\n",
    "plt.ylabel('Cantidad en escala log', fontsize=14)\n",
    "plt.legend(['Contagios total','Recuperados total','Muertos total',\"Activos total\"],loc='upper left');\n",
    "ax.yaxis.set_major_formatter(mticker.ScalarFormatter())\n",
    "\n",
    "for var in (df.Contagios_tot,df.Recuperados_tot,df.Muertos_tot,df.Activos_tot):\n",
    "    plt.annotate('%d' % var.max(), xy=(1, var.max()), xytext=(8, 0), \n",
    "                 xycoords=('axes fraction', 'data'), textcoords='offset points')\n",
    "\n",
    "plt.gca().set_ylim(bottom=0)\n",
    "\n",
    "name='Graficos/Contagios_tot_log'+df.index[-1].strftime(\"%d%b\")#str(df.index[-1])+'.png'\n",
    "#plt.savefig(name)"
   ]
  },
  {
   "cell_type": "markdown",
   "metadata": {},
   "source": [
    "### Agrego los test en escala logaritmica, aca se pueden ver todos los datos juntos gracias a la escala log"
   ]
  },
  {
   "cell_type": "code",
   "execution_count": null,
   "metadata": {},
   "outputs": [],
   "source": [
    "import matplotlib.ticker as mticker\n",
    "ax=df.plot(y=['Contagios_tot','Recuperados_tot','Muertos_tot',\"Activos_tot\",\"Tests\"],color=['blue',\"green\",'red','grey','purple'],logy=\"sym\", style='-',grid='on',figsize=(18,20),fontsize=22,linewidth=3, marker='o')\n",
    "plt.title('Covid-19 Argentina Total',fontsize=24)\n",
    "plt.xlabel('Fecha', fontsize=22)\n",
    "plt.ylabel('Cantidad en escala log', fontsize=22)\n",
    "plt.legend(['Contagios total','Recuperados total','Muertos total',\"Activos total\",\"Tests\"],loc='upper left', fontsize=22);\n",
    "#ax.yaxis.set_major_formatter(mticker.ScalarFormatter())\n",
    "\n",
    "\n",
    "for var in (df.Contagios_tot,df.Recuperados_tot,df.Muertos_tot,df.Activos_tot,df.Tests):\n",
    "    plt.annotate('%d' % var.max(), xy=(1, var.max()), xytext=(8, 0), \n",
    "                 xycoords=('axes fraction', 'data'), textcoords='offset points', fontsize=22)\n",
    "\n",
    "plt.gca().set_ylim(bottom=0)\n",
    "\n",
    "name='Graficos/Septiembre/Contagios_totTests_log'+df.index[-1].strftime(\"%d%b\")#str(df.index[-1])+'.png'\n",
    "plt.savefig(name)"
   ]
  },
  {
   "cell_type": "markdown",
   "metadata": {},
   "source": [
    "### Asi sin escala log, se ve la diferencia!!"
   ]
  },
  {
   "cell_type": "code",
   "execution_count": null,
   "metadata": {},
   "outputs": [],
   "source": [
    "import matplotlib.ticker as mticker\n",
    "ax=df.plot(y=['Contagios_tot','Recuperados_tot','Muertos_tot',\"Activos_tot\",\"Tests\"], style='-',grid='on',figsize=(10,8),linewidth=3, marker='o')\n",
    "plt.title('Covid-19 Argentina Total',fontsize=14)\n",
    "plt.xlabel('Fecha', fontsize=14)\n",
    "plt.ylabel('Cantidad total', fontsize=14)\n",
    "plt.legend(['Contagios total','Recuperados total','Muertos total',\"Activos total\",\"Tests\"],loc='upper left');\n",
    "ax.yaxis.set_major_formatter(mticker.ScalarFormatter())\n",
    "\n",
    "for var in (df.Contagios_tot,df.Recuperados_tot,df.Muertos_tot,df.Activos_tot,df.Tests):\n",
    "    plt.annotate('%d' % var.max(), xy=(1, var.max()), xytext=(8, 0), \n",
    "                 xycoords=('axes fraction', 'data'), textcoords='offset points')\n"
   ]
  },
  {
   "cell_type": "markdown",
   "metadata": {},
   "source": [
    "### Grafico de barras del total de contagios y activos"
   ]
  },
  {
   "cell_type": "code",
   "execution_count": null,
   "metadata": {},
   "outputs": [],
   "source": [
    "ax=df.plot.bar(y=['Contagios_tot','Activos_tot'],color=['blue','green'],figsize=(10,8),width=0.9)\n",
    "plt.gca().xaxis.set_major_formatter(plt.FixedFormatter(df.index.to_series().dt.strftime(\"%d %b\")))\n",
    "\n",
    "plt.title('Covid-19 Argentina Total',fontsize=14)\n",
    "plt.xlabel('Fecha', fontsize=14)\n",
    "plt.ylabel('Cantidad', fontsize=14)\n",
    "plt.legend(['Contagios', \"Activos\"],loc='upper left');\n",
    "plt.grid(axis='y')\n",
    "\n",
    "#numeros arriba de la barra\n",
    "for p in ax.patches:\n",
    "    ax.annotate(int(p.get_height()), (p.get_x() * 1.005, p.get_height() * 1.005), rotation=90)\n",
    "\n",
    "name='Graficos/Contagios_totBar_'+df.index[-1].strftime(\"%d%b\")#str(df.index[-1])+'.png'\n",
    "#plt.savefig(name)"
   ]
  },
  {
   "cell_type": "markdown",
   "metadata": {},
   "source": [
    "### Subplots"
   ]
  },
  {
   "cell_type": "code",
   "execution_count": null,
   "metadata": {},
   "outputs": [],
   "source": [
    "df.plot(y=['Contagios_tot','Muertos_tot', 'Recuperados_tot'],color=['blue','red','green'],figsize=(8,8),subplots='true',style='.-',grid='on',title='Covid-19 Argentina Total',linewidth=2, marker='o')#df[df['Contagios_tot'] > 100]\n",
    "\n",
    "name='Graficos/Contagios_tot100_'+df.index[-1].strftime(\"%d%b\")#str(df.index[-1])+'.png'\n",
    "#plt.savefig(name)"
   ]
  },
  {
   "cell_type": "code",
   "execution_count": null,
   "metadata": {},
   "outputs": [],
   "source": [
    "ax=df.plot(y=['Contagios_tot','Muertos_tot', 'Recuperados_tot',\"Tests\"],color=['blue','red','green','grey'],figsize=(18,20),subplots='true',style='.-',grid='on',linewidth=2, marker='o',fontsize=22)#df[df['Contagios_tot'] > 100]\n",
    "\n",
    "plt.xlabel('Fecha', fontsize=22)\n",
    "\n",
    "ax[0].set_title('Covid-19 Argentina Totales - www.github.com/rodri16/CovidArgentinaGraficos',fontsize=24)\n",
    "\n",
    "ax[0].annotate('%d' % df.Contagios_tot.iloc[-1], xy=(1, df.Contagios_tot.iloc[-1]), xytext=(8, 0), \n",
    "                 xycoords=('axes fraction', 'data'), textcoords='offset points',size=22, color=\"blue\")  \n",
    "ax[0].set_ylim(bottom=0)\n",
    "ax[0].legend(fontsize=22)\n",
    "\n",
    "ax[2].annotate('%d' % df.Recuperados_tot.iloc[-1], xy=(1, df.Recuperados_tot.iloc[-1]), xytext=(8, 0), \n",
    "                 xycoords=('axes fraction', 'data'), textcoords='offset points',size=22, color=\"green\") \n",
    "ax[2].set_ylim(bottom=0)\n",
    "ax[2].legend(fontsize=22)\n",
    "\n",
    "ax[1].annotate('%d' % df.Muertos_tot.iloc[-1], xy=(1, df.Muertos_tot.iloc[-1]), xytext=(8, 0), \n",
    "                 xycoords=('axes fraction', 'data'), textcoords='offset points',size=22, color=\"red\") \n",
    "ax[1].set_ylim(bottom=0)\n",
    "ax[1].legend(fontsize=22)\n",
    "\n",
    "ax[3].annotate('%d' % df.Tests.iloc[-1], xy=(1, df.Tests.iloc[-1]), xytext=(8, 0), \n",
    "                 xycoords=('axes fraction', 'data'), textcoords='offset points',size=22, color=\"grey\") \n",
    "ax[3].set_ylim(bottom=0)\n",
    "ax[3].legend(fontsize=22)\n",
    "name='Graficos/Septiembre/Todos_tot_'+df.index[-1].strftime(\"%d%b\")#str(df.index[-1])+'.png'\n",
    "plt.savefig(name)"
   ]
  },
  {
   "cell_type": "markdown",
   "metadata": {},
   "source": [
    "### Grafico en escala log"
   ]
  },
  {
   "cell_type": "code",
   "execution_count": null,
   "metadata": {},
   "outputs": [],
   "source": [
    "ax=df.plot(y=['Contagios_tot'],color=['blue'],figsize=(8,8),style='.-',grid='on',linewidth=2,logy=\"sym\", marker='o')#df[df['Muertos_tot'] > 10]\n",
    "plt.ylabel('Cantidad en escala logaritmica', fontsize=14)\n",
    "ax.yaxis.set_major_formatter(mticker.ScalarFormatter())\n",
    "\n",
    "name='Graficos/Contagios_tot_log_'+df.index[-1].strftime(\"%d%b\")#str(df.index[-1])+'.png'\n",
    "#plt.savefig(name)"
   ]
  },
  {
   "cell_type": "code",
   "execution_count": null,
   "metadata": {},
   "outputs": [],
   "source": [
    "ax=df.plot(y=['Muertos_tot'],color=['red'],figsize=(8,8),subplots='true',style='.-',grid='on',logy=\"sym\",linewidth=2, marker='o')#df[df['Muertos_tot'] > 10]\n",
    "plt.ylabel('Cantidad escala log', fontsize=14)\n",
    "plt.annotate('%d' % df.Muertos_tot.max(), xy=(1, df.Muertos_tot.max()), xytext=(8, 0), \n",
    "                 xycoords=('axes fraction', 'data'), textcoords='offset points')\n",
    "name='Graficos/Muertos_tot10_'+df.index[-1].strftime(\"%d%b\")#str(df.index[-1])+'.png'\n",
    "#plt.savefig(name)"
   ]
  },
  {
   "cell_type": "code",
   "execution_count": null,
   "metadata": {},
   "outputs": [],
   "source": [
    "ax=df.plot(y=['Tests'],color=['yellow'],figsize=(8,8),subplots='true',style='.-',grid='on',logy=\"sym\",linewidth=2, marker='o')#df[df['Muertos_tot'] > 10]\n",
    "plt.ylabel('Cantidad', fontsize=14)\n",
    "plt.annotate('%d' % df.Tests.max(), xy=(1, df.Tests.max()), xytext=(8, 0), \n",
    "                 xycoords=('axes fraction', 'data'), textcoords='offset points')\n",
    "name='Graficos/Test_tot_'+df.index[-1].strftime(\"%d%b\")#str(df.index[-1])+'.png'\n",
    "#plt.savefig(name)"
   ]
  },
  {
   "cell_type": "markdown",
   "metadata": {},
   "source": [
    "### Como quedo la tabla"
   ]
  },
  {
   "cell_type": "code",
   "execution_count": null,
   "metadata": {
    "scrolled": false
   },
   "outputs": [],
   "source": [
    "df.describe()"
   ]
  },
  {
   "cell_type": "markdown",
   "metadata": {},
   "source": [
    "## Meto todos los datos de la tabla en un archivo .csv  con la fecha"
   ]
  },
  {
   "cell_type": "code",
   "execution_count": null,
   "metadata": {},
   "outputs": [],
   "source": [
    "name='csv _datos_completos/Septiembre/Covid_arg_completo'+df.index[-1].strftime(\"%d%b\")+'.csv'#str(df.index[-1])\n",
    "df.to_csv(name, index=True)"
   ]
  },
  {
   "cell_type": "markdown",
   "metadata": {},
   "source": [
    "### Probando interpolaciones..."
   ]
  },
  {
   "cell_type": "code",
   "execution_count": null,
   "metadata": {
    "scrolled": true
   },
   "outputs": [],
   "source": [
    "import numpy as np\n",
    "N=7\n",
    "df[\"Contagios_MA\"]=df.Contagios.rolling(window=N).mean()\n",
    "df[\"Recuperados_MA\"]=df.Recuperados.rolling(window=N).mean()\n",
    "df[\"Muertos_MA\"]=df.Muertos.rolling(window=N).mean()\n",
    "ax=df.plot(y=['Contagios_MA','Recuperados_MA','Muertos_MA'], legend='true',style='-',grid='on',figsize=(10,8),linewidth=3, marker='o') \n",
    "plt.title('Covid-19 Argentina Tasa diaria (media de 3 dias)',fontsize=14)\n",
    "plt.legend(['Contagios', 'Recuperados',\"Muertos\"],loc='upper left');\n",
    "plt.ylabel('Cantidad', fontsize=14)\n",
    "#ax.set_facecolor(\"black\")\n",
    "\n",
    "name='Graficos/TasaDiariaMA_'+df.index[-1].strftime(\"%d%b\")#str(df.index[-1])+'.png'\n",
    "#plt.savefig(name)"
   ]
  },
  {
   "cell_type": "markdown",
   "metadata": {},
   "source": [
    "### Relacion entre nuevos contagios y gente testeada"
   ]
  },
  {
   "cell_type": "code",
   "execution_count": null,
   "metadata": {},
   "outputs": [],
   "source": [
    "df['cont_test']=df['Contagios']/df['Tests_diario']*100\n",
    "df[df.index > '2020-4-2']['cont_test'].plot(legend='true',style='-',grid='on',figsize=(18,20),linewidth=3, marker='o', fontsize=22)\n",
    "plt.title('Covid-19 Argentina Contagios vs tests - www.github.com/rodri16/CovidArgentinaGraficos',fontsize=24)\n",
    "plt.legend(['Contagios vs tests'],loc='upper left', fontsize=22);\n",
    "plt.ylabel('Porcentaje %', fontsize=22)\n",
    "plt.xlabel('Fecha',fontsize=22)\n",
    "plt.annotate('%d %%' % df.cont_test.iloc[-1], xy=(1, df.cont_test.iloc[-1]), xytext=(8, 0), \n",
    "                 xycoords=('axes fraction', 'data'), textcoords='offset points',size=22, color=\"blue\") \n",
    "\n",
    "name='Graficos/Septiembre/Tasa_Cont_Test'+df.index[-1].strftime(\"%d%b\")#+'.svg'#str(df.index[-1])+'.eps'\n",
    "plt.savefig(name)"
   ]
  },
  {
   "cell_type": "code",
   "execution_count": null,
   "metadata": {},
   "outputs": [],
   "source": [
    "df.tail(5)"
   ]
  }
 ],
 "metadata": {
  "anaconda-cloud": {},
  "kernelspec": {
   "display_name": "Python 3",
   "language": "python",
   "name": "python3"
  },
  "language_info": {
   "codemirror_mode": {
    "name": "ipython",
    "version": 3
   },
   "file_extension": ".py",
   "mimetype": "text/x-python",
   "name": "python",
   "nbconvert_exporter": "python",
   "pygments_lexer": "ipython3",
   "version": "3.8.3"
  }
 },
 "nbformat": 4,
 "nbformat_minor": 1
}
