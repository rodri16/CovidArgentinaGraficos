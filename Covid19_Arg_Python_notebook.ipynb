{
 "cells": [
  {
   "cell_type": "markdown",
   "metadata": {},
   "source": [
    "# COVID-19 Argentina por RJC"
   ]
  },
  {
   "cell_type": "code",
   "execution_count": 91,
   "metadata": {},
   "outputs": [],
   "source": [
    "import os              # This provides several system utilities\n",
    "import pandas as pd    # This is the workhorse of data munging in Python\n",
    "import matplotlib.pyplot as plt\n",
    "import seaborn as sns  # This allows us to easily and beautifully plot\n",
    "\n",
    "# This ensures visualizations are plotted inside the notebook\n",
    "%matplotlib inline"
   ]
  },
  {
   "cell_type": "markdown",
   "metadata": {},
   "source": [
    "### Abro archivo con los datos del gobierno, Tasa diaria de contagios y muertos, total de recuperados y de tests"
   ]
  },
  {
   "cell_type": "code",
   "execution_count": 92,
   "metadata": {},
   "outputs": [
    {
     "data": {
      "text/html": [
       "<div>\n",
       "<style scoped>\n",
       "    .dataframe tbody tr th:only-of-type {\n",
       "        vertical-align: middle;\n",
       "    }\n",
       "\n",
       "    .dataframe tbody tr th {\n",
       "        vertical-align: top;\n",
       "    }\n",
       "\n",
       "    .dataframe thead th {\n",
       "        text-align: right;\n",
       "    }\n",
       "</style>\n",
       "<table border=\"1\" class=\"dataframe\">\n",
       "  <thead>\n",
       "    <tr style=\"text-align: right;\">\n",
       "      <th></th>\n",
       "      <th>Fecha</th>\n",
       "      <th>Contagios</th>\n",
       "      <th>Muertos</th>\n",
       "      <th>Recuperados_tot</th>\n",
       "      <th>Tests</th>\n",
       "    </tr>\n",
       "  </thead>\n",
       "  <tbody>\n",
       "    <tr>\n",
       "      <th>125</th>\n",
       "      <td>7/8/2020</td>\n",
       "      <td>3604</td>\n",
       "      <td>51</td>\n",
       "      <td>36,502</td>\n",
       "      <td>423,782</td>\n",
       "    </tr>\n",
       "    <tr>\n",
       "      <th>126</th>\n",
       "      <td>7/9/2020</td>\n",
       "      <td>3663</td>\n",
       "      <td>26</td>\n",
       "      <td>38,313</td>\n",
       "      <td>434,692</td>\n",
       "    </tr>\n",
       "    <tr>\n",
       "      <th>127</th>\n",
       "      <td>7/10/2020</td>\n",
       "      <td>3367</td>\n",
       "      <td>54</td>\n",
       "      <td>38,984</td>\n",
       "      <td>445,733</td>\n",
       "    </tr>\n",
       "    <tr>\n",
       "      <th>128</th>\n",
       "      <td>7/11/2020</td>\n",
       "      <td>3449</td>\n",
       "      <td>36</td>\n",
       "      <td>41,408</td>\n",
       "      <td>456,042</td>\n",
       "    </tr>\n",
       "    <tr>\n",
       "      <th>129</th>\n",
       "      <td>7/12/2020</td>\n",
       "      <td>2657</td>\n",
       "      <td>35</td>\n",
       "      <td>42,694</td>\n",
       "      <td>466,308</td>\n",
       "    </tr>\n",
       "    <tr>\n",
       "      <th>130</th>\n",
       "      <td>7/13/2020</td>\n",
       "      <td>3099</td>\n",
       "      <td>58</td>\n",
       "      <td>44,173</td>\n",
       "      <td>474,422</td>\n",
       "    </tr>\n",
       "    <tr>\n",
       "      <th>131</th>\n",
       "      <td>7/14/2020</td>\n",
       "      <td>3645</td>\n",
       "      <td>65</td>\n",
       "      <td>45,467</td>\n",
       "      <td>483,799</td>\n",
       "    </tr>\n",
       "    <tr>\n",
       "      <th>132</th>\n",
       "      <td>7/15/2020</td>\n",
       "      <td>4250</td>\n",
       "      <td>82</td>\n",
       "      <td>47,298</td>\n",
       "      <td>495,065</td>\n",
       "    </tr>\n",
       "    <tr>\n",
       "      <th>133</th>\n",
       "      <td>7/16/2020</td>\n",
       "      <td>3624</td>\n",
       "      <td>62</td>\n",
       "      <td>49,120</td>\n",
       "      <td>508,228</td>\n",
       "    </tr>\n",
       "    <tr>\n",
       "      <th>134</th>\n",
       "      <td>7/17/2020</td>\n",
       "      <td>4518</td>\n",
       "      <td>66</td>\n",
       "      <td>49,780</td>\n",
       "      <td>519,281</td>\n",
       "    </tr>\n",
       "  </tbody>\n",
       "</table>\n",
       "</div>"
      ],
      "text/plain": [
       "         Fecha  Contagios  Muertos  Recuperados_tot   Tests\n",
       "125   7/8/2020       3604       51           36,502 423,782\n",
       "126   7/9/2020       3663       26           38,313 434,692\n",
       "127  7/10/2020       3367       54           38,984 445,733\n",
       "128  7/11/2020       3449       36           41,408 456,042\n",
       "129  7/12/2020       2657       35           42,694 466,308\n",
       "130  7/13/2020       3099       58           44,173 474,422\n",
       "131  7/14/2020       3645       65           45,467 483,799\n",
       "132  7/15/2020       4250       82           47,298 495,065\n",
       "133  7/16/2020       3624       62           49,120 508,228\n",
       "134  7/17/2020       4518       66           49,780 519,281"
      ]
     },
     "execution_count": 92,
     "metadata": {},
     "output_type": "execute_result"
    }
   ],
   "source": [
    "f = 'Covid19_Arg.txt'    # Path to file containing the file\n",
    "df = pd.read_csv(f)    # Read csv file with comma sepparation\n",
    "df.tail(10)"
   ]
  },
  {
   "cell_type": "markdown",
   "metadata": {},
   "source": [
    "### Separo por comas y indexto los dias a la tabla para graficar facilmente"
   ]
  },
  {
   "cell_type": "code",
   "execution_count": 93,
   "metadata": {},
   "outputs": [
    {
     "data": {
      "text/html": [
       "<div>\n",
       "<style scoped>\n",
       "    .dataframe tbody tr th:only-of-type {\n",
       "        vertical-align: middle;\n",
       "    }\n",
       "\n",
       "    .dataframe tbody tr th {\n",
       "        vertical-align: top;\n",
       "    }\n",
       "\n",
       "    .dataframe thead th {\n",
       "        text-align: right;\n",
       "    }\n",
       "</style>\n",
       "<table border=\"1\" class=\"dataframe\">\n",
       "  <thead>\n",
       "    <tr style=\"text-align: right;\">\n",
       "      <th></th>\n",
       "      <th>Contagios</th>\n",
       "      <th>Muertos</th>\n",
       "      <th>Recuperados_tot</th>\n",
       "      <th>Tests</th>\n",
       "    </tr>\n",
       "    <tr>\n",
       "      <th>Fecha</th>\n",
       "      <th></th>\n",
       "      <th></th>\n",
       "      <th></th>\n",
       "      <th></th>\n",
       "    </tr>\n",
       "  </thead>\n",
       "  <tbody>\n",
       "    <tr>\n",
       "      <th>2020-07-08</th>\n",
       "      <td>3604</td>\n",
       "      <td>51</td>\n",
       "      <td>36,502</td>\n",
       "      <td>423,782</td>\n",
       "    </tr>\n",
       "    <tr>\n",
       "      <th>2020-07-09</th>\n",
       "      <td>3663</td>\n",
       "      <td>26</td>\n",
       "      <td>38,313</td>\n",
       "      <td>434,692</td>\n",
       "    </tr>\n",
       "    <tr>\n",
       "      <th>2020-07-10</th>\n",
       "      <td>3367</td>\n",
       "      <td>54</td>\n",
       "      <td>38,984</td>\n",
       "      <td>445,733</td>\n",
       "    </tr>\n",
       "    <tr>\n",
       "      <th>2020-07-11</th>\n",
       "      <td>3449</td>\n",
       "      <td>36</td>\n",
       "      <td>41,408</td>\n",
       "      <td>456,042</td>\n",
       "    </tr>\n",
       "    <tr>\n",
       "      <th>2020-07-12</th>\n",
       "      <td>2657</td>\n",
       "      <td>35</td>\n",
       "      <td>42,694</td>\n",
       "      <td>466,308</td>\n",
       "    </tr>\n",
       "    <tr>\n",
       "      <th>2020-07-13</th>\n",
       "      <td>3099</td>\n",
       "      <td>58</td>\n",
       "      <td>44,173</td>\n",
       "      <td>474,422</td>\n",
       "    </tr>\n",
       "    <tr>\n",
       "      <th>2020-07-14</th>\n",
       "      <td>3645</td>\n",
       "      <td>65</td>\n",
       "      <td>45,467</td>\n",
       "      <td>483,799</td>\n",
       "    </tr>\n",
       "    <tr>\n",
       "      <th>2020-07-15</th>\n",
       "      <td>4250</td>\n",
       "      <td>82</td>\n",
       "      <td>47,298</td>\n",
       "      <td>495,065</td>\n",
       "    </tr>\n",
       "    <tr>\n",
       "      <th>2020-07-16</th>\n",
       "      <td>3624</td>\n",
       "      <td>62</td>\n",
       "      <td>49,120</td>\n",
       "      <td>508,228</td>\n",
       "    </tr>\n",
       "    <tr>\n",
       "      <th>2020-07-17</th>\n",
       "      <td>4518</td>\n",
       "      <td>66</td>\n",
       "      <td>49,780</td>\n",
       "      <td>519,281</td>\n",
       "    </tr>\n",
       "  </tbody>\n",
       "</table>\n",
       "</div>"
      ],
      "text/plain": [
       "            Contagios  Muertos  Recuperados_tot   Tests\n",
       "Fecha                                                  \n",
       "2020-07-08       3604       51           36,502 423,782\n",
       "2020-07-09       3663       26           38,313 434,692\n",
       "2020-07-10       3367       54           38,984 445,733\n",
       "2020-07-11       3449       36           41,408 456,042\n",
       "2020-07-12       2657       35           42,694 466,308\n",
       "2020-07-13       3099       58           44,173 474,422\n",
       "2020-07-14       3645       65           45,467 483,799\n",
       "2020-07-15       4250       82           47,298 495,065\n",
       "2020-07-16       3624       62           49,120 508,228\n",
       "2020-07-17       4518       66           49,780 519,281"
      ]
     },
     "execution_count": 93,
     "metadata": {},
     "output_type": "execute_result"
    }
   ],
   "source": [
    "df.set_index(pd.DatetimeIndex(df['Fecha']),inplace=True)\n",
    "df.drop('Fecha', axis=1, inplace=True)\n",
    "#df['Recuperados_tot'] = pd.to_numeric(df['Recuperados_tot'])\n",
    "\n",
    "df.tail(10) #ultimos 10 valores"
   ]
  },
  {
   "cell_type": "markdown",
   "metadata": {},
   "source": [
    "### Calculo la tasa diaria de recuperados, activos y tests"
   ]
  },
  {
   "cell_type": "code",
   "execution_count": 94,
   "metadata": {},
   "outputs": [
    {
     "data": {
      "text/html": [
       "<div>\n",
       "<style scoped>\n",
       "    .dataframe tbody tr th:only-of-type {\n",
       "        vertical-align: middle;\n",
       "    }\n",
       "\n",
       "    .dataframe tbody tr th {\n",
       "        vertical-align: top;\n",
       "    }\n",
       "\n",
       "    .dataframe thead th {\n",
       "        text-align: right;\n",
       "    }\n",
       "</style>\n",
       "<table border=\"1\" class=\"dataframe\">\n",
       "  <thead>\n",
       "    <tr style=\"text-align: right;\">\n",
       "      <th></th>\n",
       "      <th>Contagios</th>\n",
       "      <th>Muertos</th>\n",
       "      <th>Recuperados_tot</th>\n",
       "      <th>Tests</th>\n",
       "      <th>Recuperados</th>\n",
       "      <th>Tests_diario</th>\n",
       "      <th>Activos</th>\n",
       "    </tr>\n",
       "    <tr>\n",
       "      <th>Fecha</th>\n",
       "      <th></th>\n",
       "      <th></th>\n",
       "      <th></th>\n",
       "      <th></th>\n",
       "      <th></th>\n",
       "      <th></th>\n",
       "      <th></th>\n",
       "    </tr>\n",
       "  </thead>\n",
       "  <tbody>\n",
       "    <tr>\n",
       "      <th>2020-07-08</th>\n",
       "      <td>3604</td>\n",
       "      <td>51</td>\n",
       "      <td>36,502</td>\n",
       "      <td>423,782</td>\n",
       "      <td>6,407</td>\n",
       "      <td>9,085</td>\n",
       "      <td>-2,854</td>\n",
       "    </tr>\n",
       "    <tr>\n",
       "      <th>2020-07-09</th>\n",
       "      <td>3663</td>\n",
       "      <td>26</td>\n",
       "      <td>38,313</td>\n",
       "      <td>434,692</td>\n",
       "      <td>1,811</td>\n",
       "      <td>10,910</td>\n",
       "      <td>1,826</td>\n",
       "    </tr>\n",
       "    <tr>\n",
       "      <th>2020-07-10</th>\n",
       "      <td>3367</td>\n",
       "      <td>54</td>\n",
       "      <td>38,984</td>\n",
       "      <td>445,733</td>\n",
       "      <td>671</td>\n",
       "      <td>11,041</td>\n",
       "      <td>2,642</td>\n",
       "    </tr>\n",
       "    <tr>\n",
       "      <th>2020-07-11</th>\n",
       "      <td>3449</td>\n",
       "      <td>36</td>\n",
       "      <td>41,408</td>\n",
       "      <td>456,042</td>\n",
       "      <td>2,424</td>\n",
       "      <td>10,309</td>\n",
       "      <td>989</td>\n",
       "    </tr>\n",
       "    <tr>\n",
       "      <th>2020-07-12</th>\n",
       "      <td>2657</td>\n",
       "      <td>35</td>\n",
       "      <td>42,694</td>\n",
       "      <td>466,308</td>\n",
       "      <td>1,286</td>\n",
       "      <td>10,266</td>\n",
       "      <td>1,336</td>\n",
       "    </tr>\n",
       "    <tr>\n",
       "      <th>2020-07-13</th>\n",
       "      <td>3099</td>\n",
       "      <td>58</td>\n",
       "      <td>44,173</td>\n",
       "      <td>474,422</td>\n",
       "      <td>1,479</td>\n",
       "      <td>8,114</td>\n",
       "      <td>1,562</td>\n",
       "    </tr>\n",
       "    <tr>\n",
       "      <th>2020-07-14</th>\n",
       "      <td>3645</td>\n",
       "      <td>65</td>\n",
       "      <td>45,467</td>\n",
       "      <td>483,799</td>\n",
       "      <td>1,294</td>\n",
       "      <td>9,377</td>\n",
       "      <td>2,286</td>\n",
       "    </tr>\n",
       "    <tr>\n",
       "      <th>2020-07-15</th>\n",
       "      <td>4250</td>\n",
       "      <td>82</td>\n",
       "      <td>47,298</td>\n",
       "      <td>495,065</td>\n",
       "      <td>1,831</td>\n",
       "      <td>11,266</td>\n",
       "      <td>2,337</td>\n",
       "    </tr>\n",
       "    <tr>\n",
       "      <th>2020-07-16</th>\n",
       "      <td>3624</td>\n",
       "      <td>62</td>\n",
       "      <td>49,120</td>\n",
       "      <td>508,228</td>\n",
       "      <td>1,822</td>\n",
       "      <td>13,163</td>\n",
       "      <td>1,740</td>\n",
       "    </tr>\n",
       "    <tr>\n",
       "      <th>2020-07-17</th>\n",
       "      <td>4518</td>\n",
       "      <td>66</td>\n",
       "      <td>49,780</td>\n",
       "      <td>519,281</td>\n",
       "      <td>660</td>\n",
       "      <td>11,053</td>\n",
       "      <td>3,792</td>\n",
       "    </tr>\n",
       "  </tbody>\n",
       "</table>\n",
       "</div>"
      ],
      "text/plain": [
       "            Contagios  Muertos  Recuperados_tot   Tests  Recuperados  \\\n",
       "Fecha                                                                  \n",
       "2020-07-08       3604       51           36,502 423,782        6,407   \n",
       "2020-07-09       3663       26           38,313 434,692        1,811   \n",
       "2020-07-10       3367       54           38,984 445,733          671   \n",
       "2020-07-11       3449       36           41,408 456,042        2,424   \n",
       "2020-07-12       2657       35           42,694 466,308        1,286   \n",
       "2020-07-13       3099       58           44,173 474,422        1,479   \n",
       "2020-07-14       3645       65           45,467 483,799        1,294   \n",
       "2020-07-15       4250       82           47,298 495,065        1,831   \n",
       "2020-07-16       3624       62           49,120 508,228        1,822   \n",
       "2020-07-17       4518       66           49,780 519,281          660   \n",
       "\n",
       "            Tests_diario  Activos  \n",
       "Fecha                              \n",
       "2020-07-08         9,085   -2,854  \n",
       "2020-07-09        10,910    1,826  \n",
       "2020-07-10        11,041    2,642  \n",
       "2020-07-11        10,309      989  \n",
       "2020-07-12        10,266    1,336  \n",
       "2020-07-13         8,114    1,562  \n",
       "2020-07-14         9,377    2,286  \n",
       "2020-07-15        11,266    2,337  \n",
       "2020-07-16        13,163    1,740  \n",
       "2020-07-17        11,053    3,792  "
      ]
     },
     "execution_count": 94,
     "metadata": {},
     "output_type": "execute_result"
    }
   ],
   "source": [
    "df['Recuperados'] = df['Recuperados_tot'].diff()\n",
    "df['Tests_diario'] = df['Tests'].diff()\n",
    "df['Activos']=df['Contagios']-df['Recuperados']-df['Muertos']\n",
    "df['Activos'] = pd.to_numeric(df['Activos'])\n",
    "df.tail(10)"
   ]
  },
  {
   "cell_type": "markdown",
   "metadata": {},
   "source": [
    "### Calculo el total de contagios, muertos y activos"
   ]
  },
  {
   "cell_type": "code",
   "execution_count": 95,
   "metadata": {},
   "outputs": [
    {
     "data": {
      "text/html": [
       "<div>\n",
       "<style scoped>\n",
       "    .dataframe tbody tr th:only-of-type {\n",
       "        vertical-align: middle;\n",
       "    }\n",
       "\n",
       "    .dataframe tbody tr th {\n",
       "        vertical-align: top;\n",
       "    }\n",
       "\n",
       "    .dataframe thead th {\n",
       "        text-align: right;\n",
       "    }\n",
       "</style>\n",
       "<table border=\"1\" class=\"dataframe\">\n",
       "  <thead>\n",
       "    <tr style=\"text-align: right;\">\n",
       "      <th></th>\n",
       "      <th>Contagios</th>\n",
       "      <th>Muertos</th>\n",
       "      <th>Recuperados_tot</th>\n",
       "      <th>Tests</th>\n",
       "      <th>Recuperados</th>\n",
       "      <th>Tests_diario</th>\n",
       "      <th>Activos</th>\n",
       "      <th>Contagios_tot</th>\n",
       "      <th>Muertos_tot</th>\n",
       "      <th>Activos_tot</th>\n",
       "    </tr>\n",
       "    <tr>\n",
       "      <th>Fecha</th>\n",
       "      <th></th>\n",
       "      <th></th>\n",
       "      <th></th>\n",
       "      <th></th>\n",
       "      <th></th>\n",
       "      <th></th>\n",
       "      <th></th>\n",
       "      <th></th>\n",
       "      <th></th>\n",
       "      <th></th>\n",
       "    </tr>\n",
       "  </thead>\n",
       "  <tbody>\n",
       "    <tr>\n",
       "      <th>2020-07-08</th>\n",
       "      <td>3604</td>\n",
       "      <td>51</td>\n",
       "      <td>36,502</td>\n",
       "      <td>423,782</td>\n",
       "      <td>6,407</td>\n",
       "      <td>9,085</td>\n",
       "      <td>-2,854</td>\n",
       "      <td>87030</td>\n",
       "      <td>1695</td>\n",
       "      <td>48,833</td>\n",
       "    </tr>\n",
       "    <tr>\n",
       "      <th>2020-07-09</th>\n",
       "      <td>3663</td>\n",
       "      <td>26</td>\n",
       "      <td>38,313</td>\n",
       "      <td>434,692</td>\n",
       "      <td>1,811</td>\n",
       "      <td>10,910</td>\n",
       "      <td>1,826</td>\n",
       "      <td>90693</td>\n",
       "      <td>1721</td>\n",
       "      <td>50,659</td>\n",
       "    </tr>\n",
       "    <tr>\n",
       "      <th>2020-07-10</th>\n",
       "      <td>3367</td>\n",
       "      <td>54</td>\n",
       "      <td>38,984</td>\n",
       "      <td>445,733</td>\n",
       "      <td>671</td>\n",
       "      <td>11,041</td>\n",
       "      <td>2,642</td>\n",
       "      <td>94060</td>\n",
       "      <td>1775</td>\n",
       "      <td>53,301</td>\n",
       "    </tr>\n",
       "    <tr>\n",
       "      <th>2020-07-11</th>\n",
       "      <td>3449</td>\n",
       "      <td>36</td>\n",
       "      <td>41,408</td>\n",
       "      <td>456,042</td>\n",
       "      <td>2,424</td>\n",
       "      <td>10,309</td>\n",
       "      <td>989</td>\n",
       "      <td>97509</td>\n",
       "      <td>1811</td>\n",
       "      <td>54,290</td>\n",
       "    </tr>\n",
       "    <tr>\n",
       "      <th>2020-07-12</th>\n",
       "      <td>2657</td>\n",
       "      <td>35</td>\n",
       "      <td>42,694</td>\n",
       "      <td>466,308</td>\n",
       "      <td>1,286</td>\n",
       "      <td>10,266</td>\n",
       "      <td>1,336</td>\n",
       "      <td>100166</td>\n",
       "      <td>1846</td>\n",
       "      <td>55,626</td>\n",
       "    </tr>\n",
       "    <tr>\n",
       "      <th>2020-07-13</th>\n",
       "      <td>3099</td>\n",
       "      <td>58</td>\n",
       "      <td>44,173</td>\n",
       "      <td>474,422</td>\n",
       "      <td>1,479</td>\n",
       "      <td>8,114</td>\n",
       "      <td>1,562</td>\n",
       "      <td>103265</td>\n",
       "      <td>1904</td>\n",
       "      <td>57,188</td>\n",
       "    </tr>\n",
       "    <tr>\n",
       "      <th>2020-07-14</th>\n",
       "      <td>3645</td>\n",
       "      <td>65</td>\n",
       "      <td>45,467</td>\n",
       "      <td>483,799</td>\n",
       "      <td>1,294</td>\n",
       "      <td>9,377</td>\n",
       "      <td>2,286</td>\n",
       "      <td>106910</td>\n",
       "      <td>1969</td>\n",
       "      <td>59,474</td>\n",
       "    </tr>\n",
       "    <tr>\n",
       "      <th>2020-07-15</th>\n",
       "      <td>4250</td>\n",
       "      <td>82</td>\n",
       "      <td>47,298</td>\n",
       "      <td>495,065</td>\n",
       "      <td>1,831</td>\n",
       "      <td>11,266</td>\n",
       "      <td>2,337</td>\n",
       "      <td>111160</td>\n",
       "      <td>2051</td>\n",
       "      <td>61,811</td>\n",
       "    </tr>\n",
       "    <tr>\n",
       "      <th>2020-07-16</th>\n",
       "      <td>3624</td>\n",
       "      <td>62</td>\n",
       "      <td>49,120</td>\n",
       "      <td>508,228</td>\n",
       "      <td>1,822</td>\n",
       "      <td>13,163</td>\n",
       "      <td>1,740</td>\n",
       "      <td>114784</td>\n",
       "      <td>2113</td>\n",
       "      <td>63,551</td>\n",
       "    </tr>\n",
       "    <tr>\n",
       "      <th>2020-07-17</th>\n",
       "      <td>4518</td>\n",
       "      <td>66</td>\n",
       "      <td>49,780</td>\n",
       "      <td>519,281</td>\n",
       "      <td>660</td>\n",
       "      <td>11,053</td>\n",
       "      <td>3,792</td>\n",
       "      <td>119302</td>\n",
       "      <td>2179</td>\n",
       "      <td>67,343</td>\n",
       "    </tr>\n",
       "  </tbody>\n",
       "</table>\n",
       "</div>"
      ],
      "text/plain": [
       "            Contagios  Muertos  Recuperados_tot   Tests  Recuperados  \\\n",
       "Fecha                                                                  \n",
       "2020-07-08       3604       51           36,502 423,782        6,407   \n",
       "2020-07-09       3663       26           38,313 434,692        1,811   \n",
       "2020-07-10       3367       54           38,984 445,733          671   \n",
       "2020-07-11       3449       36           41,408 456,042        2,424   \n",
       "2020-07-12       2657       35           42,694 466,308        1,286   \n",
       "2020-07-13       3099       58           44,173 474,422        1,479   \n",
       "2020-07-14       3645       65           45,467 483,799        1,294   \n",
       "2020-07-15       4250       82           47,298 495,065        1,831   \n",
       "2020-07-16       3624       62           49,120 508,228        1,822   \n",
       "2020-07-17       4518       66           49,780 519,281          660   \n",
       "\n",
       "            Tests_diario  Activos  Contagios_tot  Muertos_tot  Activos_tot  \n",
       "Fecha                                                                       \n",
       "2020-07-08         9,085   -2,854          87030         1695       48,833  \n",
       "2020-07-09        10,910    1,826          90693         1721       50,659  \n",
       "2020-07-10        11,041    2,642          94060         1775       53,301  \n",
       "2020-07-11        10,309      989          97509         1811       54,290  \n",
       "2020-07-12        10,266    1,336         100166         1846       55,626  \n",
       "2020-07-13         8,114    1,562         103265         1904       57,188  \n",
       "2020-07-14         9,377    2,286         106910         1969       59,474  \n",
       "2020-07-15        11,266    2,337         111160         2051       61,811  \n",
       "2020-07-16        13,163    1,740         114784         2113       63,551  \n",
       "2020-07-17        11,053    3,792         119302         2179       67,343  "
      ]
     },
     "execution_count": 95,
     "metadata": {},
     "output_type": "execute_result"
    }
   ],
   "source": [
    "df['Contagios_tot'] = df['Contagios'].cumsum()\n",
    "df['Muertos_tot'] = df['Muertos'].cumsum()\n",
    "df['Activos_tot']=df['Contagios_tot']-df['Recuperados_tot']-df['Muertos_tot']\n",
    "\n",
    "pd.options.display.float_format = '{:,.0f}'.format #en enteros sin coma\n",
    "df.tail(10)"
   ]
  },
  {
   "cell_type": "markdown",
   "metadata": {},
   "source": [
    "### Grafico de tasa diaria"
   ]
  },
  {
   "cell_type": "code",
   "execution_count": 96,
   "metadata": {},
   "outputs": [
    {
     "data": {
      "image/png": "[encoded data removed]",
      "text/plain": [
       "<Figure size 792x576 with 1 Axes>"
      ]
     },
     "metadata": {
      "needs_background": "light"
     },
     "output_type": "display_data"
    }
   ],
   "source": [
    "ax=df.plot(y=['Contagios','Recuperados','Muertos'], legend='true',style='-',grid='on',figsize=(11,8),linewidth=3, marker='o')\n",
    "\n",
    "plt.title('Covid-19 Argentina Tasa diaria - www.github.com/rodri16/CovidArgentinaGraficos',fontsize=14)\n",
    "plt.legend(['Contagios', 'Recuperados',\"Muertos\"],loc='upper left');\n",
    "plt.ylabel('Cantidad', fontsize=14)\n",
    "#ax.text('2020-4-2',280,'https://github.com/rodri16/CovidArgentinaGraficos',fontsize=10)\n",
    "#agrega ultimo numero\n",
    "#for var in (df.Contagios,df.Recuperados,df.Muertos):\n",
    "#    plt.annotate('%d' % var.iloc[-1], xy=(1, var.iloc[-1]), xytext=(8, 0), \n",
    "#                 xycoords=('axes fraction', 'data'), textcoords='offset points')\n",
    "    \n",
    "plt.annotate('%d' % df.Contagios.iloc[-1], xy=(1, df.Contagios.iloc[-1]), xytext=(8, 0), \n",
    "                 xycoords=('axes fraction', 'data'), textcoords='offset points',color='blue',size=14)\n",
    "plt.annotate('%d' % df.Recuperados.iloc[-1], xy=(1, df.Recuperados.iloc[-1]), xytext=(8, 0), \n",
    "                 xycoords=('axes fraction', 'data'), textcoords='offset points',color='orange',size=14)\n",
    "plt.annotate('%d' % df.Muertos.iloc[-1], xy=(1, df.Muertos.iloc[-1]), xytext=(8, 0), \n",
    "                 xycoords=('axes fraction', 'data'), textcoords='offset points',color='green',size=14)\n",
    "\n",
    "    # Add labels to the plot\n",
    "style = dict(size=14, color='gray')    \n",
    "#Texto de la cuarentena obligatoria\n",
    "ax.text('2020-3-20', 10, \"-------------------------------------------Fase I-Cuarentena obligatoria\",rotation=90, **style)\n",
    "#Texto de la Fase II\n",
    "ax.text('2020-4-1', 10, \"------------------------------------------------------------------------------Fase II\",rotation=90, **style)\n",
    "#Texto de la Fase III\n",
    "ax.text('2020-4-13', 10, \"-----------------------------------------------------------------------------Fase III\",rotation=90, **style)\n",
    "#Texto de la Fase IV\n",
    "ax.text('2020-5-10', 10, \"-----------------------------------------------------------------------------Fase IV\",rotation=90, **style)\n",
    "\n",
    "\n",
    "#valor minimo eje y = 0\n",
    "plt.gca().set_ylim(bottom=0)\n",
    "\n",
    "\n",
    "#Salvo el grafico con la ultima fecha\n",
    "name='Graficos/TasaDiariaLine_'+df.index[-1].strftime(\"%d%b\")#str(df.index[-1])+'.png'\n",
    "plt.savefig(name)"
   ]
  },
  {
   "cell_type": "code",
   "execution_count": 97,
   "metadata": {},
   "outputs": [
    {
     "data": {
      "image/png": "[encoded data removed]",
      "text/plain": [
       "<Figure size 792x576 with 1 Axes>"
      ]
     },
     "metadata": {
      "needs_background": "light"
     },
     "output_type": "display_data"
    }
   ],
   "source": [
    "ax=df.plot(y=['Contagios','Recuperados','Muertos'], legend='true',style='-',logy=\"sym\",grid='on',figsize=(11,8),linewidth=3, marker='o')\n"
   ]
  },
  {
   "cell_type": "code",
   "execution_count": 98,
   "metadata": {
    "scrolled": true
   },
   "outputs": [
    {
     "data": {
      "image/png": "[encoded data removed]",
      "text/plain": [
       "<Figure size 720x576 with 1 Axes>"
      ]
     },
     "metadata": {
      "needs_background": "light"
     },
     "output_type": "display_data"
    }
   ],
   "source": [
    "#agrego los tests pero no se ve nada (mejor en logaritmico)\n",
    "ax=df.plot(y=['Contagios','Recuperados','Muertos','Tests_diario'], legend='true',style='-',grid='on',figsize=(10,8),linewidth=3, marker='o')\n",
    "\n",
    "plt.title('Covid-19 Argentina Tasa diaria',fontsize=14)\n",
    "plt.legend(['Contagios', 'Recuperados',\"Muertos\",\"Tests\"],loc='upper left');\n",
    "plt.ylabel('Cantidad', fontsize=14)\n",
    "\n",
    "#agrega ultimo numero\n",
    "for var in (df.Contagios,df.Recuperados,df.Muertos,df.Tests_diario):\n",
    "    plt.annotate('%d' % var.iloc[-1], xy=(1, var.iloc[-1]), xytext=(8, 0), \n",
    "                 xycoords=('axes fraction', 'data'), textcoords='offset points')\n",
    "    \n",
    "#valor mininmo en y = 0\n",
    "plt.gca().set_ylim(bottom=0)\n",
    "\n",
    "#salvo grafico\n",
    "name='Graficos/TasaDiariaFullLine_'+df.index[-1].strftime(\"%d%b\")#str(df.index[-1])+'.png'\n",
    "#plt.savefig(name)"
   ]
  },
  {
   "cell_type": "markdown",
   "metadata": {},
   "source": [
    "### Grafico de barras de las tasas diarias (solo otra manera de verlo)"
   ]
  },
  {
   "cell_type": "code",
   "execution_count": null,
   "metadata": {
    "scrolled": true
   },
   "outputs": [],
   "source": [
    "ax=df.plot.bar(y=['Contagios','Recuperados','Muertos'],color=['blue','green','red'],width=0.8, legend='true',figsize=(10,8))\n",
    "#arreglo el formato de la fecha\n",
    "plt.gca().xaxis.set_major_formatter(plt.FixedFormatter(df.index.to_series().dt.strftime(\"%d %b\")))#arregla la fecha\n",
    "#agrego grid\n",
    "plt.grid(axis='y')\n",
    "plt.title('Covid-19 Argentina Tasa diaria',fontsize=14)\n",
    "plt.ylabel('Cantidad', fontsize=14)\n",
    "\n",
    "#numeros arriba de la barra\n",
    "for p in ax.patches:\n",
    "    ax.annotate(int(p.get_height()), (p.get_x() * 0.995, p.get_height() * 1.005),rotation=45)\n",
    "\n",
    "    #salvo grafico\n",
    "name='Graficos/TasaDiariaBar_'+df.index[-1].strftime(\"%d%b\")#str(df.index[-1])+'.png'\n",
    "#plt.savefig(name)"
   ]
  },
  {
   "cell_type": "code",
   "execution_count": null,
   "metadata": {
    "scrolled": true
   },
   "outputs": [],
   "source": [
    "ax=df[df.index > '2020-4-10'].Tests_diario.plot.bar(color=['brown'],width=0.8, legend='true',figsize=(12,8))\n",
    "#arreglo el formato de la fecha\n",
    "plt.gca().xaxis.set_major_formatter(plt.FixedFormatter(df[df.index > '2020-4-10'].index.to_series().dt.strftime(\"%d %b\")))#arregla la fecha\n",
    "#agrego grid\n",
    "plt.grid(axis='y')\n",
    "plt.title('Covid-19 Argentina Test diarios. https://github.com/rodri16/CovidArgentinaGraficos',fontsize=14)\n",
    "plt.ylabel('Cantidad', fontsize=14)\n",
    "\n",
    "#numeros arriba de la barra\n",
    "for p in ax.patches:\n",
    "    ax.annotate(int(p.get_height()), (p.get_x() * 0.995, p.get_height() * 1.005),rotation=90)\n",
    "\n",
    "    #salvo grafico\n",
    "name='Graficos/TestDiarioBar_'+df.index[-1].strftime(\"%d%b\")#str(df.index[-1])+'.png'\n",
    "plt.savefig(name)"
   ]
  },
  {
   "cell_type": "markdown",
   "metadata": {},
   "source": [
    "### Grafico total contagios y Activos"
   ]
  },
  {
   "cell_type": "code",
   "execution_count": null,
   "metadata": {
    "scrolled": true
   },
   "outputs": [],
   "source": [
    "ax=df.plot(y=['Contagios_tot','Activos_tot'], style='-',grid='on',figsize=(11,8),linewidth=3, marker='o')\n",
    "plt.title('Covid-19 Argentina Total',fontsize=14)\n",
    "plt.xlabel('Fecha', fontsize=14)\n",
    "plt.ylabel('Cantidad', fontsize=14)\n",
    "\n",
    "#agrega ultimo numero\n",
    "for var in (df.Contagios_tot,df.Activos_tot):\n",
    "    plt.annotate('%d' % var.iloc[-1], xy=(1, var.iloc[-1]), xytext=(8, 0), \n",
    "                 xycoords=('axes fraction', 'data'), textcoords='offset points')\n",
    "\n",
    "#valor mininmo en y = 0\n",
    "plt.gca().set_ylim(bottom=0)\n",
    "\n",
    "#salvo grafico\n",
    "name='Graficos/Contagios_tot_'+df.index[-1].strftime(\"%d%b\")#str(df.index[-1])+'.png'\n",
    "#plt.savefig(name)"
   ]
  },
  {
   "cell_type": "markdown",
   "metadata": {},
   "source": [
    "### Agrego total Muertos"
   ]
  },
  {
   "cell_type": "code",
   "execution_count": null,
   "metadata": {
    "scrolled": true
   },
   "outputs": [],
   "source": [
    "ax=df.plot(y=['Contagios_tot','Recuperados_tot','Muertos_tot'], style='-',grid='on',figsize=(11,8),linewidth=3, marker='o')\n",
    "plt.title('Covid-19 Argentina Total',fontsize=14)\n",
    "plt.xlabel('Fecha', fontsize=14)\n",
    "plt.ylabel('Cantidad', fontsize=14)\n",
    "plt.legend(loc='upper left');\n",
    "#numeros arriba de la barra\n",
    "#for p in ax.patches:\n",
    "#    ax.annotate(int(p.get_height()), (p.get_x() * 1.005, p.get_height() * 1.005))\n",
    "\n",
    "#agrega ultimo numero\n",
    "for var in (df.Contagios_tot,df.Recuperados_tot,df.Muertos_tot):\n",
    "    plt.annotate('%d' % var.max(), xy=(1, var.max()), xytext=(8, 0), \n",
    "                 xycoords=('axes fraction', 'data'), textcoords='offset points')\n",
    "\n",
    "#valor mininmo en y = 0\n",
    "plt.gca().set_ylim(bottom=0)\n",
    "\n",
    "name='Graficos/Contagios_tot_'+df.index[-1].strftime(\"%d%b\")#str(df.index[-1])+'.png'\n",
    "#plt.savefig(name)"
   ]
  },
  {
   "cell_type": "markdown",
   "metadata": {},
   "source": [
    "### Grafico Totales (el mas completo!!)"
   ]
  },
  {
   "cell_type": "code",
   "execution_count": null,
   "metadata": {},
   "outputs": [],
   "source": [
    "import matplotlib.ticker as mticker\n",
    "ax=df.plot(y=['Contagios_tot','Recuperados_tot','Muertos_tot',\"Activos_tot\"],color=['blue',\"green\",'red','grey'], style='-',grid='on',figsize=(11,8),linewidth=3, marker='o')\n",
    "plt.title('Covid-19 Argentina Total - www.github.com/rodri16/CovidArgentinaGraficos',fontsize=14)\n",
    "plt.xlabel('Fecha', fontsize=14)\n",
    "plt.ylabel('Cantidad', fontsize=12)\n",
    "plt.legend(['Contagios total','Recuperados total','Muertos total',\"Activos total\"],loc='upper left');\n",
    "#ax.text('2020-4-2',5800,'www.github.com/rodri16/CovidArgentinaGraficos',fontsize=10)\n",
    "\n",
    "#agrega ultimo valor\n",
    "for var in (df.Contagios_tot,df.Recuperados_tot,df.Muertos_tot,df.Activos_tot):\n",
    "    plt.annotate('%d' % var.max(), xy=(1, var.max()), xytext=(8, 0), \n",
    "                 xycoords=('axes fraction', 'data'), textcoords='offset points')\n",
    "\n",
    "# Add labels to the plot\n",
    "style = dict(size=14, color='gray')\n",
    "\n",
    "#Texto de la cuarentena obligatoria\n",
    "ax.text('2020-3-20', 10, \"-------------------------------------------Fase I-Cuarentena obligatoria\",rotation=90, **style)\n",
    "#Texto de la Fase II\n",
    "ax.text('2020-4-1', 10, \"------------------------------------------------------------------------------Fase II\",rotation=90, **style)\n",
    "#Texto de la Fase III\n",
    "ax.text('2020-4-13', 10, \"-----------------------------------------------------------------------------Fase III\",rotation=90, **style)\n",
    "#Texto de la Fase IV\n",
    "ax.text('2020-5-10', 10, \"-------------------------------------------------------------------------------Fase IV\",rotation=90, **style)\n",
    "\n",
    "#valor minimo en y = 0\n",
    "plt.gca().set_ylim(bottom=0)\n",
    "\n",
    "name='Graficos/Contagios_tot_'+df.index[-1].strftime(\"%d%b\")#str(df.index[-1])+'.png'\n",
    "plt.savefig(name)"
   ]
  },
  {
   "cell_type": "code",
   "execution_count": null,
   "metadata": {},
   "outputs": [],
   "source": [
    "df.plot(y=['Contagios','Recuperados','Muertos','Tests_diario'],color=['blue',\"green\",'red','grey'],figsize=(8,12),subplots='true',style='.-',grid='on',title='Covid-19 Argentina Total \\n www.github.com/rodri16/CovidArgentinaGraficos',linewidth=2, marker='o')#df[df['Contagios_tot'] > 100]\n",
    "    \n",
    "name='Graficos/Todos_diario_sub_'+df.index[-1].strftime(\"%d%b\")#str(df.index[-1])+'.png'\n",
    "plt.savefig(name)"
   ]
  },
  {
   "cell_type": "markdown",
   "metadata": {},
   "source": [
    "### Grafico de totales igual al anterior pero en escala logaritmica, se pueden ver un poco mejor lo valores chicos con respecto a los grandes pero es un poco tricky"
   ]
  },
  {
   "cell_type": "code",
   "execution_count": null,
   "metadata": {
    "scrolled": true
   },
   "outputs": [],
   "source": [
    "import matplotlib.ticker as mticker\n",
    "ax=df.plot(y=['Contagios_tot','Recuperados_tot','Muertos_tot',\"Activos_tot\"],color=['blue',\"green\",'red','grey'],logy=\"sym\", style='-',grid='on',figsize=(10,8),linewidth=3, marker='o')\n",
    "plt.title('Covid-19 Argentina Total',fontsize=14)\n",
    "plt.xlabel('Fecha', fontsize=14)\n",
    "plt.ylabel('Cantidad en escala log', fontsize=14)\n",
    "plt.legend(['Contagios total','Recuperados total','Muertos total',\"Activos total\"],loc='upper left');\n",
    "ax.yaxis.set_major_formatter(mticker.ScalarFormatter())\n",
    "\n",
    "for var in (df.Contagios_tot,df.Recuperados_tot,df.Muertos_tot,df.Activos_tot):\n",
    "    plt.annotate('%d' % var.max(), xy=(1, var.max()), xytext=(8, 0), \n",
    "                 xycoords=('axes fraction', 'data'), textcoords='offset points')\n",
    "\n",
    "plt.gca().set_ylim(bottom=0)\n",
    "\n",
    "name='Graficos/Contagios_tot_log'+df.index[-1].strftime(\"%d%b\")#str(df.index[-1])+'.png'\n",
    "#plt.savefig(name)"
   ]
  },
  {
   "cell_type": "markdown",
   "metadata": {},
   "source": [
    "### Agrego los test en escala logaritmica, aca se pueden ver todos los datos juntos gracias a la escala log"
   ]
  },
  {
   "cell_type": "code",
   "execution_count": null,
   "metadata": {},
   "outputs": [],
   "source": [
    "import matplotlib.ticker as mticker\n",
    "ax=df.plot(y=['Contagios_tot','Recuperados_tot','Muertos_tot',\"Activos_tot\",\"Tests\"],color=['blue',\"green\",'red','grey','purple'],logy=\"sym\", style='-',grid='on',figsize=(10,8),linewidth=3, marker='o')\n",
    "plt.title('Covid-19 Argentina Total',fontsize=14)\n",
    "plt.xlabel('Fecha', fontsize=14)\n",
    "plt.ylabel('Cantidad en escala log', fontsize=14)\n",
    "plt.legend(['Contagios total','Recuperados total','Muertos total',\"Activos total\",\"Tests\"],loc='upper left');\n",
    "ax.yaxis.set_major_formatter(mticker.ScalarFormatter())\n",
    "\n",
    "for var in (df.Contagios_tot,df.Recuperados_tot,df.Muertos_tot,df.Activos_tot,df.Tests):\n",
    "    plt.annotate('%d' % var.max(), xy=(1, var.max()), xytext=(8, 0), \n",
    "                 xycoords=('axes fraction', 'data'), textcoords='offset points')\n",
    "\n",
    "plt.gca().set_ylim(bottom=0)\n",
    "\n",
    "name='Graficos/Contagios_totTests_log'+df.index[-1].strftime(\"%d%b\")#str(df.index[-1])+'.png'\n",
    "plt.savefig(name)"
   ]
  },
  {
   "cell_type": "markdown",
   "metadata": {},
   "source": [
    "### Asi sin escala log, se ve la diferencia!!"
   ]
  },
  {
   "cell_type": "code",
   "execution_count": null,
   "metadata": {},
   "outputs": [],
   "source": [
    "import matplotlib.ticker as mticker\n",
    "ax=df.plot(y=['Contagios_tot','Recuperados_tot','Muertos_tot',\"Activos_tot\",\"Tests\"], style='-',grid='on',figsize=(10,8),linewidth=3, marker='o')\n",
    "plt.title('Covid-19 Argentina Total',fontsize=14)\n",
    "plt.xlabel('Fecha', fontsize=14)\n",
    "plt.ylabel('Cantidad total', fontsize=14)\n",
    "plt.legend(['Contagios total','Recuperados total','Muertos total',\"Activos total\",\"Tests\"],loc='upper left');\n",
    "ax.yaxis.set_major_formatter(mticker.ScalarFormatter())\n",
    "\n",
    "for var in (df.Contagios_tot,df.Recuperados_tot,df.Muertos_tot,df.Activos_tot,df.Tests):\n",
    "    plt.annotate('%d' % var.max(), xy=(1, var.max()), xytext=(8, 0), \n",
    "                 xycoords=('axes fraction', 'data'), textcoords='offset points')\n"
   ]
  },
  {
   "cell_type": "markdown",
   "metadata": {},
   "source": [
    "### Grafico de barras del total de contagios y activos"
   ]
  },
  {
   "cell_type": "code",
   "execution_count": null,
   "metadata": {},
   "outputs": [],
   "source": [
    "ax=df.plot.bar(y=['Contagios_tot','Activos_tot'],color=['blue','green'],figsize=(10,8),width=0.9)\n",
    "plt.gca().xaxis.set_major_formatter(plt.FixedFormatter(df.index.to_series().dt.strftime(\"%d %b\")))\n",
    "\n",
    "plt.title('Covid-19 Argentina Total',fontsize=14)\n",
    "plt.xlabel('Fecha', fontsize=14)\n",
    "plt.ylabel('Cantidad', fontsize=14)\n",
    "plt.legend(['Contagios', \"Activos\"],loc='upper left');\n",
    "plt.grid(axis='y')\n",
    "\n",
    "#numeros arriba de la barra\n",
    "for p in ax.patches:\n",
    "    ax.annotate(int(p.get_height()), (p.get_x() * 1.005, p.get_height() * 1.005), rotation=90)\n",
    "\n",
    "name='Graficos/Contagios_totBar_'+df.index[-1].strftime(\"%d%b\")#str(df.index[-1])+'.png'\n",
    "#plt.savefig(name)"
   ]
  },
  {
   "cell_type": "markdown",
   "metadata": {},
   "source": [
    "### Subplots"
   ]
  },
  {
   "cell_type": "code",
   "execution_count": null,
   "metadata": {},
   "outputs": [],
   "source": [
    "df.plot(y=['Contagios_tot','Muertos_tot', 'Recuperados_tot'],color=['blue','red','green'],figsize=(8,8),subplots='true',style='.-',grid='on',title='Covid-19 Argentina Total',linewidth=2, marker='o')#df[df['Contagios_tot'] > 100]\n",
    "\n",
    "name='Graficos/Contagios_tot100_'+df.index[-1].strftime(\"%d%b\")#str(df.index[-1])+'.png'\n",
    "plt.savefig(name)"
   ]
  },
  {
   "cell_type": "code",
   "execution_count": null,
   "metadata": {},
   "outputs": [],
   "source": [
    "df.plot(y=['Contagios_tot','Muertos_tot', 'Recuperados_tot',\"Tests\"],color=['blue','red','green','yellow'],figsize=(8,12),subplots='true',style='.-',grid='on',title='Covid-19 Argentina Total',linewidth=2, marker='o')#df[df['Contagios_tot'] > 100]\n",
    "\n",
    "name='Graficos/Todos_tot_'+df.index[-1].strftime(\"%d%b\")#str(df.index[-1])+'.png'\n",
    "plt.savefig(name)"
   ]
  },
  {
   "cell_type": "markdown",
   "metadata": {},
   "source": [
    "### Grafico en escala log"
   ]
  },
  {
   "cell_type": "code",
   "execution_count": null,
   "metadata": {},
   "outputs": [],
   "source": [
    "ax=df.plot(y=['Contagios_tot'],color=['blue'],figsize=(8,8),style='.-',grid='on',linewidth=2,logy=\"sym\", marker='o')#df[df['Muertos_tot'] > 10]\n",
    "plt.ylabel('Cantidad en escala logaritmica', fontsize=14)\n",
    "ax.yaxis.set_major_formatter(mticker.ScalarFormatter())\n",
    "\n",
    "name='Graficos/Contagios_tot_log_'+df.index[-1].strftime(\"%d%b\")#str(df.index[-1])+'.png'\n",
    "#plt.savefig(name)"
   ]
  },
  {
   "cell_type": "code",
   "execution_count": null,
   "metadata": {},
   "outputs": [],
   "source": [
    "ax=df.plot(y=['Muertos_tot'],color=['red'],figsize=(8,8),subplots='true',style='.-',grid='on',logy=\"sym\",linewidth=2, marker='o')#df[df['Muertos_tot'] > 10]\n",
    "plt.ylabel('Cantidad escala log', fontsize=14)\n",
    "plt.annotate('%d' % df.Muertos_tot.max(), xy=(1, df.Muertos_tot.max()), xytext=(8, 0), \n",
    "                 xycoords=('axes fraction', 'data'), textcoords='offset points')\n",
    "name='Graficos/Muertos_tot10_'+df.index[-1].strftime(\"%d%b\")#str(df.index[-1])+'.png'\n",
    "#plt.savefig(name)"
   ]
  },
  {
   "cell_type": "code",
   "execution_count": null,
   "metadata": {},
   "outputs": [],
   "source": [
    "ax=df.plot(y=['Tests'],color=['yellow'],figsize=(8,8),subplots='true',style='.-',grid='on',logy=\"sym\",linewidth=2, marker='o')#df[df['Muertos_tot'] > 10]\n",
    "plt.ylabel('Cantidad', fontsize=14)\n",
    "plt.annotate('%d' % df.Tests.max(), xy=(1, df.Tests.max()), xytext=(8, 0), \n",
    "                 xycoords=('axes fraction', 'data'), textcoords='offset points')\n",
    "name='Graficos/Test_tot_'+df.index[-1].strftime(\"%d%b\")#str(df.index[-1])+'.png'\n",
    "#plt.savefig(name)"
   ]
  },
  {
   "cell_type": "markdown",
   "metadata": {},
   "source": [
    "### Como quedo la tabla"
   ]
  },
  {
   "cell_type": "code",
   "execution_count": null,
   "metadata": {
    "scrolled": false
   },
   "outputs": [],
   "source": [
    "df.describe()"
   ]
  },
  {
   "cell_type": "markdown",
   "metadata": {},
   "source": [
    "## Meto todos los datos de la tabla en un archivo .csv  con la fecha"
   ]
  },
  {
   "cell_type": "code",
   "execution_count": null,
   "metadata": {},
   "outputs": [],
   "source": [
    "name='csv _datos_completos/Covid_arg_completo'+df.index[-1].strftime(\"%d%b\")+'.csv'#str(df.index[-1])\n",
    "df.to_csv(name, index=True)"
   ]
  },
  {
   "cell_type": "markdown",
   "metadata": {},
   "source": [
    "### Probando interpolaciones..."
   ]
  },
  {
   "cell_type": "code",
   "execution_count": null,
   "metadata": {
    "scrolled": true
   },
   "outputs": [],
   "source": [
    "import numpy as np\n",
    "N=3\n",
    "df[\"Contagios_MA\"]=df.Contagios.rolling(window=N).mean()\n",
    "df[\"Recuperados_MA\"]=df.Recuperados.rolling(window=N).mean()\n",
    "df[\"Muertos_MA\"]=df.Muertos.rolling(window=N).mean()\n",
    "ax=df.plot(y=['Contagios_MA','Recuperados_MA','Muertos_MA'], legend='true',style='-',grid='on',figsize=(10,8),linewidth=3, marker='o')\n",
    "plt.title('Covid-19 Argentina Tasa diaria (media de 3 dias)',fontsize=14)\n",
    "plt.legend(['Contagios', 'Recuperados',\"Muertos\"],loc='upper left');\n",
    "plt.ylabel('Cantidad', fontsize=14)\n",
    "\n",
    "name='Graficos/TasaDiariaMA_'+df.index[-1].strftime(\"%d%b\")#str(df.index[-1])+'.png'\n",
    "#plt.savefig(name)"
   ]
  },
  {
   "cell_type": "markdown",
   "metadata": {},
   "source": [
    "### Relacion entre nuevos contagios y gente testeada"
   ]
  },
  {
   "cell_type": "code",
   "execution_count": null,
   "metadata": {},
   "outputs": [],
   "source": [
    "df['cont_test']=df['Contagios']/df['Tests_diario']*100\n",
    "df[df.index > '2020-4-2']['cont_test'].plot(legend='true',style='-',grid='on',figsize=(10,8),linewidth=3, marker='o')\n",
    "plt.title('Covid-19 Argentina Contagios vs tests - www.github.com/rodri16/CovidArgentinaGraficos',fontsize=14)\n",
    "plt.legend(['Contagios vs tests'],loc='upper left');\n",
    "plt.ylabel('%', fontsize=14)\n",
    "\n",
    "name='Graficos/Tasa_Cont_Test'+df.index[-1].strftime(\"%d%b\")#str(df.index[-1])+'.png'\n",
    "plt.savefig(name)"
   ]
  },
  {
   "cell_type": "code",
   "execution_count": null,
   "metadata": {},
   "outputs": [],
   "source": [
    "df.tail(5)"
   ]
  },
  {
   "cell_type": "code",
   "execution_count": null,
   "metadata": {},
   "outputs": [],
   "source": []
  }
 ],
 "metadata": {
  "anaconda-cloud": {},
  "kernelspec": {
   "display_name": "Python 3",
   "language": "python",
   "name": "python3"
  },
  "language_info": {
   "codemirror_mode": {
    "name": "ipython",
    "version": 3
   },
   "file_extension": ".py",
   "mimetype": "text/x-python",
   "name": "python",
   "nbconvert_exporter": "python",
   "pygments_lexer": "ipython3",
   "version": "3.7.7"
  }
 },
 "nbformat": 4,
 "nbformat_minor": 1
}
